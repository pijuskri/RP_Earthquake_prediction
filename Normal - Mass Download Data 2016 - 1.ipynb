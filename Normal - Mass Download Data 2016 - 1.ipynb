{
 "cells": [
  {
   "cell_type": "code",
   "execution_count": 2,
   "id": "0aef4291",
   "metadata": {},
   "outputs": [],
   "source": [
    "import mpl_toolkits\n",
    "import matplotlib.pyplot as plt\n",
    "import pandas as pd\n",
    "import geopandas as gpd\n",
    "import numpy as np\n",
    "import pickle\n",
    "import os\n",
    "import logging\n",
    "from obspy import read\n",
    "import time\n",
    "\n",
    "\n",
    "from obspy.clients.fdsn.mass_downloader import RectangularDomain, Restrictions, MassDownloader\n",
    "from scipy import signal\n",
    "from obspy import UTCDateTime\n",
    "from obspy.clients.fdsn import Client as FDSN_Client\n",
    "from obspy import read_inventory\n",
    "import asyncio\n",
    "from itertools import islice\n",
    "from itertools import tee"
   ]
  },
  {
   "cell_type": "code",
   "execution_count": 12,
   "id": "7db0d9ae",
   "metadata": {},
   "outputs": [
    {
     "name": "stdout",
     "output_type": "stream",
     "text": [
      "(13097, 7)\n"
     ]
    }
   ],
   "source": [
    "#events_df = pd.read_pickle('data/events_processed.pkl')\n",
    "#events_df = pd.read_pickle('data/events_deep_processed.pkl')\n",
    "events_df = pd.read_pickle('data/events_shallow_processed.pkl')\n",
    "stations_df = pd.read_pickle('data/stations_processed.pkl')\n",
    "\n",
    "selected_stations = ['BFZ', 'BKZ', 'DCZ', 'DSZ', 'HIZ', 'JCZ', 'KHZ', 'KUZ', 'LBZ',\n",
    "                        'MSZ', 'MWZ', 'MXZ', 'NNZ', 'ODZ', 'OPRZ', 'OUZ', 'PUZ', 'PXZ', 'QRZ', 'RPZ',\n",
    "                         'SYZ', 'THZ', 'TOZ', 'URZ', 'VRZ', 'WHZ', 'WIZ', 'WKZ', 'WVZ']\n",
    "\n",
    "#events_full = events_df[(events_df.time > '2016-01-01') & (events_df.time < '2017-01-01')]\n",
    "events_full = events_df\n",
    "print(events_full.shape)\n",
    "folder = \"active\" # normal/active\n",
    "single = False # should download only closest?\n",
    "station_to_get = None#selected_stations[0]\n",
    "all_station_string = \",\".join([station.station_code for j, station in stations_df.iterrows()])\n",
    "existing_event_files = os.listdir(f'datasets/{folder}/waveforms/smi_nz.org.geonet/')\n",
    "#e_df['event_id'] = events_df['event_id'].apply(lambda x: x.split(\"/\")[1])\n",
    "events = events_full"
   ]
  },
  {
   "cell_type": "code",
   "execution_count": 4,
   "id": "5cdb2bf4-417e-4e7c-8579-75d2d13f5733",
   "metadata": {},
   "outputs": [
    {
     "data": {
      "text/plain": [
       "(28, 4)"
      ]
     },
     "execution_count": 4,
     "metadata": {},
     "output_type": "execute_result"
    }
   ],
   "source": [
    "events = events_full#[0:3000]\n",
    "stations_df.shape"
   ]
  },
  {
   "cell_type": "code",
   "execution_count": 5,
   "id": "d0cba9d3",
   "metadata": {
    "tags": []
   },
   "outputs": [
    {
     "name": "stderr",
     "output_type": "stream",
     "text": [
      "[2022-06-13 01:11:25,284] - obspy.clients.fdsn.mass_downloader - INFO: Initializing FDSN client(s) for GEONET.\n",
      "[2022-06-13 01:11:25,938] - obspy.clients.fdsn.mass_downloader - INFO: Successfully initialized 1 client(s): GEONET.\n"
     ]
    }
   ],
   "source": [
    "mdl = MassDownloader(providers=['GEONET'])"
   ]
  },
  {
   "cell_type": "code",
   "execution_count": 6,
   "id": "ef9b2922",
   "metadata": {},
   "outputs": [],
   "source": [
    "def mass_data_downloader(start, stop, event_id, Station,\n",
    "                         Network='NZ', \n",
    "                         Channel='HHZ', \n",
    "                         Location=10,\n",
    "                         folder='normal'\n",
    "                         ):\n",
    "    '''\n",
    "    This function uses the FDSN mass data downloader to automatically download\n",
    "    data from the XH network deployed on the RIS from Nov 2014 - Nov 2016.\n",
    "    More information on the Obspy mass downloader available at:\n",
    "    https://docs.obspy.org/packages/autogen/obspy.clients.fdsn.mass_downloader.html\n",
    "    Inputs:\n",
    "    start: \"YYYYMMDD\"\n",
    "    stop:  \"YYYYMMDD\"\n",
    "    Network: 2-character FDSN network code\n",
    "    Station: 2-character station code\n",
    "    Channel: 3-character channel code\n",
    "    Location: 10.\n",
    "    '''\n",
    "    #print(\"=\" * 65)\n",
    "    #print(\"Initiating mass download request.\")\n",
    "    #print('downloading: ',event_id)\n",
    "\n",
    "    domain = RectangularDomain(\n",
    "        minlatitude=-47.749,\n",
    "        maxlatitude=-33.779,\n",
    "        minlongitude=166.104,\n",
    "        maxlongitude=178.990\n",
    "    )\n",
    "\n",
    "    restrictions = Restrictions(\n",
    "        starttime = start,\n",
    "        endtime = stop,\n",
    "        chunklength_in_sec = None,\n",
    "        network = Network,\n",
    "        station = Station,\n",
    "        location = Location,\n",
    "        channel = Channel,\n",
    "        reject_channels_with_gaps = False,\n",
    "        minimum_length = 0.0,\n",
    "        minimum_interstation_distance_in_m = 100.0\n",
    "    )\n",
    "\n",
    "    #mdl = MassDownloader(providers=['GEONET'])\n",
    "    ev_str = str(event_id).replace(\":\", \"_\")\n",
    "    try:\n",
    "        mdl.download(\n",
    "            domain,\n",
    "            restrictions,\n",
    "            mseed_storage=f\"datasets/{folder}/waveforms/{ev_str}\",\n",
    "            stationxml_storage=f\"datasets/{folder}/stations\",\n",
    "        )\n",
    "    except:\n",
    "        pass\n",
    "    #print('done: ',event_id)\n",
    "\n",
    "logger = logging.getLogger(\"obspy.clients.fdsn.mass_downloader\")\n",
    "logger.setLevel(logging.WARNING)"
   ]
  },
  {
   "cell_type": "code",
   "execution_count": 6,
   "id": "ae9a12ed",
   "metadata": {
    "jupyter": {
     "source_hidden": true
    },
    "tags": []
   },
   "outputs": [],
   "source": [
    "#async def final_download():\n",
    "#    for i, event in events.iterrows():\n",
    "#        event_id = event.event_id\n",
    "#        event_time = event['time']  \n",
    "#        start=event_time - T_event\n",
    "#        end=event_time + H_event\n",
    "#        \n",
    "#        print(\"=\" * 65)\n",
    "#        print(\"Initiating mass download request.\")\n",
    "#        print(event_id)\n",
    "#        #asyncio.run(main())\n",
    "#        #tasks = [download_st(start, end, event_id, station) for j, station in stations_df.iterrows()]\n",
    "#        \n",
    "#        #tasks = [asyncio.to_thread(mass_data_downloader, start, end, event_id, station.station_code) for j, station in stations_df.iterrows()]\n",
    "#        #print(len(tasks))\n",
    "#        #await asyncio.gather(*tasks)\n",
    "#        stations = \",\".join([station.station_code for j, station in stations_df.iterrows()])\n",
    "#        mass_data_downloader(start, end, event_id, stations)\n",
    "#"
   ]
  },
  {
   "cell_type": "code",
   "execution_count": 13,
   "id": "448b7386",
   "metadata": {
    "tags": []
   },
   "outputs": [
    {
     "name": "stdout",
     "output_type": "stream",
     "text": [
      "active 10\n",
      "100 threads took 0.0 seconds\n"
     ]
    },
    {
     "name": "stderr",
     "output_type": "stream",
     "text": [
      "[2022-06-13 01:28:26,376] - obspy.clients.fdsn.mass_downloader - WARNING: Station information could not be downloaded for NZ.DCZ.10.HHZ. MiniSEED files outside of the station information period will be deleted!\n",
      "[2022-06-13 01:28:26,377] - obspy.clients.fdsn.mass_downloader - WARNING: Station information could not be downloaded for NZ.RPZ.10.HHZ. MiniSEED files outside of the station information period will be deleted!\n",
      "[2022-06-13 01:28:26,846] - obspy.clients.fdsn.mass_downloader - WARNING: Station information could not be downloaded for NZ.RPZ.10.HHZ. MiniSEED files outside of the station information period will be deleted!\n"
     ]
    },
    {
     "name": "stdout",
     "output_type": "stream",
     "text": [
      "100 threads took 33.3 seconds\n"
     ]
    },
    {
     "name": "stderr",
     "output_type": "stream",
     "text": [
      "[2022-06-13 01:29:00,571] - obspy.clients.fdsn.mass_downloader - WARNING: Station information could not be downloaded for NZ.DCZ.10.HHZ. MiniSEED files outside of the station information period will be deleted!\n",
      "[2022-06-13 01:29:16,159] - obspy.clients.fdsn.mass_downloader - WARNING: Station information could not be downloaded for NZ.MWZ.10.HHZ. MiniSEED files outside of the station information period will be deleted!\n",
      "[2022-06-13 01:29:16,195] - obspy.clients.fdsn.mass_downloader - WARNING: Station information could not be downloaded for NZ.MWZ.10.HHZ. MiniSEED files outside of the station information period will be deleted!\n",
      "[2022-06-13 01:29:16,275] - obspy.clients.fdsn.mass_downloader - WARNING: Station information could not be downloaded for NZ.MWZ.10.HHZ. MiniSEED files outside of the station information period will be deleted!\n",
      "[2022-06-13 01:29:29,930] - obspy.clients.fdsn.mass_downloader - WARNING: Station information could not be downloaded for NZ.DCZ.10.HHZ. MiniSEED files outside of the station information period will be deleted!\n"
     ]
    },
    {
     "name": "stdout",
     "output_type": "stream",
     "text": [
      "100 threads took 50.3 seconds\n"
     ]
    },
    {
     "name": "stderr",
     "output_type": "stream",
     "text": [
      "[2022-06-13 01:29:47,661] - obspy.clients.fdsn.mass_downloader - WARNING: Station information could not be downloaded for NZ.DCZ.10.HHZ. MiniSEED files outside of the station information period will be deleted!\n",
      "[2022-06-13 01:29:47,663] - obspy.clients.fdsn.mass_downloader - WARNING: Station information could not be downloaded for NZ.MWZ.10.HHZ. MiniSEED files outside of the station information period will be deleted!\n",
      "[2022-06-13 01:29:47,664] - obspy.clients.fdsn.mass_downloader - WARNING: Station information could not be downloaded for NZ.OPRZ.10.HHZ. MiniSEED files outside of the station information period will be deleted!\n",
      "[2022-06-13 01:29:48,650] - obspy.clients.fdsn.mass_downloader - WARNING: Station information could not be downloaded for NZ.RPZ.10.HHZ. MiniSEED files outside of the station information period will be deleted!\n"
     ]
    },
    {
     "name": "stdout",
     "output_type": "stream",
     "text": [
      "100 threads took 37.1 seconds\n"
     ]
    },
    {
     "name": "stderr",
     "output_type": "stream",
     "text": [
      "[2022-06-13 01:30:47,164] - obspy.clients.fdsn.mass_downloader - WARNING: Station information could not be downloaded for NZ.OPRZ.10.HHZ. MiniSEED files outside of the station information period will be deleted!\n",
      "[2022-06-13 01:30:47,165] - obspy.clients.fdsn.mass_downloader - WARNING: Station information could not be downloaded for NZ.VRZ.10.HHZ. MiniSEED files outside of the station information period will be deleted!\n",
      "[2022-06-13 01:30:47,172] - obspy.clients.fdsn.mass_downloader - WARNING: Station information could not be downloaded for NZ.VRZ.10.HHZ. MiniSEED files outside of the station information period will be deleted!\n"
     ]
    },
    {
     "name": "stdout",
     "output_type": "stream",
     "text": [
      "100 threads took 49.2 seconds\n"
     ]
    },
    {
     "name": "stderr",
     "output_type": "stream",
     "text": [
      "[2022-06-13 01:31:17,991] - obspy.clients.fdsn.mass_downloader - WARNING: Station information could not be downloaded for NZ.OPRZ.10.HHZ. MiniSEED files outside of the station information period will be deleted!\n",
      "[2022-06-13 01:31:18,320] - obspy.clients.fdsn.mass_downloader - WARNING: Station information could not be downloaded for NZ.DCZ.10.HHZ. MiniSEED files outside of the station information period will be deleted!\n",
      "[2022-06-13 01:31:18,321] - obspy.clients.fdsn.mass_downloader - WARNING: Station information could not be downloaded for NZ.RPZ.10.HHZ. MiniSEED files outside of the station information period will be deleted!\n",
      "[2022-06-13 01:31:18,500] - obspy.clients.fdsn.mass_downloader - WARNING: Station information could not be downloaded for NZ.DCZ.10.HHZ. MiniSEED files outside of the station information period will be deleted!\n",
      "[2022-06-13 01:31:18,636] - obspy.clients.fdsn.mass_downloader - WARNING: Station information could not be downloaded for NZ.DCZ.10.HHZ. MiniSEED files outside of the station information period will be deleted!\n"
     ]
    },
    {
     "name": "stdout",
     "output_type": "stream",
     "text": [
      "100 threads took 52.4 seconds\n"
     ]
    },
    {
     "name": "stderr",
     "output_type": "stream",
     "text": [
      "[2022-06-13 01:32:10,676] - obspy.clients.fdsn.mass_downloader - WARNING: Station information could not be downloaded for NZ.DCZ.10.HHZ. MiniSEED files outside of the station information period will be deleted!\n",
      "[2022-06-13 01:32:10,682] - obspy.clients.fdsn.mass_downloader - WARNING: Station information could not be downloaded for NZ.MWZ.10.HHZ. MiniSEED files outside of the station information period will be deleted!\n",
      "[2022-06-13 01:32:10,683] - obspy.clients.fdsn.mass_downloader - WARNING: Station information could not be downloaded for NZ.OPRZ.10.HHZ. MiniSEED files outside of the station information period will be deleted!\n",
      "[2022-06-13 01:32:10,684] - obspy.clients.fdsn.mass_downloader - WARNING: Station information could not be downloaded for NZ.VRZ.10.HHZ. MiniSEED files outside of the station information period will be deleted!\n",
      "[2022-06-13 01:32:10,685] - obspy.clients.fdsn.mass_downloader - WARNING: Station information could not be downloaded for NZ.WVZ.10.HHZ. MiniSEED files outside of the station information period will be deleted!\n",
      "[2022-06-13 01:32:11,150] - obspy.clients.fdsn.mass_downloader - WARNING: Station information could not be downloaded for NZ.RPZ.10.HHZ. MiniSEED files outside of the station information period will be deleted!\n",
      "[2022-06-13 01:32:11,151] - obspy.clients.fdsn.mass_downloader - WARNING: Station information could not be downloaded for NZ.WVZ.10.HHZ. MiniSEED files outside of the station information period will be deleted!\n",
      "[2022-06-13 01:32:11,783] - obspy.clients.fdsn.mass_downloader - WARNING: Station information could not be downloaded for NZ.MWZ.10.HHZ. MiniSEED files outside of the station information period will be deleted!\n",
      "[2022-06-13 01:32:11,784] - obspy.clients.fdsn.mass_downloader - WARNING: Station information could not be downloaded for NZ.OPRZ.10.HHZ. MiniSEED files outside of the station information period will be deleted!\n",
      "[2022-06-13 01:32:11,785] - obspy.clients.fdsn.mass_downloader - WARNING: Station information could not be downloaded for NZ.WVZ.10.HHZ. MiniSEED files outside of the station information period will be deleted!\n",
      "[2022-06-13 01:32:12,072] - obspy.clients.fdsn.mass_downloader - WARNING: Station information could not be downloaded for NZ.VRZ.10.HHZ. MiniSEED files outside of the station information period will be deleted!\n",
      "[2022-06-13 01:32:29,421] - obspy.clients.fdsn.mass_downloader - WARNING: Station information could not be downloaded for NZ.MWZ.10.HHZ. MiniSEED files outside of the station information period will be deleted!\n",
      "[2022-06-13 01:32:29,422] - obspy.clients.fdsn.mass_downloader - WARNING: Station information could not be downloaded for NZ.RPZ.10.HHZ. MiniSEED files outside of the station information period will be deleted!\n"
     ]
    },
    {
     "name": "stdout",
     "output_type": "stream",
     "text": [
      "100 threads took 56.1 seconds\n"
     ]
    },
    {
     "name": "stderr",
     "output_type": "stream",
     "text": [
      "[2022-06-13 01:33:24,202] - obspy.clients.fdsn.mass_downloader - WARNING: Station information could not be downloaded for NZ.MWZ.10.HHZ. MiniSEED files outside of the station information period will be deleted!\n",
      "[2022-06-13 01:33:24,203] - obspy.clients.fdsn.mass_downloader - WARNING: Station information could not be downloaded for NZ.OPRZ.10.HHZ. MiniSEED files outside of the station information period will be deleted!\n",
      "[2022-06-13 01:33:24,668] - obspy.clients.fdsn.mass_downloader - WARNING: Station information could not be downloaded for NZ.VRZ.10.HHZ. MiniSEED files outside of the station information period will be deleted!\n",
      "[2022-06-13 01:33:24,669] - obspy.clients.fdsn.mass_downloader - WARNING: Station information could not be downloaded for NZ.WVZ.10.HHZ. MiniSEED files outside of the station information period will be deleted!\n"
     ]
    },
    {
     "name": "stdout",
     "output_type": "stream",
     "text": [
      "100 threads took 51.7 seconds\n"
     ]
    },
    {
     "name": "stderr",
     "output_type": "stream",
     "text": [
      "[2022-06-13 01:33:56,393] - obspy.clients.fdsn.mass_downloader - WARNING: Station information could not be downloaded for NZ.DCZ.10.HHZ. MiniSEED files outside of the station information period will be deleted!\n",
      "[2022-06-13 01:33:56,394] - obspy.clients.fdsn.mass_downloader - WARNING: Station information could not be downloaded for NZ.MWZ.10.HHZ. MiniSEED files outside of the station information period will be deleted!\n",
      "[2022-06-13 01:33:56,396] - obspy.clients.fdsn.mass_downloader - WARNING: Station information could not be downloaded for NZ.OPRZ.10.HHZ. MiniSEED files outside of the station information period will be deleted!\n",
      "[2022-06-13 01:34:10,621] - obspy.clients.fdsn.mass_downloader - WARNING: Station information could not be downloaded for NZ.DCZ.10.HHZ. MiniSEED files outside of the station information period will be deleted!\n",
      "[2022-06-13 01:34:16,288] - obspy.clients.fdsn.mass_downloader - WARNING: Station information could not be downloaded for NZ.OPRZ.10.HHZ. MiniSEED files outside of the station information period will be deleted!\n",
      "[2022-06-13 01:34:16,695] - obspy.clients.fdsn.mass_downloader - WARNING: Station information could not be downloaded for NZ.DCZ.10.HHZ. MiniSEED files outside of the station information period will be deleted!\n"
     ]
    },
    {
     "name": "stdout",
     "output_type": "stream",
     "text": [
      "100 threads took 54.3 seconds\n"
     ]
    },
    {
     "name": "stderr",
     "output_type": "stream",
     "text": [
      "[2022-06-13 01:34:49,382] - obspy.clients.fdsn.mass_downloader - WARNING: Station information could not be downloaded for NZ.DCZ.10.HHZ. MiniSEED files outside of the station information period will be deleted!\n",
      "[2022-06-13 01:35:05,814] - obspy.clients.fdsn.mass_downloader - WARNING: Station information could not be downloaded for NZ.MWZ.10.HHZ. MiniSEED files outside of the station information period will be deleted!\n",
      "[2022-06-13 01:35:05,816] - obspy.clients.fdsn.mass_downloader - WARNING: Station information could not be downloaded for NZ.OPRZ.10.HHZ. MiniSEED files outside of the station information period will be deleted!\n"
     ]
    },
    {
     "name": "stdout",
     "output_type": "stream",
     "text": [
      "100 threads took 44.9 seconds\n"
     ]
    },
    {
     "name": "stderr",
     "output_type": "stream",
     "text": [
      "[2022-06-13 01:35:29,957] - obspy.clients.fdsn.mass_downloader - WARNING: Station information could not be downloaded for NZ.MWZ.10.HHZ. MiniSEED files outside of the station information period will be deleted!\n",
      "[2022-06-13 01:35:29,958] - obspy.clients.fdsn.mass_downloader - WARNING: Station information could not be downloaded for NZ.VRZ.10.HHZ. MiniSEED files outside of the station information period will be deleted!\n",
      "[2022-06-13 01:35:35,209] - obspy.clients.fdsn.mass_downloader - WARNING: Station information could not be downloaded for NZ.MWZ.10.HHZ. MiniSEED files outside of the station information period will be deleted!\n",
      "[2022-06-13 01:35:36,023] - obspy.clients.fdsn.mass_downloader - WARNING: Station information could not be downloaded for NZ.MWZ.10.HHZ. MiniSEED files outside of the station information period will be deleted!\n",
      "[2022-06-13 01:35:36,024] - obspy.clients.fdsn.mass_downloader - WARNING: Station information could not be downloaded for NZ.OPRZ.10.HHZ. MiniSEED files outside of the station information period will be deleted!\n",
      "[2022-06-13 01:35:36,025] - obspy.clients.fdsn.mass_downloader - WARNING: Station information could not be downloaded for NZ.VRZ.10.HHZ. MiniSEED files outside of the station information period will be deleted!\n",
      "[2022-06-13 01:35:36,026] - obspy.clients.fdsn.mass_downloader - WARNING: Station information could not be downloaded for NZ.WVZ.10.HHZ. MiniSEED files outside of the station information period will be deleted!\n",
      "[2022-06-13 01:35:42,445] - obspy.clients.fdsn.mass_downloader - WARNING: Station information could not be downloaded for NZ.DCZ.10.HHZ. MiniSEED files outside of the station information period will be deleted!\n"
     ]
    },
    {
     "name": "stdout",
     "output_type": "stream",
     "text": [
      "100 threads took 42.4 seconds\n"
     ]
    },
    {
     "name": "stderr",
     "output_type": "stream",
     "text": [
      "[2022-06-13 01:36:16,524] - obspy.clients.fdsn.mass_downloader - WARNING: Station information could not be downloaded for NZ.VRZ.10.HHZ. MiniSEED files outside of the station information period will be deleted!\n",
      "[2022-06-13 01:36:16,860] - obspy.clients.fdsn.mass_downloader - WARNING: Station information could not be downloaded for NZ.MWZ.10.HHZ. MiniSEED files outside of the station information period will be deleted!\n",
      "[2022-06-13 01:36:29,763] - obspy.clients.fdsn.mass_downloader - WARNING: Station information could not be downloaded for NZ.WVZ.10.HHZ. MiniSEED files outside of the station information period will be deleted!\n"
     ]
    },
    {
     "name": "stdout",
     "output_type": "stream",
     "text": [
      "100 threads took 42.9 seconds\n"
     ]
    },
    {
     "name": "stderr",
     "output_type": "stream",
     "text": [
      "[2022-06-13 01:36:54,581] - obspy.clients.fdsn.mass_downloader - WARNING: Station information could not be downloaded for NZ.RPZ.10.HHZ. MiniSEED files outside of the station information period will be deleted!\n",
      "[2022-06-13 01:36:56,063] - obspy.clients.fdsn.mass_downloader - WARNING: Station information could not be downloaded for NZ.OPRZ.10.HHZ. MiniSEED files outside of the station information period will be deleted!\n",
      "[2022-06-13 01:36:57,852] - obspy.clients.fdsn.mass_downloader - WARNING: Station information could not be downloaded for NZ.DCZ.10.HHZ. MiniSEED files outside of the station information period will be deleted!\n",
      "[2022-06-13 01:36:57,853] - obspy.clients.fdsn.mass_downloader - WARNING: Station information could not be downloaded for NZ.RPZ.10.HHZ. MiniSEED files outside of the station information period will be deleted!\n",
      "[2022-06-13 01:36:58,887] - obspy.clients.fdsn.mass_downloader - WARNING: Station information could not be downloaded for NZ.MWZ.10.HHZ. MiniSEED files outside of the station information period will be deleted!\n",
      "[2022-06-13 01:36:59,770] - obspy.clients.fdsn.mass_downloader - WARNING: Station information could not be downloaded for NZ.RPZ.10.HHZ. MiniSEED files outside of the station information period will be deleted!\n",
      "[2022-06-13 01:37:08,264] - obspy.clients.fdsn.mass_downloader - WARNING: Station information could not be downloaded for NZ.VRZ.10.HHZ. MiniSEED files outside of the station information period will be deleted!\n",
      "[2022-06-13 01:37:08,458] - obspy.clients.fdsn.mass_downloader - WARNING: Station information could not be downloaded for NZ.VRZ.10.HHZ. MiniSEED files outside of the station information period will be deleted!\n"
     ]
    },
    {
     "name": "stdout",
     "output_type": "stream",
     "text": [
      "100 threads took 48.0 seconds\n"
     ]
    },
    {
     "name": "stderr",
     "output_type": "stream",
     "text": [
      "[2022-06-13 01:37:46,418] - obspy.clients.fdsn.mass_downloader - WARNING: Station information could not be downloaded for NZ.DCZ.10.HHZ. MiniSEED files outside of the station information period will be deleted!\n",
      "[2022-06-13 01:37:46,419] - obspy.clients.fdsn.mass_downloader - WARNING: Station information could not be downloaded for NZ.VRZ.10.HHZ. MiniSEED files outside of the station information period will be deleted!\n",
      "[2022-06-13 01:37:46,420] - obspy.clients.fdsn.mass_downloader - WARNING: Station information could not be downloaded for NZ.WVZ.10.HHZ. MiniSEED files outside of the station information period will be deleted!\n"
     ]
    },
    {
     "name": "stdout",
     "output_type": "stream",
     "text": [
      "100 threads took 49.7 seconds\n"
     ]
    },
    {
     "name": "stderr",
     "output_type": "stream",
     "text": [
      "[2022-06-13 01:38:35,135] - obspy.clients.fdsn.mass_downloader - WARNING: Station information could not be downloaded for NZ.MWZ.10.HHZ. MiniSEED files outside of the station information period will be deleted!\n",
      "[2022-06-13 01:38:35,136] - obspy.clients.fdsn.mass_downloader - WARNING: Station information could not be downloaded for NZ.OPRZ.10.HHZ. MiniSEED files outside of the station information period will be deleted!\n",
      "[2022-06-13 01:38:35,889] - obspy.clients.fdsn.mass_downloader - WARNING: Station information could not be downloaded for NZ.MWZ.10.HHZ. MiniSEED files outside of the station information period will be deleted!\n",
      "[2022-06-13 01:38:35,890] - obspy.clients.fdsn.mass_downloader - WARNING: Station information could not be downloaded for NZ.RPZ.10.HHZ. MiniSEED files outside of the station information period will be deleted!\n",
      "[2022-06-13 01:38:35,891] - obspy.clients.fdsn.mass_downloader - WARNING: Station information could not be downloaded for NZ.VRZ.10.HHZ. MiniSEED files outside of the station information period will be deleted!\n",
      "[2022-06-13 01:38:46,982] - obspy.clients.fdsn.mass_downloader - WARNING: Station information could not be downloaded for NZ.MWZ.10.HHZ. MiniSEED files outside of the station information period will be deleted!\n",
      "[2022-06-13 01:38:46,983] - obspy.clients.fdsn.mass_downloader - WARNING: Station information could not be downloaded for NZ.OPRZ.10.HHZ. MiniSEED files outside of the station information period will be deleted!\n"
     ]
    },
    {
     "name": "stdout",
     "output_type": "stream",
     "text": [
      "100 threads took 35.9 seconds\n"
     ]
    },
    {
     "name": "stderr",
     "output_type": "stream",
     "text": [
      "[2022-06-13 01:39:15,811] - obspy.clients.fdsn.mass_downloader - WARNING: Station information could not be downloaded for NZ.OPRZ.10.HHZ. MiniSEED files outside of the station information period will be deleted!\n",
      "[2022-06-13 01:39:24,554] - obspy.clients.fdsn.mass_downloader - WARNING: Station information could not be downloaded for NZ.MWZ.10.HHZ. MiniSEED files outside of the station information period will be deleted!\n",
      "[2022-06-13 01:39:38,412] - obspy.clients.fdsn.mass_downloader - WARNING: Station information could not be downloaded for NZ.OPRZ.10.HHZ. MiniSEED files outside of the station information period will be deleted!\n"
     ]
    },
    {
     "name": "stdout",
     "output_type": "stream",
     "text": [
      "100 threads took 41.4 seconds\n"
     ]
    },
    {
     "name": "stderr",
     "output_type": "stream",
     "text": [
      "[2022-06-13 01:39:53,319] - obspy.clients.fdsn.mass_downloader - WARNING: Station information could not be downloaded for NZ.MWZ.10.HHZ. MiniSEED files outside of the station information period will be deleted!\n",
      "[2022-06-13 01:39:53,320] - obspy.clients.fdsn.mass_downloader - WARNING: Station information could not be downloaded for NZ.RPZ.10.HHZ. MiniSEED files outside of the station information period will be deleted!\n",
      "[2022-06-13 01:39:53,320] - obspy.clients.fdsn.mass_downloader - WARNING: Station information could not be downloaded for NZ.VRZ.10.HHZ. MiniSEED files outside of the station information period will be deleted!\n",
      "[2022-06-13 01:39:54,491] - obspy.clients.fdsn.mass_downloader - WARNING: Station information could not be downloaded for NZ.OPRZ.10.HHZ. MiniSEED files outside of the station information period will be deleted!\n",
      "[2022-06-13 01:40:11,118] - obspy.clients.fdsn.mass_downloader - WARNING: Station information could not be downloaded for NZ.RPZ.10.HHZ. MiniSEED files outside of the station information period will be deleted!\n",
      "[2022-06-13 01:40:11,150] - obspy.clients.fdsn.mass_downloader - WARNING: Station information could not be downloaded for NZ.RPZ.10.HHZ. MiniSEED files outside of the station information period will be deleted!\n"
     ]
    },
    {
     "name": "stdout",
     "output_type": "stream",
     "text": [
      "100 threads took 46.3 seconds\n",
      "100 threads took 43.7 seconds\n"
     ]
    },
    {
     "name": "stderr",
     "output_type": "stream",
     "text": [
      "[2022-06-13 01:41:24,750] - obspy.clients.fdsn.mass_downloader - WARNING: Station information could not be downloaded for NZ.MWZ.10.HHZ. MiniSEED files outside of the station information period will be deleted!\n",
      "[2022-06-13 01:41:24,837] - obspy.clients.fdsn.mass_downloader - WARNING: Station information could not be downloaded for NZ.RPZ.10.HHZ. MiniSEED files outside of the station information period will be deleted!\n",
      "[2022-06-13 01:41:24,852] - obspy.clients.fdsn.mass_downloader - WARNING: Station information could not be downloaded for NZ.RPZ.10.HHZ. MiniSEED files outside of the station information period will be deleted!\n",
      "[2022-06-13 01:41:24,922] - obspy.clients.fdsn.mass_downloader - WARNING: Station information could not be downloaded for NZ.MWZ.10.HHZ. MiniSEED files outside of the station information period will be deleted!\n",
      "[2022-06-13 01:41:24,923] - obspy.clients.fdsn.mass_downloader - WARNING: Station information could not be downloaded for NZ.RPZ.10.HHZ. MiniSEED files outside of the station information period will be deleted!\n",
      "[2022-06-13 01:41:32,634] - obspy.clients.fdsn.mass_downloader - WARNING: Station information could not be downloaded for NZ.MWZ.10.HHZ. MiniSEED files outside of the station information period will be deleted!\n",
      "[2022-06-13 01:41:41,611] - obspy.clients.fdsn.mass_downloader - WARNING: Station information could not be downloaded for NZ.RPZ.10.HHZ. MiniSEED files outside of the station information period will be deleted!\n"
     ]
    },
    {
     "name": "stdout",
     "output_type": "stream",
     "text": [
      "100 threads took 41.9 seconds\n"
     ]
    },
    {
     "name": "stderr",
     "output_type": "stream",
     "text": [
      "[2022-06-13 01:42:05,800] - obspy.clients.fdsn.mass_downloader - WARNING: Station information could not be downloaded for NZ.MWZ.10.HHZ. MiniSEED files outside of the station information period will be deleted!\n",
      "[2022-06-13 01:42:05,801] - obspy.clients.fdsn.mass_downloader - WARNING: Station information could not be downloaded for NZ.OPRZ.10.HHZ. MiniSEED files outside of the station information period will be deleted!\n",
      "[2022-06-13 01:42:16,818] - obspy.clients.fdsn.mass_downloader - WARNING: Station information could not be downloaded for NZ.DCZ.10.HHZ. MiniSEED files outside of the station information period will be deleted!\n",
      "[2022-06-13 01:42:16,819] - obspy.clients.fdsn.mass_downloader - WARNING: Station information could not be downloaded for NZ.MWZ.10.HHZ. MiniSEED files outside of the station information period will be deleted!\n",
      "[2022-06-13 01:42:16,819] - obspy.clients.fdsn.mass_downloader - WARNING: Station information could not be downloaded for NZ.OPRZ.10.HHZ. MiniSEED files outside of the station information period will be deleted!\n",
      "[2022-06-13 01:42:16,820] - obspy.clients.fdsn.mass_downloader - WARNING: Station information could not be downloaded for NZ.RPZ.10.HHZ. MiniSEED files outside of the station information period will be deleted!\n",
      "[2022-06-13 01:42:16,821] - obspy.clients.fdsn.mass_downloader - WARNING: Station information could not be downloaded for NZ.WVZ.10.HHZ. MiniSEED files outside of the station information period will be deleted!\n"
     ]
    },
    {
     "name": "stdout",
     "output_type": "stream",
     "text": [
      "100 threads took 44.2 seconds\n"
     ]
    },
    {
     "name": "stderr",
     "output_type": "stream",
     "text": [
      "[2022-06-13 01:42:46,180] - obspy.clients.fdsn.mass_downloader - WARNING: Station information could not be downloaded for NZ.WVZ.10.HHZ. MiniSEED files outside of the station information period will be deleted!\n"
     ]
    },
    {
     "name": "stdout",
     "output_type": "stream",
     "text": [
      "100 threads took 44.6 seconds\n"
     ]
    },
    {
     "name": "stderr",
     "output_type": "stream",
     "text": [
      "[2022-06-13 01:43:45,916] - obspy.clients.fdsn.mass_downloader - WARNING: Station information could not be downloaded for NZ.MWZ.10.HHZ. MiniSEED files outside of the station information period will be deleted!\n",
      "[2022-06-13 01:43:45,917] - obspy.clients.fdsn.mass_downloader - WARNING: Station information could not be downloaded for NZ.OPRZ.10.HHZ. MiniSEED files outside of the station information period will be deleted!\n"
     ]
    },
    {
     "name": "stdout",
     "output_type": "stream",
     "text": [
      "100 threads took 39.4 seconds\n"
     ]
    },
    {
     "name": "stderr",
     "output_type": "stream",
     "text": [
      "[2022-06-13 01:44:20,602] - obspy.clients.fdsn.mass_downloader - WARNING: Station information could not be downloaded for NZ.DCZ.10.HHZ. MiniSEED files outside of the station information period will be deleted!\n",
      "[2022-06-13 01:44:20,604] - obspy.clients.fdsn.mass_downloader - WARNING: Station information could not be downloaded for NZ.MWZ.10.HHZ. MiniSEED files outside of the station information period will be deleted!\n",
      "[2022-06-13 01:44:20,606] - obspy.clients.fdsn.mass_downloader - WARNING: Station information could not be downloaded for NZ.OPRZ.10.HHZ. MiniSEED files outside of the station information period will be deleted!\n"
     ]
    },
    {
     "name": "stdout",
     "output_type": "stream",
     "text": [
      "100 threads took 36.5 seconds\n"
     ]
    },
    {
     "name": "stderr",
     "output_type": "stream",
     "text": [
      "[2022-06-13 01:44:49,397] - obspy.clients.fdsn.mass_downloader - WARNING: Station information could not be downloaded for NZ.DCZ.10.HHZ. MiniSEED files outside of the station information period will be deleted!\n",
      "[2022-06-13 01:44:49,659] - obspy.clients.fdsn.mass_downloader - WARNING: Station information could not be downloaded for NZ.RPZ.10.HHZ. MiniSEED files outside of the station information period will be deleted!\n",
      "[2022-06-13 01:44:49,738] - obspy.clients.fdsn.mass_downloader - WARNING: Station information could not be downloaded for NZ.DCZ.10.HHZ. MiniSEED files outside of the station information period will be deleted!\n",
      "[2022-06-13 01:44:49,739] - obspy.clients.fdsn.mass_downloader - WARNING: Station information could not be downloaded for NZ.MWZ.10.HHZ. MiniSEED files outside of the station information period will be deleted!\n",
      "[2022-06-13 01:44:49,740] - obspy.clients.fdsn.mass_downloader - WARNING: Station information could not be downloaded for NZ.OPRZ.10.HHZ. MiniSEED files outside of the station information period will be deleted!\n",
      "[2022-06-13 01:44:49,741] - obspy.clients.fdsn.mass_downloader - WARNING: Station information could not be downloaded for NZ.RPZ.10.HHZ. MiniSEED files outside of the station information period will be deleted!\n",
      "[2022-06-13 01:45:07,326] - obspy.clients.fdsn.mass_downloader - WARNING: Station information could not be downloaded for NZ.MWZ.10.HHZ. MiniSEED files outside of the station information period will be deleted!\n"
     ]
    },
    {
     "name": "stdout",
     "output_type": "stream",
     "text": [
      "100 threads took 37.8 seconds\n"
     ]
    },
    {
     "name": "stderr",
     "output_type": "stream",
     "text": [
      "[2022-06-13 01:45:37,061] - obspy.clients.fdsn.mass_downloader - WARNING: Station information could not be downloaded for NZ.WVZ.10.HHZ. MiniSEED files outside of the station information period will be deleted!\n",
      "[2022-06-13 01:45:46,686] - obspy.clients.fdsn.mass_downloader - WARNING: Station information could not be downloaded for NZ.DCZ.10.HHZ. MiniSEED files outside of the station information period will be deleted!\n"
     ]
    },
    {
     "name": "stdout",
     "output_type": "stream",
     "text": [
      "100 threads took 36.3 seconds\n"
     ]
    },
    {
     "name": "stderr",
     "output_type": "stream",
     "text": [
      "[2022-06-13 01:46:00,077] - obspy.clients.fdsn.mass_downloader - WARNING: Station information could not be downloaded for NZ.RPZ.10.HHZ. MiniSEED files outside of the station information period will be deleted!\n",
      "[2022-06-13 01:46:00,078] - obspy.clients.fdsn.mass_downloader - WARNING: Station information could not be downloaded for NZ.URZ.10.HHZ. MiniSEED files outside of the station information period will be deleted!\n",
      "[2022-06-13 01:46:00,079] - obspy.clients.fdsn.mass_downloader - WARNING: Station information could not be downloaded for NZ.VRZ.10.HHZ. MiniSEED files outside of the station information period will be deleted!\n",
      "[2022-06-13 01:46:02,498] - obspy.clients.fdsn.mass_downloader - WARNING: Station information could not be downloaded for NZ.OPRZ.10.HHZ. MiniSEED files outside of the station information period will be deleted!\n",
      "[2022-06-13 01:46:11,577] - obspy.clients.fdsn.mass_downloader - WARNING: Station information could not be downloaded for NZ.OPRZ.10.HHZ. MiniSEED files outside of the station information period will be deleted!\n"
     ]
    },
    {
     "name": "stdout",
     "output_type": "stream",
     "text": [
      "100 threads took 27.1 seconds\n"
     ]
    },
    {
     "name": "stderr",
     "output_type": "stream",
     "text": [
      "[2022-06-13 01:46:29,968] - obspy.clients.fdsn.mass_downloader - WARNING: Station information could not be downloaded for NZ.VRZ.10.HHZ. MiniSEED files outside of the station information period will be deleted!\n",
      "[2022-06-13 01:46:33,180] - obspy.clients.fdsn.mass_downloader - WARNING: Could not read file 'datasets/active/waveforms/smi_nz.org.geonet/2019p793905\\NZ.PUZ.10.HHZ__20191021T175218Z__20191021T175248Z.mseed' due to: [Errno 22] Invalid argument: 'datasets/active/waveforms/smi_nz.org.geonet/2019p793905\\\\NZ.PUZ.10.HHZ__20191021T175218Z__20191021T175248Z.mseed'\n",
      "Will be discarded.\n",
      "[2022-06-13 01:46:38,484] - obspy.clients.fdsn.mass_downloader - WARNING: Station information could not be downloaded for NZ.OPRZ.10.HHZ. MiniSEED files outside of the station information period will be deleted!\n",
      "[2022-06-13 01:46:38,485] - obspy.clients.fdsn.mass_downloader - WARNING: Station information could not be downloaded for NZ.OPRZ.10.HHZ. MiniSEED files outside of the station information period will be deleted!\n"
     ]
    },
    {
     "name": "stdout",
     "output_type": "stream",
     "text": [
      "100 threads took 36.7 seconds\n"
     ]
    },
    {
     "name": "stderr",
     "output_type": "stream",
     "text": [
      "[2022-06-13 01:47:06,976] - obspy.clients.fdsn.mass_downloader - WARNING: Station information could not be downloaded for NZ.MWZ.10.HHZ. MiniSEED files outside of the station information period will be deleted!\n",
      "[2022-06-13 01:47:06,977] - obspy.clients.fdsn.mass_downloader - WARNING: Station information could not be downloaded for NZ.OPRZ.10.HHZ. MiniSEED files outside of the station information period will be deleted!\n",
      "[2022-06-13 01:47:06,978] - obspy.clients.fdsn.mass_downloader - WARNING: Station information could not be downloaded for NZ.RPZ.10.HHZ. MiniSEED files outside of the station information period will be deleted!\n",
      "[2022-06-13 01:47:07,685] - obspy.clients.fdsn.mass_downloader - WARNING: Station information could not be downloaded for NZ.RPZ.10.HHZ. MiniSEED files outside of the station information period will be deleted!\n",
      "[2022-06-13 01:47:19,953] - obspy.clients.fdsn.mass_downloader - WARNING: Station information could not be downloaded for NZ.DCZ.10.HHZ. MiniSEED files outside of the station information period will be deleted!\n",
      "[2022-06-13 01:47:19,954] - obspy.clients.fdsn.mass_downloader - WARNING: Station information could not be downloaded for NZ.MWZ.10.HHZ. MiniSEED files outside of the station information period will be deleted!\n",
      "[2022-06-13 01:47:19,956] - obspy.clients.fdsn.mass_downloader - WARNING: Station information could not be downloaded for NZ.VRZ.10.HHZ. MiniSEED files outside of the station information period will be deleted!\n"
     ]
    },
    {
     "name": "stdout",
     "output_type": "stream",
     "text": [
      "100 threads took 39.3 seconds\n"
     ]
    },
    {
     "name": "stderr",
     "output_type": "stream",
     "text": [
      "[2022-06-13 01:47:47,623] - obspy.clients.fdsn.mass_downloader - WARNING: Station information could not be downloaded for NZ.OPRZ.10.HHZ. MiniSEED files outside of the station information period will be deleted!\n",
      "[2022-06-13 01:47:47,845] - obspy.clients.fdsn.mass_downloader - WARNING: Station information could not be downloaded for NZ.DCZ.10.HHZ. MiniSEED files outside of the station information period will be deleted!\n",
      "[2022-06-13 01:47:47,987] - obspy.clients.fdsn.mass_downloader - WARNING: Station information could not be downloaded for NZ.DCZ.10.HHZ. MiniSEED files outside of the station information period will be deleted!\n",
      "[2022-06-13 01:47:58,006] - obspy.clients.fdsn.mass_downloader - WARNING: Station information could not be downloaded for NZ.OPRZ.10.HHZ. MiniSEED files outside of the station information period will be deleted!\n"
     ]
    },
    {
     "name": "stdout",
     "output_type": "stream",
     "text": [
      "100 threads took 28.9 seconds\n"
     ]
    },
    {
     "name": "stderr",
     "output_type": "stream",
     "text": [
      "[2022-06-13 01:48:11,857] - obspy.clients.fdsn.mass_downloader - WARNING: Station information could not be downloaded for NZ.MWZ.10.HHZ. MiniSEED files outside of the station information period will be deleted!\n",
      "[2022-06-13 01:48:11,858] - obspy.clients.fdsn.mass_downloader - WARNING: Station information could not be downloaded for NZ.OPRZ.10.HHZ. MiniSEED files outside of the station information period will be deleted!\n",
      "[2022-06-13 01:48:13,198] - obspy.clients.fdsn.mass_downloader - WARNING: Station information could not be downloaded for NZ.DCZ.10.HHZ. MiniSEED files outside of the station information period will be deleted!\n",
      "[2022-06-13 01:48:13,200] - obspy.clients.fdsn.mass_downloader - WARNING: Station information could not be downloaded for NZ.MWZ.10.HHZ. MiniSEED files outside of the station information period will be deleted!\n",
      "[2022-06-13 01:48:13,200] - obspy.clients.fdsn.mass_downloader - WARNING: Station information could not be downloaded for NZ.OPRZ.10.HHZ. MiniSEED files outside of the station information period will be deleted!\n",
      "[2022-06-13 01:48:13,201] - obspy.clients.fdsn.mass_downloader - WARNING: Station information could not be downloaded for NZ.RPZ.10.HHZ. MiniSEED files outside of the station information period will be deleted!\n",
      "[2022-06-13 01:48:14,740] - obspy.clients.fdsn.mass_downloader - WARNING: Station information could not be downloaded for NZ.MWZ.10.HHZ. MiniSEED files outside of the station information period will be deleted!\n",
      "[2022-06-13 01:48:14,741] - obspy.clients.fdsn.mass_downloader - WARNING: Station information could not be downloaded for NZ.OPRZ.10.HHZ. MiniSEED files outside of the station information period will be deleted!\n",
      "[2022-06-13 01:48:14,743] - obspy.clients.fdsn.mass_downloader - WARNING: Station information could not be downloaded for NZ.VRZ.10.HHZ. MiniSEED files outside of the station information period will be deleted!\n",
      "[2022-06-13 01:48:29,859] - obspy.clients.fdsn.mass_downloader - WARNING: Station information could not be downloaded for NZ.MWZ.10.HHZ. MiniSEED files outside of the station information period will be deleted!\n",
      "[2022-06-13 01:48:29,860] - obspy.clients.fdsn.mass_downloader - WARNING: Station information could not be downloaded for NZ.OPRZ.10.HHZ. MiniSEED files outside of the station information period will be deleted!\n"
     ]
    },
    {
     "name": "stdout",
     "output_type": "stream",
     "text": [
      "100 threads took 35.3 seconds\n"
     ]
    },
    {
     "name": "stderr",
     "output_type": "stream",
     "text": [
      "[2022-06-13 01:48:48,499] - obspy.clients.fdsn.mass_downloader - WARNING: Station information could not be downloaded for NZ.OPRZ.10.HHZ. MiniSEED files outside of the station information period will be deleted!\n",
      "[2022-06-13 01:48:51,046] - obspy.clients.fdsn.mass_downloader - WARNING: Station information could not be downloaded for NZ.WVZ.10.HHZ. MiniSEED files outside of the station information period will be deleted!\n",
      "[2022-06-13 01:48:59,321] - obspy.clients.fdsn.mass_downloader - WARNING: Station information could not be downloaded for NZ.MWZ.10.HHZ. MiniSEED files outside of the station information period will be deleted!\n",
      "[2022-06-13 01:49:01,196] - obspy.clients.fdsn.mass_downloader - WARNING: Station information could not be downloaded for NZ.OPRZ.10.HHZ. MiniSEED files outside of the station information period will be deleted!\n",
      "[2022-06-13 01:49:06,731] - obspy.clients.fdsn.mass_downloader - WARNING: Station information could not be downloaded for NZ.MWZ.10.HHZ. MiniSEED files outside of the station information period will be deleted!\n"
     ]
    },
    {
     "name": "stdout",
     "output_type": "stream",
     "text": [
      "100 threads took 35.8 seconds\n"
     ]
    },
    {
     "name": "stderr",
     "output_type": "stream",
     "text": [
      "[2022-06-13 01:49:35,886] - obspy.clients.fdsn.mass_downloader - WARNING: Station information could not be downloaded for NZ.VRZ.10.HHZ. MiniSEED files outside of the station information period will be deleted!\n"
     ]
    },
    {
     "name": "stdout",
     "output_type": "stream",
     "text": [
      "100 threads took 38.1 seconds\n"
     ]
    },
    {
     "name": "stderr",
     "output_type": "stream",
     "text": [
      "[2022-06-13 01:50:03,945] - obspy.clients.fdsn.mass_downloader - WARNING: Station information could not be downloaded for NZ.MWZ.10.HHZ. MiniSEED files outside of the station information period will be deleted!\n",
      "[2022-06-13 01:50:03,946] - obspy.clients.fdsn.mass_downloader - WARNING: Station information could not be downloaded for NZ.OPRZ.10.HHZ. MiniSEED files outside of the station information period will be deleted!\n",
      "[2022-06-13 01:50:14,271] - obspy.clients.fdsn.mass_downloader - WARNING: Station information could not be downloaded for NZ.MWZ.10.HHZ. MiniSEED files outside of the station information period will be deleted!\n",
      "[2022-06-13 01:50:22,292] - obspy.clients.fdsn.mass_downloader - WARNING: Station information could not be downloaded for NZ.DCZ.10.HHZ. MiniSEED files outside of the station information period will be deleted!\n",
      "[2022-06-13 01:50:22,294] - obspy.clients.fdsn.mass_downloader - WARNING: Station information could not be downloaded for NZ.RPZ.10.HHZ. MiniSEED files outside of the station information period will be deleted!\n",
      "[2022-06-13 01:50:24,061] - obspy.clients.fdsn.mass_downloader - WARNING: Station information could not be downloaded for NZ.DCZ.10.HHZ. MiniSEED files outside of the station information period will be deleted!\n"
     ]
    },
    {
     "name": "stdout",
     "output_type": "stream",
     "text": [
      "100 threads took 38.5 seconds\n"
     ]
    },
    {
     "name": "stderr",
     "output_type": "stream",
     "text": [
      "[2022-06-13 01:50:40,340] - obspy.clients.fdsn.mass_downloader - WARNING: Station information could not be downloaded for NZ.MWZ.10.HHZ. MiniSEED files outside of the station information period will be deleted!\n",
      "[2022-06-13 01:50:40,340] - obspy.clients.fdsn.mass_downloader - WARNING: Station information could not be downloaded for NZ.MWZ.10.HHZ. MiniSEED files outside of the station information period will be deleted!\n",
      "[2022-06-13 01:50:40,341] - obspy.clients.fdsn.mass_downloader - WARNING: Station information could not be downloaded for NZ.OPRZ.10.HHZ. MiniSEED files outside of the station information period will be deleted!\n",
      "[2022-06-13 01:50:40,342] - obspy.clients.fdsn.mass_downloader - WARNING: Station information could not be downloaded for NZ.OPRZ.10.HHZ. MiniSEED files outside of the station information period will be deleted!\n"
     ]
    },
    {
     "name": "stdout",
     "output_type": "stream",
     "text": [
      "100 threads took 30.4 seconds\n",
      "100 threads took 37.4 seconds\n"
     ]
    },
    {
     "name": "stderr",
     "output_type": "stream",
     "text": [
      "[2022-06-13 01:51:46,617] - obspy.clients.fdsn.mass_downloader - WARNING: Station information could not be downloaded for NZ.VRZ.10.HHZ. MiniSEED files outside of the station information period will be deleted!\n",
      "[2022-06-13 01:51:47,496] - obspy.clients.fdsn.mass_downloader - WARNING: Station information could not be downloaded for NZ.MWZ.10.HHZ. MiniSEED files outside of the station information period will be deleted!\n",
      "[2022-06-13 01:51:47,498] - obspy.clients.fdsn.mass_downloader - WARNING: Station information could not be downloaded for NZ.OPRZ.10.HHZ. MiniSEED files outside of the station information period will be deleted!\n",
      "[2022-06-13 01:51:47,499] - obspy.clients.fdsn.mass_downloader - WARNING: Station information could not be downloaded for NZ.RPZ.10.HHZ. MiniSEED files outside of the station information period will be deleted!\n",
      "[2022-06-13 01:51:49,675] - obspy.clients.fdsn.mass_downloader - WARNING: Station information could not be downloaded for NZ.OPRZ.10.HHZ. MiniSEED files outside of the station information period will be deleted!\n",
      "[2022-06-13 01:51:49,676] - obspy.clients.fdsn.mass_downloader - WARNING: Station information could not be downloaded for NZ.RPZ.10.HHZ. MiniSEED files outside of the station information period will be deleted!\n",
      "[2022-06-13 01:52:05,250] - obspy.clients.fdsn.mass_downloader - WARNING: Station information could not be downloaded for NZ.OPRZ.10.HHZ. MiniSEED files outside of the station information period will be deleted!\n",
      "[2022-06-13 01:52:05,251] - obspy.clients.fdsn.mass_downloader - WARNING: Station information could not be downloaded for NZ.VRZ.10.HHZ. MiniSEED files outside of the station information period will be deleted!\n"
     ]
    },
    {
     "name": "stdout",
     "output_type": "stream",
     "text": [
      "100 threads took 34.0 seconds\n"
     ]
    },
    {
     "name": "stderr",
     "output_type": "stream",
     "text": [
      "[2022-06-13 01:52:22,905] - obspy.clients.fdsn.mass_downloader - WARNING: Station information could not be downloaded for NZ.MWZ.10.HHZ. MiniSEED files outside of the station information period will be deleted!\n",
      "[2022-06-13 01:52:23,169] - obspy.clients.fdsn.mass_downloader - WARNING: Station information could not be downloaded for NZ.MWZ.10.HHZ. MiniSEED files outside of the station information period will be deleted!\n",
      "[2022-06-13 01:52:23,169] - obspy.clients.fdsn.mass_downloader - WARNING: Station information could not be downloaded for NZ.VRZ.10.HHZ. MiniSEED files outside of the station information period will be deleted!\n"
     ]
    },
    {
     "name": "stdout",
     "output_type": "stream",
     "text": [
      "100 threads took 35.5 seconds\n"
     ]
    },
    {
     "name": "stderr",
     "output_type": "stream",
     "text": [
      "[2022-06-13 01:52:59,364] - obspy.clients.fdsn.mass_downloader - WARNING: Station information could not be downloaded for NZ.DCZ.10.HHZ. MiniSEED files outside of the station information period will be deleted!\n",
      "[2022-06-13 01:53:00,525] - obspy.clients.fdsn.mass_downloader - WARNING: Station information could not be downloaded for NZ.DCZ.10.HHZ. MiniSEED files outside of the station information period will be deleted!\n",
      "[2022-06-13 01:53:00,526] - obspy.clients.fdsn.mass_downloader - WARNING: Station information could not be downloaded for NZ.RPZ.10.HHZ. MiniSEED files outside of the station information period will be deleted!\n",
      "[2022-06-13 01:53:00,527] - obspy.clients.fdsn.mass_downloader - WARNING: Station information could not be downloaded for NZ.VRZ.10.HHZ. MiniSEED files outside of the station information period will be deleted!\n"
     ]
    },
    {
     "name": "stdout",
     "output_type": "stream",
     "text": [
      "100 threads took 29.7 seconds\n"
     ]
    },
    {
     "name": "stderr",
     "output_type": "stream",
     "text": [
      "[2022-06-13 01:53:47,758] - obspy.clients.fdsn.mass_downloader - WARNING: Station information could not be downloaded for NZ.OPRZ.10.HHZ. MiniSEED files outside of the station information period will be deleted!\n"
     ]
    },
    {
     "name": "stdout",
     "output_type": "stream",
     "text": [
      "100 threads took 35.2 seconds\n"
     ]
    },
    {
     "name": "stderr",
     "output_type": "stream",
     "text": [
      "[2022-06-13 01:54:05,591] - obspy.clients.fdsn.mass_downloader - WARNING: Station information could not be downloaded for NZ.DCZ.10.HHZ. MiniSEED files outside of the station information period will be deleted!\n",
      "[2022-06-13 01:54:05,593] - obspy.clients.fdsn.mass_downloader - WARNING: Station information could not be downloaded for NZ.OPRZ.10.HHZ. MiniSEED files outside of the station information period will be deleted!\n",
      "[2022-06-13 01:54:05,722] - obspy.clients.fdsn.mass_downloader - WARNING: Station information could not be downloaded for NZ.RPZ.10.HHZ. MiniSEED files outside of the station information period will be deleted!\n",
      "[2022-06-13 01:54:05,881] - obspy.clients.fdsn.mass_downloader - WARNING: Station information could not be downloaded for NZ.DCZ.10.HHZ. MiniSEED files outside of the station information period will be deleted!\n",
      "[2022-06-13 01:54:05,882] - obspy.clients.fdsn.mass_downloader - WARNING: Station information could not be downloaded for NZ.OPRZ.10.HHZ. MiniSEED files outside of the station information period will be deleted!\n"
     ]
    },
    {
     "name": "stdout",
     "output_type": "stream",
     "text": [
      "100 threads took 35.9 seconds\n"
     ]
    },
    {
     "name": "stderr",
     "output_type": "stream",
     "text": [
      "[2022-06-13 01:54:49,602] - obspy.clients.fdsn.mass_downloader - WARNING: Station information could not be downloaded for NZ.RPZ.10.HHZ. MiniSEED files outside of the station information period will be deleted!\n",
      "[2022-06-13 01:54:49,603] - obspy.clients.fdsn.mass_downloader - WARNING: Station information could not be downloaded for NZ.VRZ.10.HHZ. MiniSEED files outside of the station information period will be deleted!\n",
      "[2022-06-13 01:54:53,610] - obspy.clients.fdsn.mass_downloader - WARNING: Station information could not be downloaded for NZ.MWZ.10.HHZ. MiniSEED files outside of the station information period will be deleted!\n",
      "[2022-06-13 01:54:53,611] - obspy.clients.fdsn.mass_downloader - WARNING: Station information could not be downloaded for NZ.OPRZ.10.HHZ. MiniSEED files outside of the station information period will be deleted!\n",
      "[2022-06-13 01:54:56,592] - obspy.clients.fdsn.mass_downloader - WARNING: Station information could not be downloaded for NZ.OPRZ.10.HHZ. MiniSEED files outside of the station information period will be deleted!\n"
     ]
    },
    {
     "name": "stdout",
     "output_type": "stream",
     "text": [
      "100 threads took 37.5 seconds\n"
     ]
    },
    {
     "name": "stderr",
     "output_type": "stream",
     "text": [
      "[2022-06-13 01:55:15,569] - obspy.clients.fdsn.mass_downloader - WARNING: Station information could not be downloaded for NZ.MWZ.10.HHZ. MiniSEED files outside of the station information period will be deleted!\n",
      "[2022-06-13 01:55:15,570] - obspy.clients.fdsn.mass_downloader - WARNING: Station information could not be downloaded for NZ.RPZ.10.HHZ. MiniSEED files outside of the station information period will be deleted!\n",
      "[2022-06-13 01:55:15,910] - obspy.clients.fdsn.mass_downloader - WARNING: Station information could not be downloaded for NZ.MWZ.10.HHZ. MiniSEED files outside of the station information period will be deleted!\n",
      "[2022-06-13 01:55:15,911] - obspy.clients.fdsn.mass_downloader - WARNING: Station information could not be downloaded for NZ.OPRZ.10.HHZ. MiniSEED files outside of the station information period will be deleted!\n",
      "[2022-06-13 01:55:15,932] - obspy.clients.fdsn.mass_downloader - WARNING: Station information could not be downloaded for NZ.MWZ.10.HHZ. MiniSEED files outside of the station information period will be deleted!\n",
      "[2022-06-13 01:55:15,933] - obspy.clients.fdsn.mass_downloader - WARNING: Station information could not be downloaded for NZ.OPRZ.10.HHZ. MiniSEED files outside of the station information period will be deleted!\n",
      "[2022-06-13 01:55:16,225] - obspy.clients.fdsn.mass_downloader - WARNING: Station information could not be downloaded for NZ.RPZ.10.HHZ. MiniSEED files outside of the station information period will be deleted!\n",
      "[2022-06-13 01:55:16,827] - obspy.clients.fdsn.mass_downloader - WARNING: Station information could not be downloaded for NZ.MWZ.10.HHZ. MiniSEED files outside of the station information period will be deleted!\n",
      "[2022-06-13 01:55:16,828] - obspy.clients.fdsn.mass_downloader - WARNING: Station information could not be downloaded for NZ.OPRZ.10.HHZ. MiniSEED files outside of the station information period will be deleted!\n",
      "[2022-06-13 01:55:16,829] - obspy.clients.fdsn.mass_downloader - WARNING: Station information could not be downloaded for NZ.VRZ.10.HHZ. MiniSEED files outside of the station information period will be deleted!\n",
      "[2022-06-13 01:55:21,110] - obspy.clients.fdsn.mass_downloader - WARNING: Station information could not be downloaded for NZ.DCZ.10.HHZ. MiniSEED files outside of the station information period will be deleted!\n",
      "[2022-06-13 01:55:21,111] - obspy.clients.fdsn.mass_downloader - WARNING: Station information could not be downloaded for NZ.OPRZ.10.HHZ. MiniSEED files outside of the station information period will be deleted!\n",
      "[2022-06-13 01:55:26,966] - obspy.clients.fdsn.mass_downloader - WARNING: Station information could not be downloaded for NZ.DCZ.10.HHZ. MiniSEED files outside of the station information period will be deleted!\n",
      "[2022-06-13 01:55:26,968] - obspy.clients.fdsn.mass_downloader - WARNING: Station information could not be downloaded for NZ.RPZ.10.HHZ. MiniSEED files outside of the station information period will be deleted!\n"
     ]
    },
    {
     "name": "stdout",
     "output_type": "stream",
     "text": [
      "100 threads took 30.1 seconds\n"
     ]
    },
    {
     "name": "stderr",
     "output_type": "stream",
     "text": [
      "[2022-06-13 01:55:44,429] - obspy.clients.fdsn.mass_downloader - WARNING: Station information could not be downloaded for NZ.OPRZ.10.HHZ. MiniSEED files outside of the station information period will be deleted!\n",
      "[2022-06-13 01:55:44,430] - obspy.clients.fdsn.mass_downloader - WARNING: Station information could not be downloaded for NZ.RPZ.10.HHZ. MiniSEED files outside of the station information period will be deleted!\n",
      "[2022-06-13 01:56:03,226] - obspy.clients.fdsn.mass_downloader - WARNING: Station information could not be downloaded for NZ.RPZ.10.HHZ. MiniSEED files outside of the station information period will be deleted!\n",
      "[2022-06-13 01:56:03,227] - obspy.clients.fdsn.mass_downloader - WARNING: Station information could not be downloaded for NZ.VRZ.10.HHZ. MiniSEED files outside of the station information period will be deleted!\n",
      "[2022-06-13 01:56:03,482] - obspy.clients.fdsn.mass_downloader - WARNING: Station information could not be downloaded for NZ.RPZ.10.HHZ. MiniSEED files outside of the station information period will be deleted!\n",
      "[2022-06-13 01:56:03,483] - obspy.clients.fdsn.mass_downloader - WARNING: Station information could not be downloaded for NZ.VRZ.10.HHZ. MiniSEED files outside of the station information period will be deleted!\n"
     ]
    },
    {
     "name": "stdout",
     "output_type": "stream",
     "text": [
      "100 threads took 35.7 seconds\n"
     ]
    },
    {
     "name": "stderr",
     "output_type": "stream",
     "text": [
      "[2022-06-13 01:56:20,437] - obspy.clients.fdsn.mass_downloader - WARNING: Station information could not be downloaded for NZ.MWZ.10.HHZ. MiniSEED files outside of the station information period will be deleted!\n",
      "[2022-06-13 01:56:20,438] - obspy.clients.fdsn.mass_downloader - WARNING: Station information could not be downloaded for NZ.OPRZ.10.HHZ. MiniSEED files outside of the station information period will be deleted!\n",
      "[2022-06-13 01:56:20,525] - obspy.clients.fdsn.mass_downloader - WARNING: Station information could not be downloaded for NZ.RPZ.10.HHZ. MiniSEED files outside of the station information period will be deleted!\n",
      "[2022-06-13 01:56:20,855] - obspy.clients.fdsn.mass_downloader - WARNING: Station information could not be downloaded for NZ.MWZ.10.HHZ. MiniSEED files outside of the station information period will be deleted!\n",
      "[2022-06-13 01:56:20,856] - obspy.clients.fdsn.mass_downloader - WARNING: Station information could not be downloaded for NZ.OPRZ.10.HHZ. MiniSEED files outside of the station information period will be deleted!\n",
      "[2022-06-13 01:56:20,857] - obspy.clients.fdsn.mass_downloader - WARNING: Station information could not be downloaded for NZ.RPZ.10.HHZ. MiniSEED files outside of the station information period will be deleted!\n",
      "[2022-06-13 01:56:21,463] - obspy.clients.fdsn.mass_downloader - WARNING: Station information could not be downloaded for NZ.MWZ.10.HHZ. MiniSEED files outside of the station information period will be deleted!\n",
      "[2022-06-13 01:56:21,464] - obspy.clients.fdsn.mass_downloader - WARNING: Station information could not be downloaded for NZ.OPRZ.10.HHZ. MiniSEED files outside of the station information period will be deleted!\n",
      "[2022-06-13 01:56:21,951] - obspy.clients.fdsn.mass_downloader - WARNING: Station information could not be downloaded for NZ.MWZ.10.HHZ. MiniSEED files outside of the station information period will be deleted!\n",
      "[2022-06-13 01:56:21,952] - obspy.clients.fdsn.mass_downloader - WARNING: Station information could not be downloaded for NZ.OPRZ.10.HHZ. MiniSEED files outside of the station information period will be deleted!\n",
      "[2022-06-13 01:56:21,952] - obspy.clients.fdsn.mass_downloader - WARNING: Station information could not be downloaded for NZ.WVZ.10.HHZ. MiniSEED files outside of the station information period will be deleted!\n",
      "[2022-06-13 01:56:24,051] - obspy.clients.fdsn.mass_downloader - WARNING: Station information could not be downloaded for NZ.OPRZ.10.HHZ. MiniSEED files outside of the station information period will be deleted!\n",
      "[2022-06-13 01:56:43,369] - obspy.clients.fdsn.mass_downloader - WARNING: Station information could not be downloaded for NZ.DCZ.10.HHZ. MiniSEED files outside of the station information period will be deleted!\n",
      "[2022-06-13 01:56:43,370] - obspy.clients.fdsn.mass_downloader - WARNING: Station information could not be downloaded for NZ.MWZ.10.HHZ. MiniSEED files outside of the station information period will be deleted!\n",
      "[2022-06-13 01:56:43,371] - obspy.clients.fdsn.mass_downloader - WARNING: Station information could not be downloaded for NZ.RPZ.10.HHZ. MiniSEED files outside of the station information period will be deleted!\n"
     ]
    },
    {
     "name": "stdout",
     "output_type": "stream",
     "text": [
      "100 threads took 36.2 seconds\n"
     ]
    },
    {
     "name": "stderr",
     "output_type": "stream",
     "text": [
      "[2022-06-13 01:56:57,475] - obspy.clients.fdsn.mass_downloader - WARNING: Station information could not be downloaded for NZ.DCZ.10.HHZ. MiniSEED files outside of the station information period will be deleted!\n",
      "[2022-06-13 01:56:57,476] - obspy.clients.fdsn.mass_downloader - WARNING: Station information could not be downloaded for NZ.OPRZ.10.HHZ. MiniSEED files outside of the station information period will be deleted!\n",
      "[2022-06-13 01:57:10,457] - obspy.clients.fdsn.mass_downloader - WARNING: Station information could not be downloaded for NZ.OPRZ.10.HHZ. MiniSEED files outside of the station information period will be deleted!\n",
      "[2022-06-13 01:57:10,458] - obspy.clients.fdsn.mass_downloader - WARNING: Station information could not be downloaded for NZ.RPZ.10.HHZ. MiniSEED files outside of the station information period will be deleted!\n",
      "[2022-06-13 01:57:10,595] - obspy.clients.fdsn.mass_downloader - WARNING: Station information could not be downloaded for NZ.DCZ.10.HHZ. MiniSEED files outside of the station information period will be deleted!\n",
      "[2022-06-13 01:57:10,596] - obspy.clients.fdsn.mass_downloader - WARNING: Station information could not be downloaded for NZ.OPRZ.10.HHZ. MiniSEED files outside of the station information period will be deleted!\n",
      "[2022-06-13 01:57:10,597] - obspy.clients.fdsn.mass_downloader - WARNING: Station information could not be downloaded for NZ.RPZ.10.HHZ. MiniSEED files outside of the station information period will be deleted!\n",
      "[2022-06-13 01:57:10,598] - obspy.clients.fdsn.mass_downloader - WARNING: Station information could not be downloaded for NZ.WVZ.10.HHZ. MiniSEED files outside of the station information period will be deleted!\n"
     ]
    },
    {
     "name": "stdout",
     "output_type": "stream",
     "text": [
      "100 threads took 37.4 seconds\n"
     ]
    },
    {
     "name": "stderr",
     "output_type": "stream",
     "text": [
      "[2022-06-13 01:57:35,813] - obspy.clients.fdsn.mass_downloader - WARNING: Station information could not be downloaded for NZ.WVZ.10.HHZ. MiniSEED files outside of the station information period will be deleted!\n",
      "[2022-06-13 01:57:36,873] - obspy.clients.fdsn.mass_downloader - WARNING: Station information could not be downloaded for NZ.VRZ.10.HHZ. MiniSEED files outside of the station information period will be deleted!\n",
      "[2022-06-13 01:57:48,302] - obspy.clients.fdsn.mass_downloader - WARNING: Station information could not be downloaded for NZ.MWZ.10.HHZ. MiniSEED files outside of the station information period will be deleted!\n",
      "[2022-06-13 01:57:48,303] - obspy.clients.fdsn.mass_downloader - WARNING: Station information could not be downloaded for NZ.OPRZ.10.HHZ. MiniSEED files outside of the station information period will be deleted!\n",
      "[2022-06-13 01:57:49,976] - obspy.clients.fdsn.mass_downloader - WARNING: Station information could not be downloaded for NZ.DCZ.10.HHZ. MiniSEED files outside of the station information period will be deleted!\n",
      "[2022-06-13 01:57:49,977] - obspy.clients.fdsn.mass_downloader - WARNING: Station information could not be downloaded for NZ.URZ.10.HHZ. MiniSEED files outside of the station information period will be deleted!\n",
      "[2022-06-13 01:57:57,590] - obspy.clients.fdsn.mass_downloader - WARNING: Station information could not be downloaded for NZ.MWZ.10.HHZ. MiniSEED files outside of the station information period will be deleted!\n"
     ]
    },
    {
     "name": "stdout",
     "output_type": "stream",
     "text": [
      "100 threads took 38.1 seconds\n"
     ]
    },
    {
     "name": "stderr",
     "output_type": "stream",
     "text": [
      "[2022-06-13 01:58:13,179] - obspy.clients.fdsn.mass_downloader - WARNING: Station information could not be downloaded for NZ.MWZ.10.HHZ. MiniSEED files outside of the station information period will be deleted!\n",
      "[2022-06-13 01:58:13,180] - obspy.clients.fdsn.mass_downloader - WARNING: Station information could not be downloaded for NZ.RPZ.10.HHZ. MiniSEED files outside of the station information period will be deleted!\n",
      "[2022-06-13 01:58:13,249] - obspy.clients.fdsn.mass_downloader - WARNING: Station information could not be downloaded for NZ.DCZ.10.HHZ. MiniSEED files outside of the station information period will be deleted!\n",
      "[2022-06-13 01:58:13,250] - obspy.clients.fdsn.mass_downloader - WARNING: Station information could not be downloaded for NZ.MWZ.10.HHZ. MiniSEED files outside of the station information period will be deleted!\n",
      "[2022-06-13 01:58:13,251] - obspy.clients.fdsn.mass_downloader - WARNING: Station information could not be downloaded for NZ.RPZ.10.HHZ. MiniSEED files outside of the station information period will be deleted!\n",
      "[2022-06-13 01:58:13,252] - obspy.clients.fdsn.mass_downloader - WARNING: Station information could not be downloaded for NZ.URZ.10.HHZ. MiniSEED files outside of the station information period will be deleted!\n",
      "[2022-06-13 01:58:13,969] - obspy.clients.fdsn.mass_downloader - WARNING: Station information could not be downloaded for NZ.MWZ.10.HHZ. MiniSEED files outside of the station information period will be deleted!\n",
      "[2022-06-13 01:58:14,277] - obspy.clients.fdsn.mass_downloader - WARNING: Station information could not be downloaded for NZ.DCZ.10.HHZ. MiniSEED files outside of the station information period will be deleted!\n",
      "[2022-06-13 01:58:14,278] - obspy.clients.fdsn.mass_downloader - WARNING: Station information could not be downloaded for NZ.RPZ.10.HHZ. MiniSEED files outside of the station information period will be deleted!\n",
      "[2022-06-13 01:58:15,305] - obspy.clients.fdsn.mass_downloader - WARNING: Station information could not be downloaded for NZ.DCZ.10.HHZ. MiniSEED files outside of the station information period will be deleted!\n",
      "[2022-06-13 01:58:24,662] - obspy.clients.fdsn.mass_downloader - WARNING: Station information could not be downloaded for NZ.MWZ.10.HHZ. MiniSEED files outside of the station information period will be deleted!\n",
      "[2022-06-13 01:58:25,946] - obspy.clients.fdsn.mass_downloader - WARNING: Station information could not be downloaded for NZ.URZ.10.HHZ. MiniSEED files outside of the station information period will be deleted!\n",
      "[2022-06-13 01:58:26,266] - obspy.clients.fdsn.mass_downloader - WARNING: Station information could not be downloaded for NZ.MWZ.10.HHZ. MiniSEED files outside of the station information period will be deleted!\n",
      "[2022-06-13 01:58:27,350] - obspy.clients.fdsn.mass_downloader - WARNING: Station information could not be downloaded for NZ.WVZ.10.HHZ. MiniSEED files outside of the station information period will be deleted!\n"
     ]
    },
    {
     "name": "stdout",
     "output_type": "stream",
     "text": [
      "100 threads took 37.0 seconds\n"
     ]
    },
    {
     "name": "stderr",
     "output_type": "stream",
     "text": [
      "[2022-06-13 01:58:48,620] - obspy.clients.fdsn.mass_downloader - WARNING: Station information could not be downloaded for NZ.MWZ.10.HHZ. MiniSEED files outside of the station information period will be deleted!\n",
      "[2022-06-13 01:58:48,621] - obspy.clients.fdsn.mass_downloader - WARNING: Station information could not be downloaded for NZ.OPRZ.10.HHZ. MiniSEED files outside of the station information period will be deleted!\n",
      "[2022-06-13 01:58:48,715] - obspy.clients.fdsn.mass_downloader - WARNING: Station information could not be downloaded for NZ.OPRZ.10.HHZ. MiniSEED files outside of the station information period will be deleted!\n",
      "[2022-06-13 01:58:48,717] - obspy.clients.fdsn.mass_downloader - WARNING: Station information could not be downloaded for NZ.VRZ.10.HHZ. MiniSEED files outside of the station information period will be deleted!\n",
      "[2022-06-13 01:58:49,728] - obspy.clients.fdsn.mass_downloader - WARNING: Station information could not be downloaded for NZ.URZ.10.HHZ. MiniSEED files outside of the station information period will be deleted!\n",
      "[2022-06-13 01:58:49,769] - obspy.clients.fdsn.mass_downloader - WARNING: Station information could not be downloaded for NZ.VRZ.10.HHZ. MiniSEED files outside of the station information period will be deleted!\n",
      "[2022-06-13 01:58:50,503] - obspy.clients.fdsn.mass_downloader - WARNING: Station information could not be downloaded for NZ.MWZ.10.HHZ. MiniSEED files outside of the station information period will be deleted!\n",
      "[2022-06-13 01:58:50,504] - obspy.clients.fdsn.mass_downloader - WARNING: Station information could not be downloaded for NZ.OPRZ.10.HHZ. MiniSEED files outside of the station information period will be deleted!\n",
      "[2022-06-13 01:58:50,505] - obspy.clients.fdsn.mass_downloader - WARNING: Station information could not be downloaded for NZ.VRZ.10.HHZ. MiniSEED files outside of the station information period will be deleted!\n",
      "[2022-06-13 01:58:58,833] - obspy.clients.fdsn.mass_downloader - WARNING: Station information could not be downloaded for NZ.DCZ.10.HHZ. MiniSEED files outside of the station information period will be deleted!\n",
      "[2022-06-13 01:58:58,834] - obspy.clients.fdsn.mass_downloader - WARNING: Station information could not be downloaded for NZ.OPRZ.10.HHZ. MiniSEED files outside of the station information period will be deleted!\n",
      "[2022-06-13 01:59:02,370] - obspy.clients.fdsn.mass_downloader - WARNING: Station information could not be downloaded for NZ.MWZ.10.HHZ. MiniSEED files outside of the station information period will be deleted!\n",
      "[2022-06-13 01:59:02,433] - obspy.clients.fdsn.mass_downloader - WARNING: Station information could not be downloaded for NZ.MWZ.10.HHZ. MiniSEED files outside of the station information period will be deleted!\n",
      "[2022-06-13 01:59:03,007] - obspy.clients.fdsn.mass_downloader - WARNING: Station information could not be downloaded for NZ.DCZ.10.HHZ. MiniSEED files outside of the station information period will be deleted!\n",
      "[2022-06-13 01:59:03,008] - obspy.clients.fdsn.mass_downloader - WARNING: Station information could not be downloaded for NZ.MWZ.10.HHZ. MiniSEED files outside of the station information period will be deleted!\n"
     ]
    },
    {
     "name": "stdout",
     "output_type": "stream",
     "text": [
      "100 threads took 32.4 seconds\n"
     ]
    },
    {
     "name": "stderr",
     "output_type": "stream",
     "text": [
      "[2022-06-13 01:59:20,997] - obspy.clients.fdsn.mass_downloader - WARNING: Station information could not be downloaded for NZ.MWZ.10.HHZ. MiniSEED files outside of the station information period will be deleted!\n",
      "[2022-06-13 01:59:20,998] - obspy.clients.fdsn.mass_downloader - WARNING: Station information could not be downloaded for NZ.OPRZ.10.HHZ. MiniSEED files outside of the station information period will be deleted!\n",
      "[2022-06-13 01:59:20,999] - obspy.clients.fdsn.mass_downloader - WARNING: Station information could not be downloaded for NZ.VRZ.10.HHZ. MiniSEED files outside of the station information period will be deleted!\n",
      "[2022-06-13 01:59:21,226] - obspy.clients.fdsn.mass_downloader - WARNING: Station information could not be downloaded for NZ.VRZ.10.HHZ. MiniSEED files outside of the station information period will be deleted!\n",
      "[2022-06-13 01:59:24,417] - obspy.clients.fdsn.mass_downloader - WARNING: Station information could not be downloaded for NZ.DCZ.10.HHZ. MiniSEED files outside of the station information period will be deleted!\n",
      "[2022-06-13 01:59:41,193] - obspy.clients.fdsn.mass_downloader - WARNING: Station information could not be downloaded for NZ.OPRZ.10.HHZ. MiniSEED files outside of the station information period will be deleted!\n",
      "[2022-06-13 01:59:41,988] - obspy.clients.fdsn.mass_downloader - WARNING: Station information could not be downloaded for NZ.WVZ.10.HHZ. MiniSEED files outside of the station information period will be deleted!\n",
      "[2022-06-13 01:59:42,080] - obspy.clients.fdsn.mass_downloader - WARNING: Station information could not be downloaded for NZ.DCZ.10.HHZ. MiniSEED files outside of the station information period will be deleted!\n",
      "[2022-06-13 01:59:42,324] - obspy.clients.fdsn.mass_downloader - WARNING: Station information could not be downloaded for NZ.OPRZ.10.HHZ. MiniSEED files outside of the station information period will be deleted!\n",
      "[2022-06-13 01:59:42,325] - obspy.clients.fdsn.mass_downloader - WARNING: Station information could not be downloaded for NZ.WVZ.10.HHZ. MiniSEED files outside of the station information period will be deleted!\n",
      "[2022-06-13 01:59:42,564] - obspy.clients.fdsn.mass_downloader - WARNING: Station information could not be downloaded for NZ.URZ.10.HHZ. MiniSEED files outside of the station information period will be deleted!\n"
     ]
    },
    {
     "name": "stdout",
     "output_type": "stream",
     "text": [
      "100 threads took 33.9 seconds\n"
     ]
    },
    {
     "name": "stderr",
     "output_type": "stream",
     "text": [
      "[2022-06-13 01:59:57,513] - obspy.clients.fdsn.mass_downloader - WARNING: Station information could not be downloaded for NZ.MWZ.10.HHZ. MiniSEED files outside of the station information period will be deleted!\n",
      "[2022-06-13 01:59:57,516] - obspy.clients.fdsn.mass_downloader - WARNING: Station information could not be downloaded for NZ.WVZ.10.HHZ. MiniSEED files outside of the station information period will be deleted!\n",
      "[2022-06-13 01:59:58,608] - obspy.clients.fdsn.mass_downloader - WARNING: Station information could not be downloaded for NZ.VRZ.10.HHZ. MiniSEED files outside of the station information period will be deleted!\n",
      "[2022-06-13 01:59:58,994] - obspy.clients.fdsn.mass_downloader - WARNING: Station information could not be downloaded for NZ.DCZ.10.HHZ. MiniSEED files outside of the station information period will be deleted!\n",
      "[2022-06-13 01:59:58,996] - obspy.clients.fdsn.mass_downloader - WARNING: Station information could not be downloaded for NZ.RPZ.10.HHZ. MiniSEED files outside of the station information period will be deleted!\n",
      "[2022-06-13 02:00:06,486] - obspy.clients.fdsn.mass_downloader - WARNING: Station information could not be downloaded for NZ.RPZ.10.HHZ. MiniSEED files outside of the station information period will be deleted!\n",
      "[2022-06-13 02:00:06,932] - obspy.clients.fdsn.mass_downloader - WARNING: Station information could not be downloaded for NZ.DCZ.10.HHZ. MiniSEED files outside of the station information period will be deleted!\n",
      "[2022-06-13 02:00:06,933] - obspy.clients.fdsn.mass_downloader - WARNING: Station information could not be downloaded for NZ.RPZ.10.HHZ. MiniSEED files outside of the station information period will be deleted!\n",
      "[2022-06-13 02:00:07,807] - obspy.clients.fdsn.mass_downloader - WARNING: Station information could not be downloaded for NZ.MWZ.10.HHZ. MiniSEED files outside of the station information period will be deleted!\n",
      "[2022-06-13 02:00:07,808] - obspy.clients.fdsn.mass_downloader - WARNING: Station information could not be downloaded for NZ.OPRZ.10.HHZ. MiniSEED files outside of the station information period will be deleted!\n"
     ]
    },
    {
     "name": "stdout",
     "output_type": "stream",
     "text": [
      "100 threads took 38.8 seconds\n"
     ]
    },
    {
     "name": "stderr",
     "output_type": "stream",
     "text": [
      "[2022-06-13 02:00:34,220] - obspy.clients.fdsn.mass_downloader - WARNING: Station information could not be downloaded for NZ.DCZ.10.HHZ. MiniSEED files outside of the station information period will be deleted!\n",
      "[2022-06-13 02:00:34,221] - obspy.clients.fdsn.mass_downloader - WARNING: Station information could not be downloaded for NZ.OPRZ.10.HHZ. MiniSEED files outside of the station information period will be deleted!\n",
      "[2022-06-13 02:00:34,880] - obspy.clients.fdsn.mass_downloader - WARNING: Station information could not be downloaded for NZ.OPRZ.10.HHZ. MiniSEED files outside of the station information period will be deleted!\n",
      "[2022-06-13 02:00:34,881] - obspy.clients.fdsn.mass_downloader - WARNING: Station information could not be downloaded for NZ.WVZ.10.HHZ. MiniSEED files outside of the station information period will be deleted!\n",
      "[2022-06-13 02:00:34,894] - obspy.clients.fdsn.mass_downloader - WARNING: Station information could not be downloaded for NZ.DCZ.10.HHZ. MiniSEED files outside of the station information period will be deleted!\n",
      "[2022-06-13 02:00:34,895] - obspy.clients.fdsn.mass_downloader - WARNING: Station information could not be downloaded for NZ.MWZ.10.HHZ. MiniSEED files outside of the station information period will be deleted!\n",
      "[2022-06-13 02:00:34,897] - obspy.clients.fdsn.mass_downloader - WARNING: Station information could not be downloaded for NZ.RPZ.10.HHZ. MiniSEED files outside of the station information period will be deleted!\n",
      "[2022-06-13 02:00:35,627] - obspy.clients.fdsn.mass_downloader - WARNING: Station information could not be downloaded for NZ.VRZ.10.HHZ. MiniSEED files outside of the station information period will be deleted!\n",
      "[2022-06-13 02:00:36,023] - obspy.clients.fdsn.mass_downloader - WARNING: Station information could not be downloaded for NZ.OPRZ.10.HHZ. MiniSEED files outside of the station information period will be deleted!\n",
      "[2022-06-13 02:00:37,876] - obspy.clients.fdsn.mass_downloader - WARNING: Station information could not be downloaded for NZ.DCZ.10.HHZ. MiniSEED files outside of the station information period will be deleted!\n",
      "[2022-06-13 02:00:37,877] - obspy.clients.fdsn.mass_downloader - WARNING: Station information could not be downloaded for NZ.MWZ.10.HHZ. MiniSEED files outside of the station information period will be deleted!\n",
      "[2022-06-13 02:00:37,878] - obspy.clients.fdsn.mass_downloader - WARNING: Station information could not be downloaded for NZ.OPRZ.10.HHZ. MiniSEED files outside of the station information period will be deleted!\n",
      "[2022-06-13 02:00:38,937] - obspy.clients.fdsn.mass_downloader - WARNING: Station information could not be downloaded for NZ.MWZ.10.HHZ. MiniSEED files outside of the station information period will be deleted!\n",
      "[2022-06-13 02:00:50,954] - obspy.clients.fdsn.mass_downloader - WARNING: Station information could not be downloaded for NZ.RPZ.10.HHZ. MiniSEED files outside of the station information period will be deleted!\n",
      "[2022-06-13 02:00:50,955] - obspy.clients.fdsn.mass_downloader - WARNING: Station information could not be downloaded for NZ.DCZ.10.HHZ. MiniSEED files outside of the station information period will be deleted!\n",
      "[2022-06-13 02:00:50,963] - obspy.clients.fdsn.mass_downloader - WARNING: Station information could not be downloaded for NZ.RPZ.10.HHZ. MiniSEED files outside of the station information period will be deleted!\n",
      "[2022-06-13 02:00:50,979] - obspy.clients.fdsn.mass_downloader - WARNING: Station information could not be downloaded for NZ.DCZ.10.HHZ. MiniSEED files outside of the station information period will be deleted!\n",
      "[2022-06-13 02:00:50,980] - obspy.clients.fdsn.mass_downloader - WARNING: Station information could not be downloaded for NZ.RPZ.10.HHZ. MiniSEED files outside of the station information period will be deleted!\n",
      "[2022-06-13 02:00:51,011] - obspy.clients.fdsn.mass_downloader - WARNING: Station information could not be downloaded for NZ.VRZ.10.HHZ. MiniSEED files outside of the station information period will be deleted!\n"
     ]
    },
    {
     "name": "stdout",
     "output_type": "stream",
     "text": [
      "100 threads took 42.3 seconds\n"
     ]
    },
    {
     "name": "stderr",
     "output_type": "stream",
     "text": [
      "[2022-06-13 02:01:19,805] - obspy.clients.fdsn.mass_downloader - WARNING: Station information could not be downloaded for NZ.MWZ.10.HHZ. MiniSEED files outside of the station information period will be deleted!\n",
      "[2022-06-13 02:01:20,084] - obspy.clients.fdsn.mass_downloader - WARNING: Station information could not be downloaded for NZ.MWZ.10.HHZ. MiniSEED files outside of the station information period will be deleted!\n",
      "[2022-06-13 02:01:30,662] - obspy.clients.fdsn.mass_downloader - WARNING: Station information could not be downloaded for NZ.VRZ.10.HHZ. MiniSEED files outside of the station information period will be deleted!\n",
      "[2022-06-13 02:01:30,998] - obspy.clients.fdsn.mass_downloader - WARNING: Station information could not be downloaded for NZ.OPRZ.10.HHZ. MiniSEED files outside of the station information period will be deleted!\n",
      "[2022-06-13 02:01:30,999] - obspy.clients.fdsn.mass_downloader - WARNING: Station information could not be downloaded for NZ.RPZ.10.HHZ. MiniSEED files outside of the station information period will be deleted!\n",
      "[2022-06-13 02:01:37,129] - obspy.clients.fdsn.mass_downloader - WARNING: Station information could not be downloaded for NZ.MWZ.10.HHZ. MiniSEED files outside of the station information period will be deleted!\n",
      "[2022-06-13 02:01:37,130] - obspy.clients.fdsn.mass_downloader - WARNING: Station information could not be downloaded for NZ.RPZ.10.HHZ. MiniSEED files outside of the station information period will be deleted!\n",
      "[2022-06-13 02:01:37,131] - obspy.clients.fdsn.mass_downloader - WARNING: Station information could not be downloaded for NZ.VRZ.10.HHZ. MiniSEED files outside of the station information period will be deleted!\n"
     ]
    },
    {
     "name": "stdout",
     "output_type": "stream",
     "text": [
      "100 threads took 41.4 seconds\n"
     ]
    },
    {
     "name": "stderr",
     "output_type": "stream",
     "text": [
      "[2022-06-13 02:02:15,353] - obspy.clients.fdsn.mass_downloader - WARNING: Station information could not be downloaded for NZ.OPRZ.10.HHZ. MiniSEED files outside of the station information period will be deleted!\n",
      "[2022-06-13 02:02:15,973] - obspy.clients.fdsn.mass_downloader - WARNING: Station information could not be downloaded for NZ.MWZ.10.HHZ. MiniSEED files outside of the station information period will be deleted!\n",
      "[2022-06-13 02:02:19,318] - obspy.clients.fdsn.mass_downloader - WARNING: Station information could not be downloaded for NZ.DCZ.10.HHZ. MiniSEED files outside of the station information period will be deleted!\n",
      "[2022-06-13 02:02:19,319] - obspy.clients.fdsn.mass_downloader - WARNING: Station information could not be downloaded for NZ.MWZ.10.HHZ. MiniSEED files outside of the station information period will be deleted!\n"
     ]
    },
    {
     "name": "stdout",
     "output_type": "stream",
     "text": [
      "100 threads took 33.4 seconds\n"
     ]
    },
    {
     "name": "stderr",
     "output_type": "stream",
     "text": [
      "[2022-06-13 02:02:31,711] - obspy.clients.fdsn.mass_downloader - WARNING: Station information could not be downloaded for NZ.RPZ.10.HHZ. MiniSEED files outside of the station information period will be deleted!\n",
      "[2022-06-13 02:02:35,704] - obspy.clients.fdsn.mass_downloader - WARNING: Station information could not be downloaded for NZ.MWZ.10.HHZ. MiniSEED files outside of the station information period will be deleted!\n",
      "[2022-06-13 02:02:35,705] - obspy.clients.fdsn.mass_downloader - WARNING: Station information could not be downloaded for NZ.VRZ.10.HHZ. MiniSEED files outside of the station information period will be deleted!\n",
      "[2022-06-13 02:02:35,817] - obspy.clients.fdsn.mass_downloader - WARNING: Station information could not be downloaded for NZ.MWZ.10.HHZ. MiniSEED files outside of the station information period will be deleted!\n",
      "[2022-06-13 02:02:35,823] - obspy.clients.fdsn.mass_downloader - WARNING: Station information could not be downloaded for NZ.OPRZ.10.HHZ. MiniSEED files outside of the station information period will be deleted!\n",
      "[2022-06-13 02:02:46,049] - obspy.clients.fdsn.mass_downloader - WARNING: Station information could not be downloaded for NZ.MWZ.10.HHZ. MiniSEED files outside of the station information period will be deleted!\n",
      "[2022-06-13 02:02:46,730] - obspy.clients.fdsn.mass_downloader - WARNING: Station information could not be downloaded for NZ.RPZ.10.HHZ. MiniSEED files outside of the station information period will be deleted!\n",
      "[2022-06-13 02:02:46,731] - obspy.clients.fdsn.mass_downloader - WARNING: Station information could not be downloaded for NZ.VRZ.10.HHZ. MiniSEED files outside of the station information period will be deleted!\n",
      "[2022-06-13 02:02:46,830] - obspy.clients.fdsn.mass_downloader - WARNING: Station information could not be downloaded for NZ.VRZ.10.HHZ. MiniSEED files outside of the station information period will be deleted!\n",
      "[2022-06-13 02:02:47,059] - obspy.clients.fdsn.mass_downloader - WARNING: Station information could not be downloaded for NZ.RPZ.10.HHZ. MiniSEED files outside of the station information period will be deleted!\n",
      "[2022-06-13 02:02:47,881] - obspy.clients.fdsn.mass_downloader - WARNING: Station information could not be downloaded for NZ.WVZ.10.HHZ. MiniSEED files outside of the station information period will be deleted!\n",
      "[2022-06-13 02:02:53,272] - obspy.clients.fdsn.mass_downloader - WARNING: Station information could not be downloaded for NZ.DCZ.10.HHZ. MiniSEED files outside of the station information period will be deleted!\n",
      "[2022-06-13 02:02:53,273] - obspy.clients.fdsn.mass_downloader - WARNING: Station information could not be downloaded for NZ.OPRZ.10.HHZ. MiniSEED files outside of the station information period will be deleted!\n",
      "[2022-06-13 02:02:57,208] - obspy.clients.fdsn.mass_downloader - WARNING: Station information could not be downloaded for NZ.DCZ.10.HHZ. MiniSEED files outside of the station information period will be deleted!\n",
      "[2022-06-13 02:02:57,209] - obspy.clients.fdsn.mass_downloader - WARNING: Station information could not be downloaded for NZ.MWZ.10.HHZ. MiniSEED files outside of the station information period will be deleted!\n",
      "[2022-06-13 02:02:57,210] - obspy.clients.fdsn.mass_downloader - WARNING: Station information could not be downloaded for NZ.OPRZ.10.HHZ. MiniSEED files outside of the station information period will be deleted!\n"
     ]
    },
    {
     "name": "stdout",
     "output_type": "stream",
     "text": [
      "100 threads took 38.3 seconds\n"
     ]
    },
    {
     "name": "stderr",
     "output_type": "stream",
     "text": [
      "[2022-06-13 02:03:10,390] - obspy.clients.fdsn.mass_downloader - WARNING: Station information could not be downloaded for NZ.MWZ.10.HHZ. MiniSEED files outside of the station information period will be deleted!\n",
      "[2022-06-13 02:03:12,130] - obspy.clients.fdsn.mass_downloader - WARNING: Station information could not be downloaded for NZ.MWZ.10.HHZ. MiniSEED files outside of the station information period will be deleted!\n",
      "[2022-06-13 02:03:22,592] - obspy.clients.fdsn.mass_downloader - WARNING: Station information could not be downloaded for NZ.MWZ.10.HHZ. MiniSEED files outside of the station information period will be deleted!\n",
      "[2022-06-13 02:03:26,963] - obspy.clients.fdsn.mass_downloader - WARNING: Station information could not be downloaded for NZ.RPZ.10.HHZ. MiniSEED files outside of the station information period will be deleted!\n",
      "[2022-06-13 02:03:26,964] - obspy.clients.fdsn.mass_downloader - WARNING: Station information could not be downloaded for NZ.VRZ.10.HHZ. MiniSEED files outside of the station information period will be deleted!\n",
      "[2022-06-13 02:03:35,258] - obspy.clients.fdsn.mass_downloader - WARNING: Station information could not be downloaded for NZ.MWZ.10.HHZ. MiniSEED files outside of the station information period will be deleted!\n",
      "[2022-06-13 02:03:35,259] - obspy.clients.fdsn.mass_downloader - WARNING: Station information could not be downloaded for NZ.OPRZ.10.HHZ. MiniSEED files outside of the station information period will be deleted!\n"
     ]
    },
    {
     "name": "stdout",
     "output_type": "stream",
     "text": [
      "100 threads took 40.7 seconds\n"
     ]
    },
    {
     "name": "stderr",
     "output_type": "stream",
     "text": [
      "[2022-06-13 02:03:49,674] - obspy.clients.fdsn.mass_downloader - WARNING: Station information could not be downloaded for NZ.DCZ.10.HHZ. MiniSEED files outside of the station information period will be deleted!\n",
      "[2022-06-13 02:03:52,906] - obspy.clients.fdsn.mass_downloader - WARNING: Station information could not be downloaded for NZ.RPZ.10.HHZ. MiniSEED files outside of the station information period will be deleted!\n",
      "[2022-06-13 02:03:53,641] - obspy.clients.fdsn.mass_downloader - WARNING: Station information could not be downloaded for NZ.DCZ.10.HHZ. MiniSEED files outside of the station information period will be deleted!\n",
      "[2022-06-13 02:04:02,291] - obspy.clients.fdsn.mass_downloader - WARNING: Station information could not be downloaded for NZ.RPZ.10.HHZ. MiniSEED files outside of the station information period will be deleted!\n",
      "[2022-06-13 02:04:17,403] - obspy.clients.fdsn.mass_downloader - WARNING: Station information could not be downloaded for NZ.DCZ.10.HHZ. MiniSEED files outside of the station information period will be deleted!\n",
      "[2022-06-13 02:04:17,404] - obspy.clients.fdsn.mass_downloader - WARNING: Station information could not be downloaded for NZ.RPZ.10.HHZ. MiniSEED files outside of the station information period will be deleted!\n",
      "[2022-06-13 02:04:20,894] - obspy.clients.fdsn.mass_downloader - WARNING: Station information could not be downloaded for NZ.OPRZ.10.HHZ. MiniSEED files outside of the station information period will be deleted!\n"
     ]
    },
    {
     "name": "stdout",
     "output_type": "stream",
     "text": [
      "100 threads took 40.8 seconds\n"
     ]
    },
    {
     "name": "stderr",
     "output_type": "stream",
     "text": [
      "[2022-06-13 02:04:32,913] - obspy.clients.fdsn.mass_downloader - WARNING: Station information could not be downloaded for NZ.RPZ.10.HHZ. MiniSEED files outside of the station information period will be deleted!\n",
      "[2022-06-13 02:04:32,915] - obspy.clients.fdsn.mass_downloader - WARNING: Station information could not be downloaded for NZ.VRZ.10.HHZ. MiniSEED files outside of the station information period will be deleted!\n",
      "[2022-06-13 02:04:39,803] - obspy.clients.fdsn.mass_downloader - WARNING: Station information could not be downloaded for NZ.MWZ.10.HHZ. MiniSEED files outside of the station information period will be deleted!\n",
      "[2022-06-13 02:04:42,777] - obspy.clients.fdsn.mass_downloader - WARNING: Station information could not be downloaded for NZ.DCZ.10.HHZ. MiniSEED files outside of the station information period will be deleted!\n",
      "[2022-06-13 02:04:42,778] - obspy.clients.fdsn.mass_downloader - WARNING: Station information could not be downloaded for NZ.MWZ.10.HHZ. MiniSEED files outside of the station information period will be deleted!\n",
      "[2022-06-13 02:04:45,437] - obspy.clients.fdsn.mass_downloader - WARNING: Station information could not be downloaded for NZ.RPZ.10.HHZ. MiniSEED files outside of the station information period will be deleted!\n",
      "[2022-06-13 02:04:48,040] - obspy.clients.fdsn.mass_downloader - WARNING: Station information could not be downloaded for NZ.DCZ.10.HHZ. MiniSEED files outside of the station information period will be deleted!\n"
     ]
    },
    {
     "name": "stdout",
     "output_type": "stream",
     "text": [
      "100 threads took 41.1 seconds\n"
     ]
    },
    {
     "name": "stderr",
     "output_type": "stream",
     "text": [
      "[2022-06-13 02:05:12,857] - obspy.clients.fdsn.mass_downloader - WARNING: Station information could not be downloaded for NZ.MWZ.10.HHZ. MiniSEED files outside of the station information period will be deleted!\n",
      "[2022-06-13 02:05:13,497] - obspy.clients.fdsn.mass_downloader - WARNING: Station information could not be downloaded for NZ.RPZ.10.HHZ. MiniSEED files outside of the station information period will be deleted!\n",
      "[2022-06-13 02:05:13,888] - obspy.clients.fdsn.mass_downloader - WARNING: Station information could not be downloaded for NZ.DCZ.10.HHZ. MiniSEED files outside of the station information period will be deleted!\n",
      "[2022-06-13 02:05:13,889] - obspy.clients.fdsn.mass_downloader - WARNING: Station information could not be downloaded for NZ.MWZ.10.HHZ. MiniSEED files outside of the station information period will be deleted!\n",
      "[2022-06-13 02:05:13,889] - obspy.clients.fdsn.mass_downloader - WARNING: Station information could not be downloaded for NZ.OPRZ.10.HHZ. MiniSEED files outside of the station information period will be deleted!\n",
      "[2022-06-13 02:05:13,890] - obspy.clients.fdsn.mass_downloader - WARNING: Station information could not be downloaded for NZ.VRZ.10.HHZ. MiniSEED files outside of the station information period will be deleted!\n",
      "[2022-06-13 02:05:25,345] - obspy.clients.fdsn.mass_downloader - WARNING: Station information could not be downloaded for NZ.RPZ.10.HHZ. MiniSEED files outside of the station information period will be deleted!\n"
     ]
    },
    {
     "name": "stdout",
     "output_type": "stream",
     "text": [
      "100 threads took 37.4 seconds\n"
     ]
    },
    {
     "name": "stderr",
     "output_type": "stream",
     "text": [
      "[2022-06-13 02:05:48,987] - obspy.clients.fdsn.mass_downloader - WARNING: Station information could not be downloaded for NZ.DCZ.10.HHZ. MiniSEED files outside of the station information period will be deleted!\n",
      "[2022-06-13 02:05:48,988] - obspy.clients.fdsn.mass_downloader - WARNING: Station information could not be downloaded for NZ.RPZ.10.HHZ. MiniSEED files outside of the station information period will be deleted!\n",
      "[2022-06-13 02:05:48,988] - obspy.clients.fdsn.mass_downloader - WARNING: Station information could not be downloaded for NZ.URZ.10.HHZ. MiniSEED files outside of the station information period will be deleted!\n",
      "[2022-06-13 02:05:49,768] - obspy.clients.fdsn.mass_downloader - WARNING: Station information could not be downloaded for NZ.MWZ.10.HHZ. MiniSEED files outside of the station information period will be deleted!\n",
      "[2022-06-13 02:05:49,936] - obspy.clients.fdsn.mass_downloader - WARNING: Station information could not be downloaded for NZ.MWZ.10.HHZ. MiniSEED files outside of the station information period will be deleted!\n",
      "[2022-06-13 02:05:49,937] - obspy.clients.fdsn.mass_downloader - WARNING: Station information could not be downloaded for NZ.VRZ.10.HHZ. MiniSEED files outside of the station information period will be deleted!\n",
      "[2022-06-13 02:05:51,894] - obspy.clients.fdsn.mass_downloader - WARNING: Station information could not be downloaded for NZ.MWZ.10.HHZ. MiniSEED files outside of the station information period will be deleted!\n",
      "[2022-06-13 02:05:51,895] - obspy.clients.fdsn.mass_downloader - WARNING: Station information could not be downloaded for NZ.RPZ.10.HHZ. MiniSEED files outside of the station information period will be deleted!\n",
      "[2022-06-13 02:05:51,897] - obspy.clients.fdsn.mass_downloader - WARNING: Station information could not be downloaded for NZ.WVZ.10.HHZ. MiniSEED files outside of the station information period will be deleted!\n",
      "[2022-06-13 02:05:53,253] - obspy.clients.fdsn.mass_downloader - WARNING: Station information could not be downloaded for NZ.VRZ.10.HHZ. MiniSEED files outside of the station information period will be deleted!\n",
      "[2022-06-13 02:05:58,764] - obspy.clients.fdsn.mass_downloader - WARNING: Station information could not be downloaded for NZ.MWZ.10.HHZ. MiniSEED files outside of the station information period will be deleted!\n",
      "[2022-06-13 02:05:58,764] - obspy.clients.fdsn.mass_downloader - WARNING: Station information could not be downloaded for NZ.OPRZ.10.HHZ. MiniSEED files outside of the station information period will be deleted!\n",
      "[2022-06-13 02:06:05,372] - obspy.clients.fdsn.mass_downloader - WARNING: Station information could not be downloaded for NZ.DCZ.10.HHZ. MiniSEED files outside of the station information period will be deleted!\n",
      "[2022-06-13 02:06:05,373] - obspy.clients.fdsn.mass_downloader - WARNING: Station information could not be downloaded for NZ.MWZ.10.HHZ. MiniSEED files outside of the station information period will be deleted!\n",
      "[2022-06-13 02:06:05,374] - obspy.clients.fdsn.mass_downloader - WARNING: Station information could not be downloaded for NZ.OPRZ.10.HHZ. MiniSEED files outside of the station information period will be deleted!\n",
      "[2022-06-13 02:06:05,375] - obspy.clients.fdsn.mass_downloader - WARNING: Station information could not be downloaded for NZ.RPZ.10.HHZ. MiniSEED files outside of the station information period will be deleted!\n",
      "[2022-06-13 02:06:05,375] - obspy.clients.fdsn.mass_downloader - WARNING: Station information could not be downloaded for NZ.VRZ.10.HHZ. MiniSEED files outside of the station information period will be deleted!\n"
     ]
    },
    {
     "name": "stdout",
     "output_type": "stream",
     "text": [
      "100 threads took 30.6 seconds\n"
     ]
    },
    {
     "name": "stderr",
     "output_type": "stream",
     "text": [
      "[2022-06-13 02:06:22,167] - obspy.clients.fdsn.mass_downloader - WARNING: Station information could not be downloaded for NZ.MWZ.10.HHZ. MiniSEED files outside of the station information period will be deleted!\n",
      "[2022-06-13 02:06:22,168] - obspy.clients.fdsn.mass_downloader - WARNING: Station information could not be downloaded for NZ.OPRZ.10.HHZ. MiniSEED files outside of the station information period will be deleted!\n",
      "[2022-06-13 02:06:22,173] - obspy.clients.fdsn.mass_downloader - WARNING: Station information could not be downloaded for NZ.VRZ.10.HHZ. MiniSEED files outside of the station information period will be deleted!\n",
      "[2022-06-13 02:06:27,342] - obspy.clients.fdsn.mass_downloader - WARNING: Station information could not be downloaded for NZ.MWZ.10.HHZ. MiniSEED files outside of the station information period will be deleted!\n",
      "[2022-06-13 02:06:27,343] - obspy.clients.fdsn.mass_downloader - WARNING: Station information could not be downloaded for NZ.OPRZ.10.HHZ. MiniSEED files outside of the station information period will be deleted!\n",
      "[2022-06-13 02:06:32,912] - obspy.clients.fdsn.mass_downloader - WARNING: Station information could not be downloaded for NZ.VRZ.10.HHZ. MiniSEED files outside of the station information period will be deleted!\n"
     ]
    },
    {
     "name": "stdout",
     "output_type": "stream",
     "text": [
      "100 threads took 29.8 seconds\n"
     ]
    },
    {
     "name": "stderr",
     "output_type": "stream",
     "text": [
      "[2022-06-13 02:06:51,327] - obspy.clients.fdsn.mass_downloader - WARNING: Station information could not be downloaded for NZ.MWZ.10.HHZ. MiniSEED files outside of the station information period will be deleted!\n",
      "[2022-06-13 02:06:56,233] - obspy.clients.fdsn.mass_downloader - WARNING: Station information could not be downloaded for NZ.MWZ.10.HHZ. MiniSEED files outside of the station information period will be deleted!\n",
      "[2022-06-13 02:07:05,909] - obspy.clients.fdsn.mass_downloader - WARNING: Station information could not be downloaded for NZ.OPRZ.10.HHZ. MiniSEED files outside of the station information period will be deleted!\n",
      "[2022-06-13 02:07:05,910] - obspy.clients.fdsn.mass_downloader - WARNING: Station information could not be downloaded for NZ.RPZ.10.HHZ. MiniSEED files outside of the station information period will be deleted!\n",
      "[2022-06-13 02:07:06,086] - obspy.clients.fdsn.mass_downloader - WARNING: Station information could not be downloaded for NZ.RPZ.10.HHZ. MiniSEED files outside of the station information period will be deleted!\n",
      "[2022-06-13 02:07:06,877] - obspy.clients.fdsn.mass_downloader - WARNING: Station information could not be downloaded for NZ.WVZ.10.HHZ. MiniSEED files outside of the station information period will be deleted!\n",
      "[2022-06-13 02:07:08,320] - obspy.clients.fdsn.mass_downloader - WARNING: Station information could not be downloaded for NZ.OPRZ.10.HHZ. MiniSEED files outside of the station information period will be deleted!\n",
      "[2022-06-13 02:07:09,795] - obspy.clients.fdsn.mass_downloader - WARNING: Station information could not be downloaded for NZ.MWZ.10.HHZ. MiniSEED files outside of the station information period will be deleted!\n",
      "[2022-06-13 02:07:14,288] - obspy.clients.fdsn.mass_downloader - WARNING: Station information could not be downloaded for NZ.RPZ.10.HHZ. MiniSEED files outside of the station information period will be deleted!\n",
      "[2022-06-13 02:07:22,840] - obspy.clients.fdsn.mass_downloader - WARNING: Station information could not be downloaded for NZ.MWZ.10.HHZ. MiniSEED files outside of the station information period will be deleted!\n"
     ]
    },
    {
     "name": "stdout",
     "output_type": "stream",
     "text": [
      "100 threads took 43.7 seconds\n"
     ]
    },
    {
     "name": "stderr",
     "output_type": "stream",
     "text": [
      "[2022-06-13 02:07:33,607] - obspy.clients.fdsn.mass_downloader - WARNING: Station information could not be downloaded for NZ.OPRZ.10.HHZ. MiniSEED files outside of the station information period will be deleted!\n",
      "[2022-06-13 02:07:33,608] - obspy.clients.fdsn.mass_downloader - WARNING: Station information could not be downloaded for NZ.VRZ.10.HHZ. MiniSEED files outside of the station information period will be deleted!\n",
      "[2022-06-13 02:07:35,184] - obspy.clients.fdsn.mass_downloader - WARNING: Station information could not be downloaded for NZ.MWZ.10.HHZ. MiniSEED files outside of the station information period will be deleted!\n",
      "[2022-06-13 02:07:35,185] - obspy.clients.fdsn.mass_downloader - WARNING: Station information could not be downloaded for NZ.OPRZ.10.HHZ. MiniSEED files outside of the station information period will be deleted!\n",
      "[2022-06-13 02:07:35,577] - obspy.clients.fdsn.mass_downloader - WARNING: Station information could not be downloaded for NZ.OPRZ.10.HHZ. MiniSEED files outside of the station information period will be deleted!\n",
      "[2022-06-13 02:07:35,578] - obspy.clients.fdsn.mass_downloader - WARNING: Station information could not be downloaded for NZ.VRZ.10.HHZ. MiniSEED files outside of the station information period will be deleted!\n",
      "[2022-06-13 02:07:35,748] - obspy.clients.fdsn.mass_downloader - WARNING: Station information could not be downloaded for NZ.MWZ.10.HHZ. MiniSEED files outside of the station information period will be deleted!\n",
      "[2022-06-13 02:07:40,337] - obspy.clients.fdsn.mass_downloader - WARNING: Station information could not be downloaded for NZ.MWZ.10.HHZ. MiniSEED files outside of the station information period will be deleted!\n",
      "[2022-06-13 02:07:40,338] - obspy.clients.fdsn.mass_downloader - WARNING: Station information could not be downloaded for NZ.OPRZ.10.HHZ. MiniSEED files outside of the station information period will be deleted!\n",
      "[2022-06-13 02:07:40,708] - obspy.clients.fdsn.mass_downloader - WARNING: Station information could not be downloaded for NZ.MWZ.10.HHZ. MiniSEED files outside of the station information period will be deleted!\n",
      "[2022-06-13 02:07:40,709] - obspy.clients.fdsn.mass_downloader - WARNING: Station information could not be downloaded for NZ.RPZ.10.HHZ. MiniSEED files outside of the station information period will be deleted!\n",
      "[2022-06-13 02:07:40,709] - obspy.clients.fdsn.mass_downloader - WARNING: Station information could not be downloaded for NZ.VRZ.10.HHZ. MiniSEED files outside of the station information period will be deleted!\n",
      "[2022-06-13 02:07:45,178] - obspy.clients.fdsn.mass_downloader - WARNING: Station information could not be downloaded for NZ.MWZ.10.HHZ. MiniSEED files outside of the station information period will be deleted!\n",
      "[2022-06-13 02:07:45,179] - obspy.clients.fdsn.mass_downloader - WARNING: Station information could not be downloaded for NZ.OPRZ.10.HHZ. MiniSEED files outside of the station information period will be deleted!\n",
      "[2022-06-13 02:07:45,180] - obspy.clients.fdsn.mass_downloader - WARNING: Station information could not be downloaded for NZ.RPZ.10.HHZ. MiniSEED files outside of the station information period will be deleted!\n",
      "[2022-06-13 02:07:45,495] - obspy.clients.fdsn.mass_downloader - WARNING: Station information could not be downloaded for NZ.MWZ.10.HHZ. MiniSEED files outside of the station information period will be deleted!\n",
      "[2022-06-13 02:07:45,496] - obspy.clients.fdsn.mass_downloader - WARNING: Station information could not be downloaded for NZ.OPRZ.10.HHZ. MiniSEED files outside of the station information period will be deleted!\n",
      "[2022-06-13 02:07:56,169] - obspy.clients.fdsn.mass_downloader - WARNING: Station information could not be downloaded for NZ.DCZ.10.HHZ. MiniSEED files outside of the station information period will be deleted!\n",
      "[2022-06-13 02:07:59,528] - obspy.clients.fdsn.mass_downloader - WARNING: Station information could not be downloaded for NZ.MWZ.10.HHZ. MiniSEED files outside of the station information period will be deleted!\n",
      "[2022-06-13 02:07:59,529] - obspy.clients.fdsn.mass_downloader - WARNING: Station information could not be downloaded for NZ.OPRZ.10.HHZ. MiniSEED files outside of the station information period will be deleted!\n",
      "[2022-06-13 02:07:59,739] - obspy.clients.fdsn.mass_downloader - WARNING: Station information could not be downloaded for NZ.MWZ.10.HHZ. MiniSEED files outside of the station information period will be deleted!\n",
      "[2022-06-13 02:07:59,740] - obspy.clients.fdsn.mass_downloader - WARNING: Station information could not be downloaded for NZ.OPRZ.10.HHZ. MiniSEED files outside of the station information period will be deleted!\n",
      "[2022-06-13 02:07:59,741] - obspy.clients.fdsn.mass_downloader - WARNING: Station information could not be downloaded for NZ.WVZ.10.HHZ. MiniSEED files outside of the station information period will be deleted!\n"
     ]
    },
    {
     "name": "stdout",
     "output_type": "stream",
     "text": [
      "100 threads took 42.5 seconds\n"
     ]
    },
    {
     "name": "stderr",
     "output_type": "stream",
     "text": [
      "[2022-06-13 02:08:17,050] - obspy.clients.fdsn.mass_downloader - WARNING: Station information could not be downloaded for NZ.RPZ.10.HHZ. MiniSEED files outside of the station information period will be deleted!\n",
      "[2022-06-13 02:08:17,319] - obspy.clients.fdsn.mass_downloader - WARNING: Station information could not be downloaded for NZ.MWZ.10.HHZ. MiniSEED files outside of the station information period will be deleted!\n",
      "[2022-06-13 02:08:17,320] - obspy.clients.fdsn.mass_downloader - WARNING: Station information could not be downloaded for NZ.VRZ.10.HHZ. MiniSEED files outside of the station information period will be deleted!\n",
      "[2022-06-13 02:08:17,490] - obspy.clients.fdsn.mass_downloader - WARNING: Station information could not be downloaded for NZ.MWZ.10.HHZ. MiniSEED files outside of the station information period will be deleted!\n",
      "[2022-06-13 02:08:17,491] - obspy.clients.fdsn.mass_downloader - WARNING: Station information could not be downloaded for NZ.OPRZ.10.HHZ. MiniSEED files outside of the station information period will be deleted!\n",
      "[2022-06-13 02:08:17,492] - obspy.clients.fdsn.mass_downloader - WARNING: Station information could not be downloaded for NZ.VRZ.10.HHZ. MiniSEED files outside of the station information period will be deleted!\n",
      "[2022-06-13 02:08:23,513] - obspy.clients.fdsn.mass_downloader - WARNING: Station information could not be downloaded for NZ.MWZ.10.HHZ. MiniSEED files outside of the station information period will be deleted!\n",
      "[2022-06-13 02:08:23,514] - obspy.clients.fdsn.mass_downloader - WARNING: Station information could not be downloaded for NZ.OPRZ.10.HHZ. MiniSEED files outside of the station information period will be deleted!\n",
      "[2022-06-13 02:08:29,413] - obspy.clients.fdsn.mass_downloader - WARNING: Station information could not be downloaded for NZ.OPRZ.10.HHZ. MiniSEED files outside of the station information period will be deleted!\n",
      "[2022-06-13 02:08:32,577] - obspy.clients.fdsn.mass_downloader - WARNING: Station information could not be downloaded for NZ.OPRZ.10.HHZ. MiniSEED files outside of the station information period will be deleted!\n",
      "[2022-06-13 02:08:32,721] - obspy.clients.fdsn.mass_downloader - WARNING: Station information could not be downloaded for NZ.VRZ.10.HHZ. MiniSEED files outside of the station information period will be deleted!\n"
     ]
    },
    {
     "name": "stdout",
     "output_type": "stream",
     "text": [
      "100 threads took 31.8 seconds\n"
     ]
    },
    {
     "name": "stderr",
     "output_type": "stream",
     "text": [
      "[2022-06-13 02:08:47,610] - obspy.clients.fdsn.mass_downloader - WARNING: Station information could not be downloaded for NZ.OPRZ.10.HHZ. MiniSEED files outside of the station information period will be deleted!\n",
      "[2022-06-13 02:08:55,463] - obspy.clients.fdsn.mass_downloader - WARNING: Station information could not be downloaded for NZ.DCZ.10.HHZ. MiniSEED files outside of the station information period will be deleted!\n",
      "[2022-06-13 02:08:55,464] - obspy.clients.fdsn.mass_downloader - WARNING: Station information could not be downloaded for NZ.RPZ.10.HHZ. MiniSEED files outside of the station information period will be deleted!\n",
      "[2022-06-13 02:08:56,203] - obspy.clients.fdsn.mass_downloader - WARNING: Station information could not be downloaded for NZ.DCZ.10.HHZ. MiniSEED files outside of the station information period will be deleted!\n",
      "[2022-06-13 02:08:56,204] - obspy.clients.fdsn.mass_downloader - WARNING: Station information could not be downloaded for NZ.RPZ.10.HHZ. MiniSEED files outside of the station information period will be deleted!\n",
      "[2022-06-13 02:08:58,403] - obspy.clients.fdsn.mass_downloader - WARNING: Station information could not be downloaded for NZ.DCZ.10.HHZ. MiniSEED files outside of the station information period will be deleted!\n",
      "[2022-06-13 02:08:58,404] - obspy.clients.fdsn.mass_downloader - WARNING: Station information could not be downloaded for NZ.MWZ.10.HHZ. MiniSEED files outside of the station information period will be deleted!\n",
      "[2022-06-13 02:08:58,405] - obspy.clients.fdsn.mass_downloader - WARNING: Station information could not be downloaded for NZ.OPRZ.10.HHZ. MiniSEED files outside of the station information period will be deleted!\n",
      "[2022-06-13 02:09:03,039] - obspy.clients.fdsn.mass_downloader - WARNING: Station information could not be downloaded for NZ.DCZ.10.HHZ. MiniSEED files outside of the station information period will be deleted!\n",
      "[2022-06-13 02:09:03,497] - obspy.clients.fdsn.mass_downloader - WARNING: Station information could not be downloaded for NZ.DCZ.10.HHZ. MiniSEED files outside of the station information period will be deleted!\n",
      "[2022-06-13 02:09:03,975] - obspy.clients.fdsn.mass_downloader - WARNING: Station information could not be downloaded for NZ.RPZ.10.HHZ. MiniSEED files outside of the station information period will be deleted!\n",
      "[2022-06-13 02:09:07,638] - obspy.clients.fdsn.mass_downloader - WARNING: Station information could not be downloaded for NZ.MWZ.10.HHZ. MiniSEED files outside of the station information period will be deleted!\n",
      "[2022-06-13 02:09:07,639] - obspy.clients.fdsn.mass_downloader - WARNING: Station information could not be downloaded for NZ.OPRZ.10.HHZ. MiniSEED files outside of the station information period will be deleted!\n",
      "[2022-06-13 02:09:07,640] - obspy.clients.fdsn.mass_downloader - WARNING: Station information could not be downloaded for NZ.VRZ.10.HHZ. MiniSEED files outside of the station information period will be deleted!\n"
     ]
    },
    {
     "name": "stdout",
     "output_type": "stream",
     "text": [
      "100 threads took 38.5 seconds\n"
     ]
    },
    {
     "name": "stderr",
     "output_type": "stream",
     "text": [
      "[2022-06-13 02:09:27,530] - obspy.clients.fdsn.mass_downloader - WARNING: Station information could not be downloaded for NZ.MWZ.10.HHZ. MiniSEED files outside of the station information period will be deleted!\n",
      "[2022-06-13 02:09:28,121] - obspy.clients.fdsn.mass_downloader - WARNING: Station information could not be downloaded for NZ.MWZ.10.HHZ. MiniSEED files outside of the station information period will be deleted!\n",
      "[2022-06-13 02:09:28,122] - obspy.clients.fdsn.mass_downloader - WARNING: Station information could not be downloaded for NZ.RPZ.10.HHZ. MiniSEED files outside of the station information period will be deleted!\n",
      "[2022-06-13 02:09:28,122] - obspy.clients.fdsn.mass_downloader - WARNING: Station information could not be downloaded for NZ.VRZ.10.HHZ. MiniSEED files outside of the station information period will be deleted!\n",
      "[2022-06-13 02:09:32,047] - obspy.clients.fdsn.mass_downloader - WARNING: Station information could not be downloaded for NZ.OPRZ.10.HHZ. MiniSEED files outside of the station information period will be deleted!\n",
      "[2022-06-13 02:09:43,347] - obspy.clients.fdsn.mass_downloader - WARNING: Station information could not be downloaded for NZ.RPZ.10.HHZ. MiniSEED files outside of the station information period will be deleted!\n",
      "[2022-06-13 02:09:43,348] - obspy.clients.fdsn.mass_downloader - WARNING: Station information could not be downloaded for NZ.URZ.10.HHZ. MiniSEED files outside of the station information period will be deleted!\n",
      "[2022-06-13 02:09:44,623] - obspy.clients.fdsn.mass_downloader - WARNING: Station information could not be downloaded for NZ.MWZ.10.HHZ. MiniSEED files outside of the station information period will be deleted!\n",
      "[2022-06-13 02:09:47,251] - obspy.clients.fdsn.mass_downloader - WARNING: Station information could not be downloaded for NZ.OPRZ.10.HHZ. MiniSEED files outside of the station information period will be deleted!\n",
      "[2022-06-13 02:09:47,887] - obspy.clients.fdsn.mass_downloader - WARNING: Station information could not be downloaded for NZ.RPZ.10.HHZ. MiniSEED files outside of the station information period will be deleted!\n",
      "[2022-06-13 02:09:47,888] - obspy.clients.fdsn.mass_downloader - WARNING: Station information could not be downloaded for NZ.VRZ.10.HHZ. MiniSEED files outside of the station information period will be deleted!\n"
     ]
    },
    {
     "name": "stdout",
     "output_type": "stream",
     "text": [
      "100 threads took 37.4 seconds\n"
     ]
    },
    {
     "name": "stderr",
     "output_type": "stream",
     "text": [
      "[2022-06-13 02:10:05,723] - obspy.clients.fdsn.mass_downloader - WARNING: Station information could not be downloaded for NZ.OPRZ.10.HHZ. MiniSEED files outside of the station information period will be deleted!\n",
      "[2022-06-13 02:10:05,724] - obspy.clients.fdsn.mass_downloader - WARNING: Station information could not be downloaded for NZ.VRZ.10.HHZ. MiniSEED files outside of the station information period will be deleted!\n",
      "[2022-06-13 02:10:07,579] - obspy.clients.fdsn.mass_downloader - WARNING: Station information could not be downloaded for NZ.OPRZ.10.HHZ. MiniSEED files outside of the station information period will be deleted!\n",
      "[2022-06-13 02:10:07,580] - obspy.clients.fdsn.mass_downloader - WARNING: Station information could not be downloaded for NZ.RPZ.10.HHZ. MiniSEED files outside of the station information period will be deleted!\n",
      "[2022-06-13 02:10:07,840] - obspy.clients.fdsn.mass_downloader - WARNING: Station information could not be downloaded for NZ.OPRZ.10.HHZ. MiniSEED files outside of the station information period will be deleted!\n",
      "[2022-06-13 02:10:07,841] - obspy.clients.fdsn.mass_downloader - WARNING: Station information could not be downloaded for NZ.RPZ.10.HHZ. MiniSEED files outside of the station information period will be deleted!\n",
      "[2022-06-13 02:10:08,941] - obspy.clients.fdsn.mass_downloader - WARNING: Station information could not be downloaded for NZ.DCZ.10.HHZ. MiniSEED files outside of the station information period will be deleted!\n",
      "[2022-06-13 02:10:09,198] - obspy.clients.fdsn.mass_downloader - WARNING: Station information could not be downloaded for NZ.VRZ.10.HHZ. MiniSEED files outside of the station information period will be deleted!\n",
      "[2022-06-13 02:10:09,411] - obspy.clients.fdsn.mass_downloader - WARNING: Station information could not be downloaded for NZ.WVZ.10.HHZ. MiniSEED files outside of the station information period will be deleted!\n",
      "[2022-06-13 02:10:10,014] - obspy.clients.fdsn.mass_downloader - WARNING: Station information could not be downloaded for NZ.MWZ.10.HHZ. MiniSEED files outside of the station information period will be deleted!\n",
      "[2022-06-13 02:10:21,173] - obspy.clients.fdsn.mass_downloader - WARNING: Station information could not be downloaded for NZ.VRZ.10.HHZ. MiniSEED files outside of the station information period will be deleted!\n",
      "[2022-06-13 02:10:21,175] - obspy.clients.fdsn.mass_downloader - WARNING: Station information could not be downloaded for NZ.WVZ.10.HHZ. MiniSEED files outside of the station information period will be deleted!\n",
      "[2022-06-13 02:10:34,937] - obspy.clients.fdsn.mass_downloader - WARNING: Station information could not be downloaded for NZ.RPZ.10.HHZ. MiniSEED files outside of the station information period will be deleted!\n"
     ]
    },
    {
     "name": "stdout",
     "output_type": "stream",
     "text": [
      "100 threads took 45.1 seconds\n"
     ]
    },
    {
     "name": "stderr",
     "output_type": "stream",
     "text": [
      "[2022-06-13 02:10:52,350] - obspy.clients.fdsn.mass_downloader - WARNING: Station information could not be downloaded for NZ.RPZ.10.HHZ. MiniSEED files outside of the station information period will be deleted!\n",
      "[2022-06-13 02:10:54,047] - obspy.clients.fdsn.mass_downloader - WARNING: Station information could not be downloaded for NZ.DCZ.10.HHZ. MiniSEED files outside of the station information period will be deleted!\n",
      "[2022-06-13 02:11:06,440] - obspy.clients.fdsn.mass_downloader - WARNING: Station information could not be downloaded for NZ.MWZ.10.HHZ. MiniSEED files outside of the station information period will be deleted!\n",
      "[2022-06-13 02:11:06,441] - obspy.clients.fdsn.mass_downloader - WARNING: Station information could not be downloaded for NZ.VRZ.10.HHZ. MiniSEED files outside of the station information period will be deleted!\n"
     ]
    },
    {
     "name": "stdout",
     "output_type": "stream",
     "text": [
      "100 threads took 36.7 seconds\n"
     ]
    },
    {
     "name": "stderr",
     "output_type": "stream",
     "text": [
      "[2022-06-13 02:11:28,007] - obspy.clients.fdsn.mass_downloader - WARNING: Station information could not be downloaded for NZ.DCZ.10.HHZ. MiniSEED files outside of the station information period will be deleted!\n",
      "[2022-06-13 02:11:28,958] - obspy.clients.fdsn.mass_downloader - WARNING: Station information could not be downloaded for NZ.MWZ.10.HHZ. MiniSEED files outside of the station information period will be deleted!\n",
      "[2022-06-13 02:11:28,959] - obspy.clients.fdsn.mass_downloader - WARNING: Station information could not be downloaded for NZ.OPRZ.10.HHZ. MiniSEED files outside of the station information period will be deleted!\n",
      "[2022-06-13 02:11:30,169] - obspy.clients.fdsn.mass_downloader - WARNING: Station information could not be downloaded for NZ.OPRZ.10.HHZ. MiniSEED files outside of the station information period will be deleted!\n",
      "[2022-06-13 02:11:30,170] - obspy.clients.fdsn.mass_downloader - WARNING: Station information could not be downloaded for NZ.RPZ.10.HHZ. MiniSEED files outside of the station information period will be deleted!\n",
      "[2022-06-13 02:11:30,880] - obspy.clients.fdsn.mass_downloader - WARNING: Station information could not be downloaded for NZ.RPZ.10.HHZ. MiniSEED files outside of the station information period will be deleted!\n",
      "[2022-06-13 02:11:30,881] - obspy.clients.fdsn.mass_downloader - WARNING: Station information could not be downloaded for NZ.VRZ.10.HHZ. MiniSEED files outside of the station information period will be deleted!\n",
      "[2022-06-13 02:11:30,970] - obspy.clients.fdsn.mass_downloader - WARNING: Station information could not be downloaded for NZ.DCZ.10.HHZ. MiniSEED files outside of the station information period will be deleted!\n",
      "[2022-06-13 02:11:31,147] - obspy.clients.fdsn.mass_downloader - WARNING: Station information could not be downloaded for NZ.RPZ.10.HHZ. MiniSEED files outside of the station information period will be deleted!\n",
      "[2022-06-13 02:11:49,053] - obspy.clients.fdsn.mass_downloader - WARNING: Station information could not be downloaded for NZ.OPRZ.10.HHZ. MiniSEED files outside of the station information period will be deleted!\n"
     ]
    },
    {
     "name": "stdout",
     "output_type": "stream",
     "text": [
      "100 threads took 40.3 seconds\n"
     ]
    },
    {
     "name": "stderr",
     "output_type": "stream",
     "text": [
      "[2022-06-13 02:12:08,813] - obspy.clients.fdsn.mass_downloader - WARNING: Station information could not be downloaded for NZ.OPRZ.10.HHZ. MiniSEED files outside of the station information period will be deleted!\n",
      "[2022-06-13 02:12:09,320] - obspy.clients.fdsn.mass_downloader - WARNING: Station information could not be downloaded for NZ.OPRZ.10.HHZ. MiniSEED files outside of the station information period will be deleted!\n",
      "[2022-06-13 02:12:09,562] - obspy.clients.fdsn.mass_downloader - WARNING: Station information could not be downloaded for NZ.DCZ.10.HHZ. MiniSEED files outside of the station information period will be deleted!\n",
      "[2022-06-13 02:12:27,689] - obspy.clients.fdsn.mass_downloader - WARNING: Station information could not be downloaded for NZ.DCZ.10.HHZ. MiniSEED files outside of the station information period will be deleted!\n",
      "[2022-06-13 02:12:37,116] - obspy.clients.fdsn.mass_downloader - WARNING: Station information could not be downloaded for NZ.RPZ.10.HHZ. MiniSEED files outside of the station information period will be deleted!\n",
      "[2022-06-13 02:12:37,424] - obspy.clients.fdsn.mass_downloader - WARNING: Station information could not be downloaded for NZ.RPZ.10.HHZ. MiniSEED files outside of the station information period will be deleted!\n"
     ]
    },
    {
     "name": "stdout",
     "output_type": "stream",
     "text": [
      "100 threads took 42.6 seconds\n"
     ]
    },
    {
     "name": "stderr",
     "output_type": "stream",
     "text": [
      "[2022-06-13 02:12:52,362] - obspy.clients.fdsn.mass_downloader - WARNING: Station information could not be downloaded for NZ.MWZ.10.HHZ. MiniSEED files outside of the station information period will be deleted!\n",
      "[2022-06-13 02:12:52,363] - obspy.clients.fdsn.mass_downloader - WARNING: Station information could not be downloaded for NZ.WVZ.10.HHZ. MiniSEED files outside of the station information period will be deleted!\n",
      "[2022-06-13 02:13:01,543] - obspy.clients.fdsn.mass_downloader - WARNING: Station information could not be downloaded for NZ.DCZ.10.HHZ. MiniSEED files outside of the station information period will be deleted!\n",
      "[2022-06-13 02:13:01,544] - obspy.clients.fdsn.mass_downloader - WARNING: Station information could not be downloaded for NZ.MWZ.10.HHZ. MiniSEED files outside of the station information period will be deleted!\n",
      "[2022-06-13 02:13:05,121] - obspy.clients.fdsn.mass_downloader - WARNING: Station information could not be downloaded for NZ.RPZ.10.HHZ. MiniSEED files outside of the station information period will be deleted!\n",
      "[2022-06-13 02:13:15,663] - obspy.clients.fdsn.mass_downloader - WARNING: Station information could not be downloaded for NZ.VRZ.10.HHZ. MiniSEED files outside of the station information period will be deleted!\n"
     ]
    },
    {
     "name": "stdout",
     "output_type": "stream",
     "text": [
      "100 threads took 45.2 seconds\n"
     ]
    },
    {
     "name": "stderr",
     "output_type": "stream",
     "text": [
      "[2022-06-13 02:13:39,628] - obspy.clients.fdsn.mass_downloader - WARNING: Station information could not be downloaded for NZ.VRZ.10.HHZ. MiniSEED files outside of the station information period will be deleted!\n",
      "[2022-06-13 02:13:39,629] - obspy.clients.fdsn.mass_downloader - WARNING: Station information could not be downloaded for NZ.WVZ.10.HHZ. MiniSEED files outside of the station information period will be deleted!\n",
      "[2022-06-13 02:13:48,047] - obspy.clients.fdsn.mass_downloader - WARNING: Station information could not be downloaded for NZ.MWZ.10.HHZ. MiniSEED files outside of the station information period will be deleted!\n",
      "[2022-06-13 02:13:48,048] - obspy.clients.fdsn.mass_downloader - WARNING: Station information could not be downloaded for NZ.OPRZ.10.HHZ. MiniSEED files outside of the station information period will be deleted!\n",
      "[2022-06-13 02:13:53,831] - obspy.clients.fdsn.mass_downloader - WARNING: Station information could not be downloaded for NZ.MWZ.10.HHZ. MiniSEED files outside of the station information period will be deleted!\n",
      "[2022-06-13 02:13:53,834] - obspy.clients.fdsn.mass_downloader - WARNING: Station information could not be downloaded for NZ.OPRZ.10.HHZ. MiniSEED files outside of the station information period will be deleted!\n",
      "[2022-06-13 02:13:53,848] - obspy.clients.fdsn.mass_downloader - WARNING: Station information could not be downloaded for NZ.VRZ.10.HHZ. MiniSEED files outside of the station information period will be deleted!\n",
      "[2022-06-13 02:13:54,747] - obspy.clients.fdsn.mass_downloader - WARNING: Station information could not be downloaded for NZ.MWZ.10.HHZ. MiniSEED files outside of the station information period will be deleted!\n",
      "[2022-06-13 02:14:02,144] - obspy.clients.fdsn.mass_downloader - WARNING: Station information could not be downloaded for NZ.RPZ.10.HHZ. MiniSEED files outside of the station information period will be deleted!\n"
     ]
    },
    {
     "name": "stdout",
     "output_type": "stream",
     "text": [
      "100 threads took 42.5 seconds\n"
     ]
    },
    {
     "name": "stderr",
     "output_type": "stream",
     "text": [
      "[2022-06-13 02:14:18,736] - obspy.clients.fdsn.mass_downloader - WARNING: Station information could not be downloaded for NZ.OPRZ.10.HHZ. MiniSEED files outside of the station information period will be deleted!\n",
      "[2022-06-13 02:14:18,777] - obspy.clients.fdsn.mass_downloader - WARNING: Station information could not be downloaded for NZ.OPRZ.10.HHZ. MiniSEED files outside of the station information period will be deleted!\n",
      "[2022-06-13 02:14:18,991] - obspy.clients.fdsn.mass_downloader - WARNING: Station information could not be downloaded for NZ.WVZ.10.HHZ. MiniSEED files outside of the station information period will be deleted!\n",
      "[2022-06-13 02:14:19,236] - obspy.clients.fdsn.mass_downloader - WARNING: Station information could not be downloaded for NZ.OPRZ.10.HHZ. MiniSEED files outside of the station information period will be deleted!\n",
      "[2022-06-13 02:14:21,008] - obspy.clients.fdsn.mass_downloader - WARNING: Station information could not be downloaded for NZ.VRZ.10.HHZ. MiniSEED files outside of the station information period will be deleted!\n",
      "[2022-06-13 02:14:21,018] - obspy.clients.fdsn.mass_downloader - WARNING: Station information could not be downloaded for NZ.WVZ.10.HHZ. MiniSEED files outside of the station information period will be deleted!\n",
      "[2022-06-13 02:14:38,417] - obspy.clients.fdsn.mass_downloader - WARNING: Station information could not be downloaded for NZ.MWZ.10.HHZ. MiniSEED files outside of the station information period will be deleted!\n",
      "[2022-06-13 02:14:39,164] - obspy.clients.fdsn.mass_downloader - WARNING: Station information could not be downloaded for NZ.MWZ.10.HHZ. MiniSEED files outside of the station information period will be deleted!\n",
      "[2022-06-13 02:14:39,166] - obspy.clients.fdsn.mass_downloader - WARNING: Station information could not be downloaded for NZ.RPZ.10.HHZ. MiniSEED files outside of the station information period will be deleted!\n",
      "[2022-06-13 02:14:40,073] - obspy.clients.fdsn.mass_downloader - WARNING: Station information could not be downloaded for NZ.DCZ.10.HHZ. MiniSEED files outside of the station information period will be deleted!\n"
     ]
    },
    {
     "name": "stdout",
     "output_type": "stream",
     "text": [
      "100 threads took 45.2 seconds\n"
     ]
    },
    {
     "name": "stderr",
     "output_type": "stream",
     "text": [
      "[2022-06-13 02:15:06,158] - obspy.clients.fdsn.mass_downloader - WARNING: Station information could not be downloaded for NZ.MWZ.10.HHZ. MiniSEED files outside of the station information period will be deleted!\n",
      "[2022-06-13 02:15:06,159] - obspy.clients.fdsn.mass_downloader - WARNING: Station information could not be downloaded for NZ.OPRZ.10.HHZ. MiniSEED files outside of the station information period will be deleted!\n",
      "[2022-06-13 02:15:09,154] - obspy.clients.fdsn.mass_downloader - WARNING: Station information could not be downloaded for NZ.VRZ.10.HHZ. MiniSEED files outside of the station information period will be deleted!\n",
      "[2022-06-13 02:15:16,394] - obspy.clients.fdsn.mass_downloader - WARNING: Station information could not be downloaded for NZ.RPZ.10.HHZ. MiniSEED files outside of the station information period will be deleted!\n",
      "[2022-06-13 02:15:19,145] - obspy.clients.fdsn.mass_downloader - WARNING: Station information could not be downloaded for NZ.DCZ.10.HHZ. MiniSEED files outside of the station information period will be deleted!\n",
      "[2022-06-13 02:15:25,390] - obspy.clients.fdsn.mass_downloader - WARNING: Station information could not be downloaded for NZ.DCZ.10.HHZ. MiniSEED files outside of the station information period will be deleted!\n",
      "[2022-06-13 02:15:29,931] - obspy.clients.fdsn.mass_downloader - WARNING: Station information could not be downloaded for NZ.OPRZ.10.HHZ. MiniSEED files outside of the station information period will be deleted!\n"
     ]
    },
    {
     "name": "stdout",
     "output_type": "stream",
     "text": [
      "100 threads took 49.2 seconds\n"
     ]
    },
    {
     "name": "stderr",
     "output_type": "stream",
     "text": [
      "[2022-06-13 02:15:51,116] - obspy.clients.fdsn.mass_downloader - WARNING: Station information could not be downloaded for NZ.VRZ.10.HHZ. MiniSEED files outside of the station information period will be deleted!\n",
      "[2022-06-13 02:15:52,607] - obspy.clients.fdsn.mass_downloader - WARNING: Station information could not be downloaded for NZ.MWZ.10.HHZ. MiniSEED files outside of the station information period will be deleted!\n",
      "[2022-06-13 02:15:57,901] - obspy.clients.fdsn.mass_downloader - WARNING: Station information could not be downloaded for NZ.WVZ.10.HHZ. MiniSEED files outside of the station information period will be deleted!\n",
      "[2022-06-13 02:16:07,963] - obspy.clients.fdsn.mass_downloader - WARNING: Station information could not be downloaded for NZ.MWZ.10.HHZ. MiniSEED files outside of the station information period will be deleted!\n",
      "[2022-06-13 02:16:07,964] - obspy.clients.fdsn.mass_downloader - WARNING: Station information could not be downloaded for NZ.OPRZ.10.HHZ. MiniSEED files outside of the station information period will be deleted!\n",
      "[2022-06-13 02:16:20,957] - obspy.clients.fdsn.mass_downloader - WARNING: Station information could not be downloaded for NZ.RPZ.10.HHZ. MiniSEED files outside of the station information period will be deleted!\n"
     ]
    },
    {
     "name": "stdout",
     "output_type": "stream",
     "text": [
      "100 threads took 46.2 seconds\n"
     ]
    },
    {
     "name": "stderr",
     "output_type": "stream",
     "text": [
      "[2022-06-13 02:16:37,172] - obspy.clients.fdsn.mass_downloader - WARNING: Station information could not be downloaded for NZ.VRZ.10.HHZ. MiniSEED files outside of the station information period will be deleted!\n",
      "[2022-06-13 02:16:39,378] - obspy.clients.fdsn.mass_downloader - WARNING: Station information could not be downloaded for NZ.DCZ.10.HHZ. MiniSEED files outside of the station information period will be deleted!\n",
      "[2022-06-13 02:16:39,379] - obspy.clients.fdsn.mass_downloader - WARNING: Station information could not be downloaded for NZ.RPZ.10.HHZ. MiniSEED files outside of the station information period will be deleted!\n",
      "[2022-06-13 02:16:39,379] - obspy.clients.fdsn.mass_downloader - WARNING: Station information could not be downloaded for NZ.WVZ.10.HHZ. MiniSEED files outside of the station information period will be deleted!\n",
      "[2022-06-13 02:16:51,525] - obspy.clients.fdsn.mass_downloader - WARNING: Station information could not be downloaded for NZ.OPRZ.10.HHZ. MiniSEED files outside of the station information period will be deleted!\n",
      "[2022-06-13 02:16:51,526] - obspy.clients.fdsn.mass_downloader - WARNING: Station information could not be downloaded for NZ.VRZ.10.HHZ. MiniSEED files outside of the station information period will be deleted!\n",
      "[2022-06-13 02:16:52,340] - obspy.clients.fdsn.mass_downloader - WARNING: Station information could not be downloaded for NZ.MWZ.10.HHZ. MiniSEED files outside of the station information period will be deleted!\n",
      "[2022-06-13 02:17:03,637] - obspy.clients.fdsn.mass_downloader - WARNING: Station information could not be downloaded for NZ.MWZ.10.HHZ. MiniSEED files outside of the station information period will be deleted!\n",
      "[2022-06-13 02:17:04,029] - obspy.clients.fdsn.mass_downloader - WARNING: Station information could not be downloaded for NZ.DCZ.10.HHZ. MiniSEED files outside of the station information period will be deleted!\n",
      "[2022-06-13 02:17:04,029] - obspy.clients.fdsn.mass_downloader - WARNING: Station information could not be downloaded for NZ.RPZ.10.HHZ. MiniSEED files outside of the station information period will be deleted!\n"
     ]
    },
    {
     "name": "stdout",
     "output_type": "stream",
     "text": [
      "100 threads took 42.0 seconds\n"
     ]
    },
    {
     "name": "stderr",
     "output_type": "stream",
     "text": [
      "[2022-06-13 02:17:27,223] - obspy.clients.fdsn.mass_downloader - WARNING: Station information could not be downloaded for NZ.OPRZ.10.HHZ. MiniSEED files outside of the station information period will be deleted!\n",
      "[2022-06-13 02:17:27,326] - obspy.clients.fdsn.mass_downloader - WARNING: Station information could not be downloaded for NZ.OPRZ.10.HHZ. MiniSEED files outside of the station information period will be deleted!\n",
      "[2022-06-13 02:17:38,453] - obspy.clients.fdsn.mass_downloader - WARNING: Station information could not be downloaded for NZ.DCZ.10.HHZ. MiniSEED files outside of the station information period will be deleted!\n",
      "[2022-06-13 02:17:38,454] - obspy.clients.fdsn.mass_downloader - WARNING: Station information could not be downloaded for NZ.URZ.10.HHZ. MiniSEED files outside of the station information period will be deleted!\n",
      "[2022-06-13 02:17:38,959] - obspy.clients.fdsn.mass_downloader - WARNING: Station information could not be downloaded for NZ.DCZ.10.HHZ. MiniSEED files outside of the station information period will be deleted!\n",
      "[2022-06-13 02:17:43,269] - obspy.clients.fdsn.mass_downloader - WARNING: Station information could not be downloaded for NZ.MWZ.10.HHZ. MiniSEED files outside of the station information period will be deleted!\n",
      "[2022-06-13 02:17:43,271] - obspy.clients.fdsn.mass_downloader - WARNING: Station information could not be downloaded for NZ.VRZ.10.HHZ. MiniSEED files outside of the station information period will be deleted!\n"
     ]
    },
    {
     "name": "stdout",
     "output_type": "stream",
     "text": [
      "100 threads took 36.1 seconds\n"
     ]
    },
    {
     "name": "stderr",
     "output_type": "stream",
     "text": [
      "[2022-06-13 02:17:55,878] - obspy.clients.fdsn.mass_downloader - WARNING: Station information could not be downloaded for NZ.VRZ.10.HHZ. MiniSEED files outside of the station information period will be deleted!\n",
      "[2022-06-13 02:17:56,243] - obspy.clients.fdsn.mass_downloader - WARNING: Station information could not be downloaded for NZ.MWZ.10.HHZ. MiniSEED files outside of the station information period will be deleted!\n",
      "[2022-06-13 02:17:57,064] - obspy.clients.fdsn.mass_downloader - WARNING: Station information could not be downloaded for NZ.MWZ.10.HHZ. MiniSEED files outside of the station information period will be deleted!\n",
      "[2022-06-13 02:18:11,137] - obspy.clients.fdsn.mass_downloader - WARNING: Station information could not be downloaded for NZ.RPZ.10.HHZ. MiniSEED files outside of the station information period will be deleted!\n"
     ]
    },
    {
     "name": "stdout",
     "output_type": "stream",
     "text": [
      "100 threads took 44.7 seconds\n"
     ]
    },
    {
     "name": "stderr",
     "output_type": "stream",
     "text": [
      "[2022-06-13 02:18:43,725] - obspy.clients.fdsn.mass_downloader - WARNING: Station information could not be downloaded for NZ.RPZ.10.HHZ. MiniSEED files outside of the station information period will be deleted!\n",
      "[2022-06-13 02:18:44,570] - obspy.clients.fdsn.mass_downloader - WARNING: Station information could not be downloaded for NZ.DCZ.10.HHZ. MiniSEED files outside of the station information period will be deleted!\n",
      "[2022-06-13 02:18:45,835] - obspy.clients.fdsn.mass_downloader - WARNING: Station information could not be downloaded for NZ.RPZ.10.HHZ. MiniSEED files outside of the station information period will be deleted!\n",
      "[2022-06-13 02:18:52,967] - obspy.clients.fdsn.mass_downloader - WARNING: Station information could not be downloaded for NZ.DCZ.10.HHZ. MiniSEED files outside of the station information period will be deleted!\n",
      "[2022-06-13 02:18:52,968] - obspy.clients.fdsn.mass_downloader - WARNING: Station information could not be downloaded for NZ.MWZ.10.HHZ. MiniSEED files outside of the station information period will be deleted!\n",
      "[2022-06-13 02:18:52,969] - obspy.clients.fdsn.mass_downloader - WARNING: Station information could not be downloaded for NZ.RPZ.10.HHZ. MiniSEED files outside of the station information period will be deleted!\n",
      "[2022-06-13 02:18:54,782] - obspy.clients.fdsn.mass_downloader - WARNING: Station information could not be downloaded for NZ.DCZ.10.HHZ. MiniSEED files outside of the station information period will be deleted!\n",
      "[2022-06-13 02:18:54,783] - obspy.clients.fdsn.mass_downloader - WARNING: Station information could not be downloaded for NZ.MWZ.10.HHZ. MiniSEED files outside of the station information period will be deleted!\n",
      "[2022-06-13 02:18:57,793] - obspy.clients.fdsn.mass_downloader - WARNING: Station information could not be downloaded for NZ.MWZ.10.HHZ. MiniSEED files outside of the station information period will be deleted!\n"
     ]
    },
    {
     "name": "stdout",
     "output_type": "stream",
     "text": [
      "100 threads took 45.9 seconds\n"
     ]
    },
    {
     "name": "stderr",
     "output_type": "stream",
     "text": [
      "[2022-06-13 02:19:33,079] - obspy.clients.fdsn.mass_downloader - WARNING: Station information could not be downloaded for NZ.RPZ.10.HHZ. MiniSEED files outside of the station information period will be deleted!\n"
     ]
    },
    {
     "name": "stdout",
     "output_type": "stream",
     "text": [
      "100 threads took 49.9 seconds\n"
     ]
    },
    {
     "name": "stderr",
     "output_type": "stream",
     "text": [
      "[2022-06-13 02:20:16,465] - obspy.clients.fdsn.mass_downloader - WARNING: Station information could not be downloaded for NZ.RPZ.10.HHZ. MiniSEED files outside of the station information period will be deleted!\n",
      "[2022-06-13 02:20:17,505] - obspy.clients.fdsn.mass_downloader - WARNING: Station information could not be downloaded for NZ.MWZ.10.HHZ. MiniSEED files outside of the station information period will be deleted!\n",
      "[2022-06-13 02:20:17,506] - obspy.clients.fdsn.mass_downloader - WARNING: Station information could not be downloaded for NZ.OPRZ.10.HHZ. MiniSEED files outside of the station information period will be deleted!\n",
      "[2022-06-13 02:20:17,507] - obspy.clients.fdsn.mass_downloader - WARNING: Station information could not be downloaded for NZ.RPZ.10.HHZ. MiniSEED files outside of the station information period will be deleted!\n",
      "[2022-06-13 02:20:17,507] - obspy.clients.fdsn.mass_downloader - WARNING: Station information could not be downloaded for NZ.VRZ.10.HHZ. MiniSEED files outside of the station information period will be deleted!\n",
      "[2022-06-13 02:20:19,326] - obspy.clients.fdsn.mass_downloader - WARNING: Station information could not be downloaded for NZ.OPRZ.10.HHZ. MiniSEED files outside of the station information period will be deleted!\n",
      "[2022-06-13 02:20:36,007] - obspy.clients.fdsn.mass_downloader - WARNING: Station information could not be downloaded for NZ.OPRZ.10.HHZ. MiniSEED files outside of the station information period will be deleted!\n",
      "[2022-06-13 02:20:36,134] - obspy.clients.fdsn.mass_downloader - WARNING: Station information could not be downloaded for NZ.MWZ.10.HHZ. MiniSEED files outside of the station information period will be deleted!\n",
      "[2022-06-13 02:20:44,770] - obspy.clients.fdsn.mass_downloader - WARNING: Station information could not be downloaded for NZ.DCZ.10.HHZ. MiniSEED files outside of the station information period will be deleted!\n",
      "[2022-06-13 02:20:45,307] - obspy.clients.fdsn.mass_downloader - WARNING: Station information could not be downloaded for NZ.DCZ.10.HHZ. MiniSEED files outside of the station information period will be deleted!\n"
     ]
    },
    {
     "name": "stdout",
     "output_type": "stream",
     "text": [
      "100 threads took 41.9 seconds\n"
     ]
    },
    {
     "name": "stderr",
     "output_type": "stream",
     "text": [
      "[2022-06-13 02:20:57,639] - obspy.clients.fdsn.mass_downloader - WARNING: Station information could not be downloaded for NZ.MWZ.10.HHZ. MiniSEED files outside of the station information period will be deleted!\n",
      "[2022-06-13 02:21:03,895] - obspy.clients.fdsn.mass_downloader - WARNING: Station information could not be downloaded for NZ.RPZ.10.HHZ. MiniSEED files outside of the station information period will be deleted!\n",
      "[2022-06-13 02:21:05,896] - obspy.clients.fdsn.mass_downloader - WARNING: Station information could not be downloaded for NZ.VRZ.10.HHZ. MiniSEED files outside of the station information period will be deleted!\n",
      "[2022-06-13 02:21:14,211] - obspy.clients.fdsn.mass_downloader - WARNING: Station information could not be downloaded for NZ.DCZ.10.HHZ. MiniSEED files outside of the station information period will be deleted!\n",
      "[2022-06-13 02:21:14,212] - obspy.clients.fdsn.mass_downloader - WARNING: Station information could not be downloaded for NZ.RPZ.10.HHZ. MiniSEED files outside of the station information period will be deleted!\n",
      "[2022-06-13 02:21:16,507] - obspy.clients.fdsn.mass_downloader - WARNING: Station information could not be downloaded for NZ.OPRZ.10.HHZ. MiniSEED files outside of the station information period will be deleted!\n",
      "[2022-06-13 02:21:21,744] - obspy.clients.fdsn.mass_downloader - WARNING: Station information could not be downloaded for NZ.URZ.10.HHZ. MiniSEED files outside of the station information period will be deleted!\n"
     ]
    },
    {
     "name": "stdout",
     "output_type": "stream",
     "text": [
      "100 threads took 36.2 seconds\n"
     ]
    },
    {
     "name": "stderr",
     "output_type": "stream",
     "text": [
      "[2022-06-13 02:21:32,534] - obspy.clients.fdsn.mass_downloader - WARNING: Station information could not be downloaded for NZ.WVZ.10.HHZ. MiniSEED files outside of the station information period will be deleted!\n",
      "[2022-06-13 02:21:33,802] - obspy.clients.fdsn.mass_downloader - WARNING: Station information could not be downloaded for NZ.MWZ.10.HHZ. MiniSEED files outside of the station information period will be deleted!\n",
      "[2022-06-13 02:21:33,803] - obspy.clients.fdsn.mass_downloader - WARNING: Station information could not be downloaded for NZ.VRZ.10.HHZ. MiniSEED files outside of the station information period will be deleted!\n",
      "[2022-06-13 02:21:33,804] - obspy.clients.fdsn.mass_downloader - WARNING: Station information could not be downloaded for NZ.WVZ.10.HHZ. MiniSEED files outside of the station information period will be deleted!\n",
      "[2022-06-13 02:21:37,339] - obspy.clients.fdsn.mass_downloader - WARNING: Station information could not be downloaded for NZ.VRZ.10.HHZ. MiniSEED files outside of the station information period will be deleted!\n",
      "[2022-06-13 02:21:37,340] - obspy.clients.fdsn.mass_downloader - WARNING: Station information could not be downloaded for NZ.WVZ.10.HHZ. MiniSEED files outside of the station information period will be deleted!\n",
      "[2022-06-13 02:21:37,498] - obspy.clients.fdsn.mass_downloader - WARNING: Station information could not be downloaded for NZ.VRZ.10.HHZ. MiniSEED files outside of the station information period will be deleted!\n",
      "[2022-06-13 02:21:46,072] - obspy.clients.fdsn.mass_downloader - WARNING: Station information could not be downloaded for NZ.OPRZ.10.HHZ. MiniSEED files outside of the station information period will be deleted!\n",
      "[2022-06-13 02:21:46,073] - obspy.clients.fdsn.mass_downloader - WARNING: Station information could not be downloaded for NZ.WVZ.10.HHZ. MiniSEED files outside of the station information period will be deleted!\n",
      "[2022-06-13 02:21:55,738] - obspy.clients.fdsn.mass_downloader - WARNING: Station information could not be downloaded for NZ.DCZ.10.HHZ. MiniSEED files outside of the station information period will be deleted!\n"
     ]
    },
    {
     "name": "stdout",
     "output_type": "stream",
     "text": [
      "100 threads took 40.8 seconds\n"
     ]
    },
    {
     "name": "stderr",
     "output_type": "stream",
     "text": [
      "[2022-06-13 02:22:22,084] - obspy.clients.fdsn.mass_downloader - WARNING: Station information could not be downloaded for NZ.WVZ.10.HHZ. MiniSEED files outside of the station information period will be deleted!\n",
      "[2022-06-13 02:22:22,653] - obspy.clients.fdsn.mass_downloader - WARNING: Station information could not be downloaded for NZ.RPZ.10.HHZ. MiniSEED files outside of the station information period will be deleted!\n",
      "[2022-06-13 02:22:34,502] - obspy.clients.fdsn.mass_downloader - WARNING: Station information could not be downloaded for NZ.MWZ.10.HHZ. MiniSEED files outside of the station information period will be deleted!\n",
      "[2022-06-13 02:22:35,974] - obspy.clients.fdsn.mass_downloader - WARNING: Station information could not be downloaded for NZ.DCZ.10.HHZ. MiniSEED files outside of the station information period will be deleted!\n",
      "[2022-06-13 02:22:35,975] - obspy.clients.fdsn.mass_downloader - WARNING: Station information could not be downloaded for NZ.RPZ.10.HHZ. MiniSEED files outside of the station information period will be deleted!\n",
      "[2022-06-13 02:22:35,976] - obspy.clients.fdsn.mass_downloader - WARNING: Station information could not be downloaded for NZ.VRZ.10.HHZ. MiniSEED files outside of the station information period will be deleted!\n",
      "[2022-06-13 02:22:35,976] - obspy.clients.fdsn.mass_downloader - WARNING: Station information could not be downloaded for NZ.WVZ.10.HHZ. MiniSEED files outside of the station information period will be deleted!\n"
     ]
    },
    {
     "name": "stdout",
     "output_type": "stream",
     "text": [
      "100 threads took 43.3 seconds\n"
     ]
    },
    {
     "name": "stderr",
     "output_type": "stream",
     "text": [
      "[2022-06-13 02:22:58,621] - obspy.clients.fdsn.mass_downloader - WARNING: Station information could not be downloaded for NZ.MWZ.10.HHZ. MiniSEED files outside of the station information period will be deleted!\n",
      "[2022-06-13 02:22:58,622] - obspy.clients.fdsn.mass_downloader - WARNING: Station information could not be downloaded for NZ.OPRZ.10.HHZ. MiniSEED files outside of the station information period will be deleted!\n",
      "[2022-06-13 02:22:58,843] - obspy.clients.fdsn.mass_downloader - WARNING: Station information could not be downloaded for NZ.OPRZ.10.HHZ. MiniSEED files outside of the station information period will be deleted!\n",
      "[2022-06-13 02:22:59,012] - obspy.clients.fdsn.mass_downloader - WARNING: Station information could not be downloaded for NZ.OPRZ.10.HHZ. MiniSEED files outside of the station information period will be deleted!\n",
      "[2022-06-13 02:22:59,013] - obspy.clients.fdsn.mass_downloader - WARNING: Station information could not be downloaded for NZ.RPZ.10.HHZ. MiniSEED files outside of the station information period will be deleted!\n",
      "[2022-06-13 02:22:59,171] - obspy.clients.fdsn.mass_downloader - WARNING: Station information could not be downloaded for NZ.MWZ.10.HHZ. MiniSEED files outside of the station information period will be deleted!\n",
      "[2022-06-13 02:23:00,142] - obspy.clients.fdsn.mass_downloader - WARNING: Station information could not be downloaded for NZ.MWZ.10.HHZ. MiniSEED files outside of the station information period will be deleted!\n",
      "[2022-06-13 02:23:16,711] - obspy.clients.fdsn.mass_downloader - WARNING: Station information could not be downloaded for NZ.VRZ.10.HHZ. MiniSEED files outside of the station information period will be deleted!\n",
      "[2022-06-13 02:23:17,578] - obspy.clients.fdsn.mass_downloader - WARNING: Station information could not be downloaded for NZ.RPZ.10.HHZ. MiniSEED files outside of the station information period will be deleted!\n",
      "[2022-06-13 02:23:17,579] - obspy.clients.fdsn.mass_downloader - WARNING: Station information could not be downloaded for NZ.URZ.10.HHZ. MiniSEED files outside of the station information period will be deleted!\n"
     ]
    },
    {
     "name": "stdout",
     "output_type": "stream",
     "text": [
      "100 threads took 35.0 seconds\n"
     ]
    },
    {
     "name": "stderr",
     "output_type": "stream",
     "text": [
      "[2022-06-13 02:23:37,745] - obspy.clients.fdsn.mass_downloader - WARNING: Station information could not be downloaded for NZ.MWZ.10.HHZ. MiniSEED files outside of the station information period will be deleted!\n",
      "[2022-06-13 02:23:37,746] - obspy.clients.fdsn.mass_downloader - WARNING: Station information could not be downloaded for NZ.OPRZ.10.HHZ. MiniSEED files outside of the station information period will be deleted!\n",
      "[2022-06-13 02:23:38,351] - obspy.clients.fdsn.mass_downloader - WARNING: Station information could not be downloaded for NZ.MWZ.10.HHZ. MiniSEED files outside of the station information period will be deleted!\n",
      "[2022-06-13 02:23:38,352] - obspy.clients.fdsn.mass_downloader - WARNING: Station information could not be downloaded for NZ.OPRZ.10.HHZ. MiniSEED files outside of the station information period will be deleted!\n",
      "[2022-06-13 02:23:38,773] - obspy.clients.fdsn.mass_downloader - WARNING: Station information could not be downloaded for NZ.RPZ.10.HHZ. MiniSEED files outside of the station information period will be deleted!\n",
      "[2022-06-13 02:23:39,744] - obspy.clients.fdsn.mass_downloader - WARNING: Station information could not be downloaded for NZ.VRZ.10.HHZ. MiniSEED files outside of the station information period will be deleted!\n",
      "[2022-06-13 02:23:41,521] - obspy.clients.fdsn.mass_downloader - WARNING: Station information could not be downloaded for NZ.MWZ.10.HHZ. MiniSEED files outside of the station information period will be deleted!\n",
      "[2022-06-13 02:23:41,522] - obspy.clients.fdsn.mass_downloader - WARNING: Station information could not be downloaded for NZ.OPRZ.10.HHZ. MiniSEED files outside of the station information period will be deleted!\n",
      "[2022-06-13 02:23:53,245] - obspy.clients.fdsn.mass_downloader - WARNING: Station information could not be downloaded for NZ.DCZ.10.HHZ. MiniSEED files outside of the station information period will be deleted!\n",
      "[2022-06-13 02:23:53,245] - obspy.clients.fdsn.mass_downloader - WARNING: Station information could not be downloaded for NZ.RPZ.10.HHZ. MiniSEED files outside of the station information period will be deleted!\n"
     ]
    },
    {
     "name": "stdout",
     "output_type": "stream",
     "text": [
      "100 threads took 38.8 seconds\n"
     ]
    },
    {
     "name": "stderr",
     "output_type": "stream",
     "text": [
      "[2022-06-13 02:24:12,409] - obspy.clients.fdsn.mass_downloader - WARNING: Station information could not be downloaded for NZ.MWZ.10.HHZ. MiniSEED files outside of the station information period will be deleted!\n",
      "[2022-06-13 02:24:12,410] - obspy.clients.fdsn.mass_downloader - WARNING: Station information could not be downloaded for NZ.VRZ.10.HHZ. MiniSEED files outside of the station information period will be deleted!\n",
      "[2022-06-13 02:24:14,248] - obspy.clients.fdsn.mass_downloader - WARNING: Station information could not be downloaded for NZ.VRZ.10.HHZ. MiniSEED files outside of the station information period will be deleted!\n",
      "[2022-06-13 02:24:14,736] - obspy.clients.fdsn.mass_downloader - WARNING: Station information could not be downloaded for NZ.DCZ.10.HHZ. MiniSEED files outside of the station information period will be deleted!\n",
      "[2022-06-13 02:24:14,737] - obspy.clients.fdsn.mass_downloader - WARNING: Station information could not be downloaded for NZ.OPRZ.10.HHZ. MiniSEED files outside of the station information period will be deleted!\n",
      "[2022-06-13 02:24:16,869] - obspy.clients.fdsn.mass_downloader - WARNING: Station information could not be downloaded for NZ.OPRZ.10.HHZ. MiniSEED files outside of the station information period will be deleted!\n",
      "[2022-06-13 02:24:24,932] - obspy.clients.fdsn.mass_downloader - WARNING: Station information could not be downloaded for NZ.DCZ.10.HHZ. MiniSEED files outside of the station information period will be deleted!\n",
      "[2022-06-13 02:24:25,044] - obspy.clients.fdsn.mass_downloader - WARNING: Station information could not be downloaded for NZ.OPRZ.10.HHZ. MiniSEED files outside of the station information period will be deleted!\n",
      "[2022-06-13 02:24:25,046] - obspy.clients.fdsn.mass_downloader - WARNING: Station information could not be downloaded for NZ.URZ.10.HHZ. MiniSEED files outside of the station information period will be deleted!\n"
     ]
    },
    {
     "name": "stdout",
     "output_type": "stream",
     "text": [
      "100 threads took 30.7 seconds\n"
     ]
    },
    {
     "name": "stderr",
     "output_type": "stream",
     "text": [
      "[2022-06-13 02:24:44,496] - obspy.clients.fdsn.mass_downloader - WARNING: Station information could not be downloaded for NZ.OPRZ.10.HHZ. MiniSEED files outside of the station information period will be deleted!\n",
      "[2022-06-13 02:24:59,170] - obspy.clients.fdsn.mass_downloader - WARNING: Station information could not be downloaded for NZ.DCZ.10.HHZ. MiniSEED files outside of the station information period will be deleted!\n",
      "[2022-06-13 02:24:59,171] - obspy.clients.fdsn.mass_downloader - WARNING: Station information could not be downloaded for NZ.MWZ.10.HHZ. MiniSEED files outside of the station information period will be deleted!\n",
      "[2022-06-13 02:25:06,911] - obspy.clients.fdsn.mass_downloader - WARNING: Station information could not be downloaded for NZ.DCZ.10.HHZ. MiniSEED files outside of the station information period will be deleted!\n"
     ]
    },
    {
     "name": "stdout",
     "output_type": "stream",
     "text": [
      "100 threads took 48.3 seconds\n"
     ]
    },
    {
     "name": "stderr",
     "output_type": "stream",
     "text": [
      "[2022-06-13 02:25:30,952] - obspy.clients.fdsn.mass_downloader - WARNING: Station information could not be downloaded for NZ.DCZ.10.HHZ. MiniSEED files outside of the station information period will be deleted!\n",
      "[2022-06-13 02:25:30,953] - obspy.clients.fdsn.mass_downloader - WARNING: Station information could not be downloaded for NZ.OPRZ.10.HHZ. MiniSEED files outside of the station information period will be deleted!\n",
      "[2022-06-13 02:25:30,953] - obspy.clients.fdsn.mass_downloader - WARNING: Station information could not be downloaded for NZ.RPZ.10.HHZ. MiniSEED files outside of the station information period will be deleted!\n",
      "[2022-06-13 02:25:45,877] - obspy.clients.fdsn.mass_downloader - WARNING: Station information could not be downloaded for NZ.VRZ.10.HHZ. MiniSEED files outside of the station information period will be deleted!\n",
      "[2022-06-13 02:25:51,043] - obspy.clients.fdsn.mass_downloader - WARNING: Station information could not be downloaded for NZ.MWZ.10.HHZ. MiniSEED files outside of the station information period will be deleted!\n",
      "[2022-06-13 02:25:51,043] - obspy.clients.fdsn.mass_downloader - WARNING: Station information could not be downloaded for NZ.OPRZ.10.HHZ. MiniSEED files outside of the station information period will be deleted!\n",
      "[2022-06-13 02:25:51,044] - obspy.clients.fdsn.mass_downloader - WARNING: Station information could not be downloaded for NZ.RPZ.10.HHZ. MiniSEED files outside of the station information period will be deleted!\n",
      "[2022-06-13 02:25:51,160] - obspy.clients.fdsn.mass_downloader - WARNING: Station information could not be downloaded for NZ.VRZ.10.HHZ. MiniSEED files outside of the station information period will be deleted!\n"
     ]
    },
    {
     "name": "stdout",
     "output_type": "stream",
     "text": [
      "100 threads took 37.7 seconds\n"
     ]
    },
    {
     "name": "stderr",
     "output_type": "stream",
     "text": [
      "[2022-06-13 02:26:09,410] - obspy.clients.fdsn.mass_downloader - WARNING: Station information could not be downloaded for NZ.MWZ.10.HHZ. MiniSEED files outside of the station information period will be deleted!\n",
      "[2022-06-13 02:26:09,411] - obspy.clients.fdsn.mass_downloader - WARNING: Station information could not be downloaded for NZ.RPZ.10.HHZ. MiniSEED files outside of the station information period will be deleted!\n",
      "[2022-06-13 02:26:09,411] - obspy.clients.fdsn.mass_downloader - WARNING: Station information could not be downloaded for NZ.URZ.10.HHZ. MiniSEED files outside of the station information period will be deleted!\n",
      "[2022-06-13 02:26:09,449] - obspy.clients.fdsn.mass_downloader - WARNING: Station information could not be downloaded for NZ.DCZ.10.HHZ. MiniSEED files outside of the station information period will be deleted!\n",
      "[2022-06-13 02:26:09,450] - obspy.clients.fdsn.mass_downloader - WARNING: Station information could not be downloaded for NZ.OPRZ.10.HHZ. MiniSEED files outside of the station information period will be deleted!\n",
      "[2022-06-13 02:26:09,868] - obspy.clients.fdsn.mass_downloader - WARNING: Station information could not be downloaded for NZ.DCZ.10.HHZ. MiniSEED files outside of the station information period will be deleted!\n",
      "[2022-06-13 02:26:09,869] - obspy.clients.fdsn.mass_downloader - WARNING: Station information could not be downloaded for NZ.OPRZ.10.HHZ. MiniSEED files outside of the station information period will be deleted!\n",
      "[2022-06-13 02:26:09,870] - obspy.clients.fdsn.mass_downloader - WARNING: Station information could not be downloaded for NZ.VRZ.10.HHZ. MiniSEED files outside of the station information period will be deleted!\n",
      "[2022-06-13 02:26:09,870] - obspy.clients.fdsn.mass_downloader - WARNING: Station information could not be downloaded for NZ.WVZ.10.HHZ. MiniSEED files outside of the station information period will be deleted!\n",
      "[2022-06-13 02:26:09,905] - obspy.clients.fdsn.mass_downloader - WARNING: Station information could not be downloaded for NZ.DCZ.10.HHZ. MiniSEED files outside of the station information period will be deleted!\n",
      "[2022-06-13 02:26:09,906] - obspy.clients.fdsn.mass_downloader - WARNING: Station information could not be downloaded for NZ.OPRZ.10.HHZ. MiniSEED files outside of the station information period will be deleted!\n",
      "[2022-06-13 02:26:09,907] - obspy.clients.fdsn.mass_downloader - WARNING: Station information could not be downloaded for NZ.WVZ.10.HHZ. MiniSEED files outside of the station information period will be deleted!\n",
      "[2022-06-13 02:26:10,083] - obspy.clients.fdsn.mass_downloader - WARNING: Station information could not be downloaded for NZ.MWZ.10.HHZ. MiniSEED files outside of the station information period will be deleted!\n",
      "[2022-06-13 02:26:25,395] - obspy.clients.fdsn.mass_downloader - WARNING: Station information could not be downloaded for NZ.RPZ.10.HHZ. MiniSEED files outside of the station information period will be deleted!\n",
      "[2022-06-13 02:26:25,924] - obspy.clients.fdsn.mass_downloader - WARNING: Station information could not be downloaded for NZ.OPRZ.10.HHZ. MiniSEED files outside of the station information period will be deleted!\n",
      "[2022-06-13 02:26:26,431] - obspy.clients.fdsn.mass_downloader - WARNING: Station information could not be downloaded for NZ.VRZ.10.HHZ. MiniSEED files outside of the station information period will be deleted!\n",
      "[2022-06-13 02:26:29,829] - obspy.clients.fdsn.mass_downloader - WARNING: Station information could not be downloaded for NZ.WVZ.10.HHZ. MiniSEED files outside of the station information period will be deleted!\n",
      "[2022-06-13 02:26:31,837] - obspy.clients.fdsn.mass_downloader - WARNING: Station information could not be downloaded for NZ.OPRZ.10.HHZ. MiniSEED files outside of the station information period will be deleted!\n",
      "[2022-06-13 02:26:31,838] - obspy.clients.fdsn.mass_downloader - WARNING: Station information could not be downloaded for NZ.RPZ.10.HHZ. MiniSEED files outside of the station information period will be deleted!\n",
      "[2022-06-13 02:26:31,839] - obspy.clients.fdsn.mass_downloader - WARNING: Station information could not be downloaded for NZ.VRZ.10.HHZ. MiniSEED files outside of the station information period will be deleted!\n",
      "[2022-06-13 02:26:33,998] - obspy.clients.fdsn.mass_downloader - WARNING: Station information could not be downloaded for NZ.OPRZ.10.HHZ. MiniSEED files outside of the station information period will be deleted!\n"
     ]
    },
    {
     "name": "stdout",
     "output_type": "stream",
     "text": [
      "100 threads took 45.2 seconds\n"
     ]
    },
    {
     "name": "stderr",
     "output_type": "stream",
     "text": [
      "[2022-06-13 02:26:53,202] - obspy.clients.fdsn.mass_downloader - WARNING: Station information could not be downloaded for NZ.DCZ.10.HHZ. MiniSEED files outside of the station information period will be deleted!\n",
      "[2022-06-13 02:26:53,203] - obspy.clients.fdsn.mass_downloader - WARNING: Station information could not be downloaded for NZ.MWZ.10.HHZ. MiniSEED files outside of the station information period will be deleted!\n",
      "[2022-06-13 02:26:53,204] - obspy.clients.fdsn.mass_downloader - WARNING: Station information could not be downloaded for NZ.OPRZ.10.HHZ. MiniSEED files outside of the station information period will be deleted!\n",
      "[2022-06-13 02:26:59,611] - obspy.clients.fdsn.mass_downloader - WARNING: Station information could not be downloaded for NZ.DCZ.10.HHZ. MiniSEED files outside of the station information period will be deleted!\n",
      "[2022-06-13 02:27:00,174] - obspy.clients.fdsn.mass_downloader - WARNING: Station information could not be downloaded for NZ.OPRZ.10.HHZ. MiniSEED files outside of the station information period will be deleted!\n",
      "[2022-06-13 02:27:01,443] - obspy.clients.fdsn.mass_downloader - WARNING: Station information could not be downloaded for NZ.RPZ.10.HHZ. MiniSEED files outside of the station information period will be deleted!\n",
      "[2022-06-13 02:27:11,471] - obspy.clients.fdsn.mass_downloader - WARNING: Station information could not be downloaded for NZ.RPZ.10.HHZ. MiniSEED files outside of the station information period will be deleted!\n",
      "[2022-06-13 02:27:11,541] - obspy.clients.fdsn.mass_downloader - WARNING: Station information could not be downloaded for NZ.MWZ.10.HHZ. MiniSEED files outside of the station information period will be deleted!\n",
      "[2022-06-13 02:27:11,542] - obspy.clients.fdsn.mass_downloader - WARNING: Station information could not be downloaded for NZ.VRZ.10.HHZ. MiniSEED files outside of the station information period will be deleted!\n",
      "[2022-06-13 02:27:15,012] - obspy.clients.fdsn.mass_downloader - WARNING: Station information could not be downloaded for NZ.MWZ.10.HHZ. MiniSEED files outside of the station information period will be deleted!\n"
     ]
    },
    {
     "name": "stdout",
     "output_type": "stream",
     "text": [
      "100 threads took 40.3 seconds\n"
     ]
    },
    {
     "name": "stderr",
     "output_type": "stream",
     "text": [
      "[2022-06-13 02:27:35,995] - obspy.clients.fdsn.mass_downloader - WARNING: Station information could not be downloaded for NZ.MWZ.10.HHZ. MiniSEED files outside of the station information period will be deleted!\n",
      "[2022-06-13 02:27:36,092] - obspy.clients.fdsn.mass_downloader - WARNING: Station information could not be downloaded for NZ.DCZ.10.HHZ. MiniSEED files outside of the station information period will be deleted!\n",
      "[2022-06-13 02:27:36,181] - obspy.clients.fdsn.mass_downloader - WARNING: Station information could not be downloaded for NZ.RPZ.10.HHZ. MiniSEED files outside of the station information period will be deleted!\n",
      "[2022-06-13 02:27:38,215] - obspy.clients.fdsn.mass_downloader - WARNING: Station information could not be downloaded for NZ.DCZ.10.HHZ. MiniSEED files outside of the station information period will be deleted!\n",
      "[2022-06-13 02:27:38,216] - obspy.clients.fdsn.mass_downloader - WARNING: Station information could not be downloaded for NZ.OPRZ.10.HHZ. MiniSEED files outside of the station information period will be deleted!\n",
      "[2022-06-13 02:27:38,217] - obspy.clients.fdsn.mass_downloader - WARNING: Station information could not be downloaded for NZ.RPZ.10.HHZ. MiniSEED files outside of the station information period will be deleted!\n",
      "[2022-06-13 02:27:38,218] - obspy.clients.fdsn.mass_downloader - WARNING: Station information could not be downloaded for NZ.VRZ.10.HHZ. MiniSEED files outside of the station information period will be deleted!\n",
      "[2022-06-13 02:27:38,520] - obspy.clients.fdsn.mass_downloader - WARNING: Station information could not be downloaded for NZ.WVZ.10.HHZ. MiniSEED files outside of the station information period will be deleted!\n",
      "[2022-06-13 02:27:39,585] - obspy.clients.fdsn.mass_downloader - WARNING: Station information could not be downloaded for NZ.OPRZ.10.HHZ. MiniSEED files outside of the station information period will be deleted!\n",
      "[2022-06-13 02:27:40,282] - obspy.clients.fdsn.mass_downloader - WARNING: Station information could not be downloaded for NZ.MWZ.10.HHZ. MiniSEED files outside of the station information period will be deleted!\n",
      "[2022-06-13 02:27:52,780] - obspy.clients.fdsn.mass_downloader - WARNING: Station information could not be downloaded for NZ.DCZ.10.HHZ. MiniSEED files outside of the station information period will be deleted!\n",
      "[2022-06-13 02:27:52,782] - obspy.clients.fdsn.mass_downloader - WARNING: Station information could not be downloaded for NZ.MWZ.10.HHZ. MiniSEED files outside of the station information period will be deleted!\n",
      "[2022-06-13 02:27:52,783] - obspy.clients.fdsn.mass_downloader - WARNING: Station information could not be downloaded for NZ.OPRZ.10.HHZ. MiniSEED files outside of the station information period will be deleted!\n",
      "[2022-06-13 02:28:00,894] - obspy.clients.fdsn.mass_downloader - WARNING: Station information could not be downloaded for NZ.OPRZ.10.HHZ. MiniSEED files outside of the station information period will be deleted!\n"
     ]
    },
    {
     "name": "stdout",
     "output_type": "stream",
     "text": [
      "100 threads took 39.4 seconds\n"
     ]
    },
    {
     "name": "stderr",
     "output_type": "stream",
     "text": [
      "[2022-06-13 02:28:12,468] - obspy.clients.fdsn.mass_downloader - WARNING: Station information could not be downloaded for NZ.DCZ.10.HHZ. MiniSEED files outside of the station information period will be deleted!\n",
      "[2022-06-13 02:28:16,358] - obspy.clients.fdsn.mass_downloader - WARNING: Station information could not be downloaded for NZ.OPRZ.10.HHZ. MiniSEED files outside of the station information period will be deleted!\n",
      "[2022-06-13 02:28:16,359] - obspy.clients.fdsn.mass_downloader - WARNING: Station information could not be downloaded for NZ.VRZ.10.HHZ. MiniSEED files outside of the station information period will be deleted!\n",
      "[2022-06-13 02:28:16,505] - obspy.clients.fdsn.mass_downloader - WARNING: Station information could not be downloaded for NZ.RPZ.10.HHZ. MiniSEED files outside of the station information period will be deleted!\n",
      "[2022-06-13 02:28:17,588] - obspy.clients.fdsn.mass_downloader - WARNING: Station information could not be downloaded for NZ.RPZ.10.HHZ. MiniSEED files outside of the station information period will be deleted!\n",
      "[2022-06-13 02:28:22,128] - obspy.clients.fdsn.mass_downloader - WARNING: Station information could not be downloaded for NZ.DCZ.10.HHZ. MiniSEED files outside of the station information period will be deleted!\n",
      "[2022-06-13 02:28:22,129] - obspy.clients.fdsn.mass_downloader - WARNING: Station information could not be downloaded for NZ.MWZ.10.HHZ. MiniSEED files outside of the station information period will be deleted!\n",
      "[2022-06-13 02:28:22,130] - obspy.clients.fdsn.mass_downloader - WARNING: Station information could not be downloaded for NZ.RPZ.10.HHZ. MiniSEED files outside of the station information period will be deleted!\n",
      "[2022-06-13 02:28:30,201] - obspy.clients.fdsn.mass_downloader - WARNING: Station information could not be downloaded for NZ.MWZ.10.HHZ. MiniSEED files outside of the station information period will be deleted!\n",
      "[2022-06-13 02:28:30,203] - obspy.clients.fdsn.mass_downloader - WARNING: Station information could not be downloaded for NZ.OPRZ.10.HHZ. MiniSEED files outside of the station information period will be deleted!\n"
     ]
    },
    {
     "name": "stdout",
     "output_type": "stream",
     "text": [
      "100 threads took 28.5 seconds\n"
     ]
    },
    {
     "name": "stderr",
     "output_type": "stream",
     "text": [
      "[2022-06-13 02:28:42,984] - obspy.clients.fdsn.mass_downloader - WARNING: Station information could not be downloaded for NZ.OPRZ.10.HHZ. MiniSEED files outside of the station information period will be deleted!\n",
      "[2022-06-13 02:28:42,985] - obspy.clients.fdsn.mass_downloader - WARNING: Station information could not be downloaded for NZ.VRZ.10.HHZ. MiniSEED files outside of the station information period will be deleted!\n",
      "[2022-06-13 02:28:55,755] - obspy.clients.fdsn.mass_downloader - WARNING: Station information could not be downloaded for NZ.RPZ.10.HHZ. MiniSEED files outside of the station information period will be deleted!\n",
      "[2022-06-13 02:28:56,629] - obspy.clients.fdsn.mass_downloader - WARNING: Station information could not be downloaded for NZ.WVZ.10.HHZ. MiniSEED files outside of the station information period will be deleted!\n",
      "[2022-06-13 02:28:56,895] - obspy.clients.fdsn.mass_downloader - WARNING: Station information could not be downloaded for NZ.VRZ.10.HHZ. MiniSEED files outside of the station information period will be deleted!\n",
      "[2022-06-13 02:28:56,896] - obspy.clients.fdsn.mass_downloader - WARNING: Station information could not be downloaded for NZ.WVZ.10.HHZ. MiniSEED files outside of the station information period will be deleted!\n",
      "[2022-06-13 02:29:03,412] - obspy.clients.fdsn.mass_downloader - WARNING: Station information could not be downloaded for NZ.OPRZ.10.HHZ. MiniSEED files outside of the station information period will be deleted!\n"
     ]
    },
    {
     "name": "stdout",
     "output_type": "stream",
     "text": [
      "100 threads took 34.6 seconds\n"
     ]
    },
    {
     "name": "stderr",
     "output_type": "stream",
     "text": [
      "[2022-06-13 02:29:16,156] - obspy.clients.fdsn.mass_downloader - WARNING: Station information could not be downloaded for NZ.OPRZ.10.HHZ. MiniSEED files outside of the station information period will be deleted!\n",
      "[2022-06-13 02:29:16,157] - obspy.clients.fdsn.mass_downloader - WARNING: Station information could not be downloaded for NZ.RPZ.10.HHZ. MiniSEED files outside of the station information period will be deleted!\n",
      "[2022-06-13 02:29:16,213] - obspy.clients.fdsn.mass_downloader - WARNING: Station information could not be downloaded for NZ.OPRZ.10.HHZ. MiniSEED files outside of the station information period will be deleted!\n",
      "[2022-06-13 02:29:19,694] - obspy.clients.fdsn.mass_downloader - WARNING: Station information could not be downloaded for NZ.VRZ.10.HHZ. MiniSEED files outside of the station information period will be deleted!\n",
      "[2022-06-13 02:29:31,413] - obspy.clients.fdsn.mass_downloader - WARNING: Station information could not be downloaded for NZ.DCZ.10.HHZ. MiniSEED files outside of the station information period will be deleted!\n",
      "[2022-06-13 02:29:31,414] - obspy.clients.fdsn.mass_downloader - WARNING: Station information could not be downloaded for NZ.MWZ.10.HHZ. MiniSEED files outside of the station information period will be deleted!\n",
      "[2022-06-13 02:29:31,415] - obspy.clients.fdsn.mass_downloader - WARNING: Station information could not be downloaded for NZ.RPZ.10.HHZ. MiniSEED files outside of the station information period will be deleted!\n",
      "[2022-06-13 02:29:32,877] - obspy.clients.fdsn.mass_downloader - WARNING: Station information could not be downloaded for NZ.DCZ.10.HHZ. MiniSEED files outside of the station information period will be deleted!\n",
      "[2022-06-13 02:29:32,878] - obspy.clients.fdsn.mass_downloader - WARNING: Station information could not be downloaded for NZ.MWZ.10.HHZ. MiniSEED files outside of the station information period will be deleted!\n",
      "[2022-06-13 02:29:39,122] - obspy.clients.fdsn.mass_downloader - WARNING: Station information could not be downloaded for NZ.VRZ.10.HHZ. MiniSEED files outside of the station information period will be deleted!\n"
     ]
    },
    {
     "name": "stdout",
     "output_type": "stream",
     "text": [
      "100 threads took 33.1 seconds\n"
     ]
    },
    {
     "name": "stderr",
     "output_type": "stream",
     "text": [
      "[2022-06-13 02:29:51,602] - obspy.clients.fdsn.mass_downloader - WARNING: Station information could not be downloaded for NZ.MWZ.10.HHZ. MiniSEED files outside of the station information period will be deleted!\n",
      "[2022-06-13 02:29:51,603] - obspy.clients.fdsn.mass_downloader - WARNING: Station information could not be downloaded for NZ.VRZ.10.HHZ. MiniSEED files outside of the station information period will be deleted!\n",
      "[2022-06-13 02:29:53,161] - obspy.clients.fdsn.mass_downloader - WARNING: Station information could not be downloaded for NZ.RPZ.10.HHZ. MiniSEED files outside of the station information period will be deleted!\n",
      "[2022-06-13 02:29:53,497] - obspy.clients.fdsn.mass_downloader - WARNING: Station information could not be downloaded for NZ.DCZ.10.HHZ. MiniSEED files outside of the station information period will be deleted!\n",
      "[2022-06-13 02:29:53,777] - obspy.clients.fdsn.mass_downloader - WARNING: Station information could not be downloaded for NZ.RPZ.10.HHZ. MiniSEED files outside of the station information period will be deleted!\n",
      "[2022-06-13 02:29:54,285] - obspy.clients.fdsn.mass_downloader - WARNING: Station information could not be downloaded for NZ.MWZ.10.HHZ. MiniSEED files outside of the station information period will be deleted!\n",
      "[2022-06-13 02:29:54,286] - obspy.clients.fdsn.mass_downloader - WARNING: Station information could not be downloaded for NZ.OPRZ.10.HHZ. MiniSEED files outside of the station information period will be deleted!\n",
      "[2022-06-13 02:29:54,287] - obspy.clients.fdsn.mass_downloader - WARNING: Station information could not be downloaded for NZ.VRZ.10.HHZ. MiniSEED files outside of the station information period will be deleted!\n",
      "[2022-06-13 02:29:54,436] - obspy.clients.fdsn.mass_downloader - WARNING: Station information could not be downloaded for NZ.WVZ.10.HHZ. MiniSEED files outside of the station information period will be deleted!\n",
      "[2022-06-13 02:29:54,809] - obspy.clients.fdsn.mass_downloader - WARNING: Station information could not be downloaded for NZ.VRZ.10.HHZ. MiniSEED files outside of the station information period will be deleted!\n",
      "[2022-06-13 02:29:54,996] - obspy.clients.fdsn.mass_downloader - WARNING: Station information could not be downloaded for NZ.DCZ.10.HHZ. MiniSEED files outside of the station information period will be deleted!\n",
      "[2022-06-13 02:29:54,996] - obspy.clients.fdsn.mass_downloader - WARNING: Station information could not be downloaded for NZ.URZ.10.HHZ. MiniSEED files outside of the station information period will be deleted!\n",
      "[2022-06-13 02:29:55,054] - obspy.clients.fdsn.mass_downloader - WARNING: Station information could not be downloaded for NZ.MWZ.10.HHZ. MiniSEED files outside of the station information period will be deleted!\n",
      "[2022-06-13 02:29:55,055] - obspy.clients.fdsn.mass_downloader - WARNING: Station information could not be downloaded for NZ.VRZ.10.HHZ. MiniSEED files outside of the station information period will be deleted!\n",
      "[2022-06-13 02:29:55,831] - obspy.clients.fdsn.mass_downloader - WARNING: Station information could not be downloaded for NZ.OPRZ.10.HHZ. MiniSEED files outside of the station information period will be deleted!\n",
      "[2022-06-13 02:29:56,285] - obspy.clients.fdsn.mass_downloader - WARNING: Station information could not be downloaded for NZ.VRZ.10.HHZ. MiniSEED files outside of the station information period will be deleted!\n",
      "[2022-06-13 02:30:00,981] - obspy.clients.fdsn.mass_downloader - WARNING: Station information could not be downloaded for NZ.MWZ.10.HHZ. MiniSEED files outside of the station information period will be deleted!\n",
      "[2022-06-13 02:30:01,474] - obspy.clients.fdsn.mass_downloader - WARNING: Station information could not be downloaded for NZ.DCZ.10.HHZ. MiniSEED files outside of the station information period will be deleted!\n",
      "[2022-06-13 02:30:01,475] - obspy.clients.fdsn.mass_downloader - WARNING: Station information could not be downloaded for NZ.RPZ.10.HHZ. MiniSEED files outside of the station information period will be deleted!\n",
      "[2022-06-13 02:30:09,995] - obspy.clients.fdsn.mass_downloader - WARNING: Station information could not be downloaded for NZ.DCZ.10.HHZ. MiniSEED files outside of the station information period will be deleted!\n",
      "[2022-06-13 02:30:09,996] - obspy.clients.fdsn.mass_downloader - WARNING: Station information could not be downloaded for NZ.MWZ.10.HHZ. MiniSEED files outside of the station information period will be deleted!\n",
      "[2022-06-13 02:30:09,996] - obspy.clients.fdsn.mass_downloader - WARNING: Station information could not be downloaded for NZ.RPZ.10.HHZ. MiniSEED files outside of the station information period will be deleted!\n",
      "[2022-06-13 02:30:15,990] - obspy.clients.fdsn.mass_downloader - WARNING: Station information could not be downloaded for NZ.RPZ.10.HHZ. MiniSEED files outside of the station information period will be deleted!\n"
     ]
    },
    {
     "name": "stdout",
     "output_type": "stream",
     "text": [
      "100 threads took 41.4 seconds\n"
     ]
    },
    {
     "name": "stderr",
     "output_type": "stream",
     "text": [
      "[2022-06-13 02:30:31,417] - obspy.clients.fdsn.mass_downloader - WARNING: Station information could not be downloaded for NZ.OPRZ.10.HHZ. MiniSEED files outside of the station information period will be deleted!\n",
      "[2022-06-13 02:30:31,418] - obspy.clients.fdsn.mass_downloader - WARNING: Station information could not be downloaded for NZ.VRZ.10.HHZ. MiniSEED files outside of the station information period will be deleted!\n",
      "[2022-06-13 02:30:31,612] - obspy.clients.fdsn.mass_downloader - WARNING: Station information could not be downloaded for NZ.OPRZ.10.HHZ. MiniSEED files outside of the station information period will be deleted!\n",
      "[2022-06-13 02:30:31,613] - obspy.clients.fdsn.mass_downloader - WARNING: Station information could not be downloaded for NZ.VRZ.10.HHZ. MiniSEED files outside of the station information period will be deleted!\n",
      "[2022-06-13 02:30:33,707] - obspy.clients.fdsn.mass_downloader - WARNING: Station information could not be downloaded for NZ.DCZ.10.HHZ. MiniSEED files outside of the station information period will be deleted!\n",
      "[2022-06-13 02:30:33,708] - obspy.clients.fdsn.mass_downloader - WARNING: Station information could not be downloaded for NZ.RPZ.10.HHZ. MiniSEED files outside of the station information period will be deleted!\n",
      "[2022-06-13 02:30:33,708] - obspy.clients.fdsn.mass_downloader - WARNING: Station information could not be downloaded for NZ.URZ.10.HHZ. MiniSEED files outside of the station information period will be deleted!\n",
      "[2022-06-13 02:30:34,806] - obspy.clients.fdsn.mass_downloader - WARNING: Station information could not be downloaded for NZ.VRZ.10.HHZ. MiniSEED files outside of the station information period will be deleted!\n",
      "[2022-06-13 02:30:44,525] - obspy.clients.fdsn.mass_downloader - WARNING: Station information could not be downloaded for NZ.MWZ.10.HHZ. MiniSEED files outside of the station information period will be deleted!\n",
      "[2022-06-13 02:30:44,525] - obspy.clients.fdsn.mass_downloader - WARNING: Station information could not be downloaded for NZ.OPRZ.10.HHZ. MiniSEED files outside of the station information period will be deleted!\n",
      "[2022-06-13 02:30:44,526] - obspy.clients.fdsn.mass_downloader - WARNING: Station information could not be downloaded for NZ.VRZ.10.HHZ. MiniSEED files outside of the station information period will be deleted!\n",
      "[2022-06-13 02:30:55,495] - obspy.clients.fdsn.mass_downloader - WARNING: Station information could not be downloaded for NZ.DCZ.10.HHZ. MiniSEED files outside of the station information period will be deleted!\n",
      "[2022-06-13 02:30:55,496] - obspy.clients.fdsn.mass_downloader - WARNING: Station information could not be downloaded for NZ.MWZ.10.HHZ. MiniSEED files outside of the station information period will be deleted!\n",
      "[2022-06-13 02:30:55,497] - obspy.clients.fdsn.mass_downloader - WARNING: Station information could not be downloaded for NZ.OPRZ.10.HHZ. MiniSEED files outside of the station information period will be deleted!\n",
      "[2022-06-13 02:30:55,497] - obspy.clients.fdsn.mass_downloader - WARNING: Station information could not be downloaded for NZ.RPZ.10.HHZ. MiniSEED files outside of the station information period will be deleted!\n",
      "[2022-06-13 02:30:55,498] - obspy.clients.fdsn.mass_downloader - WARNING: Station information could not be downloaded for NZ.URZ.10.HHZ. MiniSEED files outside of the station information period will be deleted!\n",
      "[2022-06-13 02:30:57,367] - obspy.clients.fdsn.mass_downloader - WARNING: Station information could not be downloaded for NZ.MWZ.10.HHZ. MiniSEED files outside of the station information period will be deleted!\n",
      "[2022-06-13 02:30:57,368] - obspy.clients.fdsn.mass_downloader - WARNING: Station information could not be downloaded for NZ.VRZ.10.HHZ. MiniSEED files outside of the station information period will be deleted!\n",
      "[2022-06-13 02:30:59,179] - obspy.clients.fdsn.mass_downloader - WARNING: Station information could not be downloaded for NZ.OPRZ.10.HHZ. MiniSEED files outside of the station information period will be deleted!\n"
     ]
    },
    {
     "name": "stdout",
     "output_type": "stream",
     "text": [
      "100 threads took 38.6 seconds\n"
     ]
    },
    {
     "name": "stderr",
     "output_type": "stream",
     "text": [
      "[2022-06-13 02:31:08,938] - obspy.clients.fdsn.mass_downloader - WARNING: Station information could not be downloaded for NZ.OPRZ.10.HHZ. MiniSEED files outside of the station information period will be deleted!\n",
      "[2022-06-13 02:31:09,380] - obspy.clients.fdsn.mass_downloader - WARNING: Station information could not be downloaded for NZ.MWZ.10.HHZ. MiniSEED files outside of the station information period will be deleted!\n",
      "[2022-06-13 02:31:11,330] - obspy.clients.fdsn.mass_downloader - WARNING: Station information could not be downloaded for NZ.OPRZ.10.HHZ. MiniSEED files outside of the station information period will be deleted!\n",
      "[2022-06-13 02:31:13,603] - obspy.clients.fdsn.mass_downloader - WARNING: Station information could not be downloaded for NZ.RPZ.10.HHZ. MiniSEED files outside of the station information period will be deleted!\n",
      "[2022-06-13 02:31:23,509] - obspy.clients.fdsn.mass_downloader - WARNING: Station information could not be downloaded for NZ.VRZ.10.HHZ. MiniSEED files outside of the station information period will be deleted!\n",
      "[2022-06-13 02:31:25,385] - obspy.clients.fdsn.mass_downloader - WARNING: Station information could not be downloaded for NZ.MWZ.10.HHZ. MiniSEED files outside of the station information period will be deleted!\n",
      "[2022-06-13 02:31:25,386] - obspy.clients.fdsn.mass_downloader - WARNING: Station information could not be downloaded for NZ.OPRZ.10.HHZ. MiniSEED files outside of the station information period will be deleted!\n",
      "[2022-06-13 02:31:26,052] - obspy.clients.fdsn.mass_downloader - WARNING: Station information could not be downloaded for NZ.MWZ.10.HHZ. MiniSEED files outside of the station information period will be deleted!\n",
      "[2022-06-13 02:31:26,053] - obspy.clients.fdsn.mass_downloader - WARNING: Station information could not be downloaded for NZ.OPRZ.10.HHZ. MiniSEED files outside of the station information period will be deleted!\n",
      "[2022-06-13 02:31:26,054] - obspy.clients.fdsn.mass_downloader - WARNING: Station information could not be downloaded for NZ.RPZ.10.HHZ. MiniSEED files outside of the station information period will be deleted!\n",
      "[2022-06-13 02:31:26,805] - obspy.clients.fdsn.mass_downloader - WARNING: Station information could not be downloaded for NZ.VRZ.10.HHZ. MiniSEED files outside of the station information period will be deleted!\n"
     ]
    },
    {
     "name": "stdout",
     "output_type": "stream",
     "text": [
      "100 threads took 34.9 seconds\n"
     ]
    },
    {
     "name": "stderr",
     "output_type": "stream",
     "text": [
      "[2022-06-13 02:31:48,237] - obspy.clients.fdsn.mass_downloader - WARNING: Station information could not be downloaded for NZ.DCZ.10.HHZ. MiniSEED files outside of the station information period will be deleted!\n",
      "[2022-06-13 02:31:48,238] - obspy.clients.fdsn.mass_downloader - WARNING: Station information could not be downloaded for NZ.MWZ.10.HHZ. MiniSEED files outside of the station information period will be deleted!\n",
      "[2022-06-13 02:31:48,240] - obspy.clients.fdsn.mass_downloader - WARNING: Station information could not be downloaded for NZ.OPRZ.10.HHZ. MiniSEED files outside of the station information period will be deleted!\n",
      "[2022-06-13 02:31:50,987] - obspy.clients.fdsn.mass_downloader - WARNING: Station information could not be downloaded for NZ.DCZ.10.HHZ. MiniSEED files outside of the station information period will be deleted!\n",
      "[2022-06-13 02:31:50,988] - obspy.clients.fdsn.mass_downloader - WARNING: Station information could not be downloaded for NZ.OPRZ.10.HHZ. MiniSEED files outside of the station information period will be deleted!\n",
      "[2022-06-13 02:32:02,771] - obspy.clients.fdsn.mass_downloader - WARNING: Station information could not be downloaded for NZ.RPZ.10.HHZ. MiniSEED files outside of the station information period will be deleted!\n",
      "[2022-06-13 02:32:16,416] - obspy.clients.fdsn.mass_downloader - WARNING: Station information could not be downloaded for NZ.MWZ.10.HHZ. MiniSEED files outside of the station information period will be deleted!\n"
     ]
    },
    {
     "name": "stdout",
     "output_type": "stream",
     "text": [
      "100 threads took 43.0 seconds\n"
     ]
    },
    {
     "name": "stderr",
     "output_type": "stream",
     "text": [
      "[2022-06-13 02:32:26,709] - obspy.clients.fdsn.mass_downloader - WARNING: Station information could not be downloaded for NZ.DCZ.10.HHZ. MiniSEED files outside of the station information period will be deleted!\n",
      "[2022-06-13 02:32:26,710] - obspy.clients.fdsn.mass_downloader - WARNING: Station information could not be downloaded for NZ.MWZ.10.HHZ. MiniSEED files outside of the station information period will be deleted!\n",
      "[2022-06-13 02:32:26,712] - obspy.clients.fdsn.mass_downloader - WARNING: Station information could not be downloaded for NZ.OPRZ.10.HHZ. MiniSEED files outside of the station information period will be deleted!\n",
      "[2022-06-13 02:32:26,958] - obspy.clients.fdsn.mass_downloader - WARNING: Station information could not be downloaded for NZ.DCZ.10.HHZ. MiniSEED files outside of the station information period will be deleted!\n",
      "[2022-06-13 02:32:28,084] - obspy.clients.fdsn.mass_downloader - WARNING: Station information could not be downloaded for NZ.DCZ.10.HHZ. MiniSEED files outside of the station information period will be deleted!\n",
      "[2022-06-13 02:32:28,085] - obspy.clients.fdsn.mass_downloader - WARNING: Station information could not be downloaded for NZ.OPRZ.10.HHZ. MiniSEED files outside of the station information period will be deleted!\n",
      "[2022-06-13 02:32:29,181] - obspy.clients.fdsn.mass_downloader - WARNING: Station information could not be downloaded for NZ.RPZ.10.HHZ. MiniSEED files outside of the station information period will be deleted!\n",
      "[2022-06-13 02:32:31,205] - obspy.clients.fdsn.mass_downloader - WARNING: Station information could not be downloaded for NZ.RPZ.10.HHZ. MiniSEED files outside of the station information period will be deleted!\n",
      "[2022-06-13 02:32:31,206] - obspy.clients.fdsn.mass_downloader - WARNING: Station information could not be downloaded for NZ.VRZ.10.HHZ. MiniSEED files outside of the station information period will be deleted!\n",
      "[2022-06-13 02:32:32,054] - obspy.clients.fdsn.mass_downloader - WARNING: Station information could not be downloaded for NZ.OPRZ.10.HHZ. MiniSEED files outside of the station information period will be deleted!\n",
      "[2022-06-13 02:32:41,100] - obspy.clients.fdsn.mass_downloader - WARNING: Station information could not be downloaded for NZ.WVZ.10.HHZ. MiniSEED files outside of the station information period will be deleted!\n",
      "[2022-06-13 02:32:44,057] - obspy.clients.fdsn.mass_downloader - WARNING: Station information could not be downloaded for NZ.MWZ.10.HHZ. MiniSEED files outside of the station information period will be deleted!\n",
      "[2022-06-13 02:32:44,058] - obspy.clients.fdsn.mass_downloader - WARNING: Station information could not be downloaded for NZ.RPZ.10.HHZ. MiniSEED files outside of the station information period will be deleted!\n",
      "[2022-06-13 02:32:45,958] - obspy.clients.fdsn.mass_downloader - WARNING: Station information could not be downloaded for NZ.MWZ.10.HHZ. MiniSEED files outside of the station information period will be deleted!\n",
      "[2022-06-13 02:32:45,959] - obspy.clients.fdsn.mass_downloader - WARNING: Station information could not be downloaded for NZ.RPZ.10.HHZ. MiniSEED files outside of the station information period will be deleted!\n",
      "[2022-06-13 02:32:46,809] - obspy.clients.fdsn.mass_downloader - WARNING: Station information could not be downloaded for NZ.DCZ.10.HHZ. MiniSEED files outside of the station information period will be deleted!\n",
      "[2022-06-13 02:32:46,810] - obspy.clients.fdsn.mass_downloader - WARNING: Station information could not be downloaded for NZ.RPZ.10.HHZ. MiniSEED files outside of the station information period will be deleted!\n"
     ]
    },
    {
     "name": "stdout",
     "output_type": "stream",
     "text": [
      "100 threads took 42.9 seconds\n"
     ]
    },
    {
     "name": "stderr",
     "output_type": "stream",
     "text": [
      "[2022-06-13 02:33:12,967] - obspy.clients.fdsn.mass_downloader - WARNING: Station information could not be downloaded for NZ.MWZ.10.HHZ. MiniSEED files outside of the station information period will be deleted!\n",
      "[2022-06-13 02:33:12,968] - obspy.clients.fdsn.mass_downloader - WARNING: Station information could not be downloaded for NZ.VRZ.10.HHZ. MiniSEED files outside of the station information period will be deleted!\n",
      "[2022-06-13 02:33:14,817] - obspy.clients.fdsn.mass_downloader - WARNING: Station information could not be downloaded for NZ.MWZ.10.HHZ. MiniSEED files outside of the station information period will be deleted!\n",
      "[2022-06-13 02:33:16,994] - obspy.clients.fdsn.mass_downloader - WARNING: Station information could not be downloaded for NZ.RPZ.10.HHZ. MiniSEED files outside of the station information period will be deleted!\n",
      "[2022-06-13 02:33:24,223] - obspy.clients.fdsn.mass_downloader - WARNING: Station information could not be downloaded for NZ.VRZ.10.HHZ. MiniSEED files outside of the station information period will be deleted!\n",
      "[2022-06-13 02:33:25,783] - obspy.clients.fdsn.mass_downloader - WARNING: Station information could not be downloaded for NZ.OPRZ.10.HHZ. MiniSEED files outside of the station information period will be deleted!\n"
     ]
    },
    {
     "name": "stdout",
     "output_type": "stream",
     "text": [
      "100 threads took 38.5 seconds\n"
     ]
    },
    {
     "name": "stderr",
     "output_type": "stream",
     "text": [
      "[2022-06-13 02:33:50,461] - obspy.clients.fdsn.mass_downloader - WARNING: Station information could not be downloaded for NZ.RPZ.10.HHZ. MiniSEED files outside of the station information period will be deleted!\n",
      "[2022-06-13 02:33:52,099] - obspy.clients.fdsn.mass_downloader - WARNING: Station information could not be downloaded for NZ.WVZ.10.HHZ. MiniSEED files outside of the station information period will be deleted!\n",
      "[2022-06-13 02:33:52,150] - obspy.clients.fdsn.mass_downloader - WARNING: Station information could not be downloaded for NZ.RPZ.10.HHZ. MiniSEED files outside of the station information period will be deleted!\n",
      "[2022-06-13 02:33:53,722] - obspy.clients.fdsn.mass_downloader - WARNING: Station information could not be downloaded for NZ.VRZ.10.HHZ. MiniSEED files outside of the station information period will be deleted!\n",
      "[2022-06-13 02:34:04,154] - obspy.clients.fdsn.mass_downloader - WARNING: Station information could not be downloaded for NZ.VRZ.10.HHZ. MiniSEED files outside of the station information period will be deleted!\n",
      "[2022-06-13 02:34:18,632] - obspy.clients.fdsn.mass_downloader - WARNING: Station information could not be downloaded for NZ.OPRZ.10.HHZ. MiniSEED files outside of the station information period will be deleted!\n",
      "[2022-06-13 02:34:18,633] - obspy.clients.fdsn.mass_downloader - WARNING: Station information could not be downloaded for NZ.VRZ.10.HHZ. MiniSEED files outside of the station information period will be deleted!\n"
     ]
    },
    {
     "name": "stdout",
     "output_type": "stream",
     "text": [
      "100 threads took 48.3 seconds\n"
     ]
    },
    {
     "name": "stderr",
     "output_type": "stream",
     "text": [
      "[2022-06-13 02:34:41,014] - obspy.clients.fdsn.mass_downloader - WARNING: Station information could not be downloaded for NZ.URZ.10.HHZ. MiniSEED files outside of the station information period will be deleted!\n",
      "[2022-06-13 02:34:41,876] - obspy.clients.fdsn.mass_downloader - WARNING: Station information could not be downloaded for NZ.OPRZ.10.HHZ. MiniSEED files outside of the station information period will be deleted!\n",
      "[2022-06-13 02:34:53,906] - obspy.clients.fdsn.mass_downloader - WARNING: Station information could not be downloaded for NZ.VRZ.10.HHZ. MiniSEED files outside of the station information period will be deleted!\n",
      "[2022-06-13 02:34:54,191] - obspy.clients.fdsn.mass_downloader - WARNING: Station information could not be downloaded for NZ.RPZ.10.HHZ. MiniSEED files outside of the station information period will be deleted!\n",
      "[2022-06-13 02:34:57,418] - obspy.clients.fdsn.mass_downloader - WARNING: Station information could not be downloaded for NZ.RPZ.10.HHZ. MiniSEED files outside of the station information period will be deleted!\n",
      "[2022-06-13 02:34:57,692] - obspy.clients.fdsn.mass_downloader - WARNING: Station information could not be downloaded for NZ.RPZ.10.HHZ. MiniSEED files outside of the station information period will be deleted!\n",
      "[2022-06-13 02:34:57,693] - obspy.clients.fdsn.mass_downloader - WARNING: Station information could not be downloaded for NZ.VRZ.10.HHZ. MiniSEED files outside of the station information period will be deleted!\n"
     ]
    },
    {
     "name": "stdout",
     "output_type": "stream",
     "text": [
      "100 threads took 38.1 seconds\n"
     ]
    },
    {
     "name": "stderr",
     "output_type": "stream",
     "text": [
      "[2022-06-13 02:35:18,449] - obspy.clients.fdsn.mass_downloader - WARNING: Station information could not be downloaded for NZ.MWZ.10.HHZ. MiniSEED files outside of the station information period will be deleted!\n",
      "[2022-06-13 02:35:18,450] - obspy.clients.fdsn.mass_downloader - WARNING: Station information could not be downloaded for NZ.OPRZ.10.HHZ. MiniSEED files outside of the station information period will be deleted!\n",
      "[2022-06-13 02:35:19,144] - obspy.clients.fdsn.mass_downloader - WARNING: Station information could not be downloaded for NZ.MWZ.10.HHZ. MiniSEED files outside of the station information period will be deleted!\n",
      "[2022-06-13 02:35:19,723] - obspy.clients.fdsn.mass_downloader - WARNING: Station information could not be downloaded for NZ.DCZ.10.HHZ. MiniSEED files outside of the station information period will be deleted!\n",
      "[2022-06-13 02:35:19,881] - obspy.clients.fdsn.mass_downloader - WARNING: Station information could not be downloaded for NZ.OPRZ.10.HHZ. MiniSEED files outside of the station information period will be deleted!\n",
      "[2022-06-13 02:35:34,739] - obspy.clients.fdsn.mass_downloader - WARNING: Station information could not be downloaded for NZ.OPRZ.10.HHZ. MiniSEED files outside of the station information period will be deleted!\n",
      "[2022-06-13 02:35:35,457] - obspy.clients.fdsn.mass_downloader - WARNING: Station information could not be downloaded for NZ.MWZ.10.HHZ. MiniSEED files outside of the station information period will be deleted!\n",
      "[2022-06-13 02:35:35,457] - obspy.clients.fdsn.mass_downloader - WARNING: Station information could not be downloaded for NZ.RPZ.10.HHZ. MiniSEED files outside of the station information period will be deleted!\n",
      "[2022-06-13 02:35:36,798] - obspy.clients.fdsn.mass_downloader - WARNING: Station information could not be downloaded for NZ.OPRZ.10.HHZ. MiniSEED files outside of the station information period will be deleted!\n",
      "[2022-06-13 02:35:37,238] - obspy.clients.fdsn.mass_downloader - WARNING: Station information could not be downloaded for NZ.OPRZ.10.HHZ. MiniSEED files outside of the station information period will be deleted!\n"
     ]
    },
    {
     "name": "stdout",
     "output_type": "stream",
     "text": [
      "100 threads took 43.8 seconds\n"
     ]
    },
    {
     "name": "stderr",
     "output_type": "stream",
     "text": [
      "[2022-06-13 02:36:01,096] - obspy.clients.fdsn.mass_downloader - WARNING: Station information could not be downloaded for NZ.DCZ.10.HHZ. MiniSEED files outside of the station information period will be deleted!\n",
      "[2022-06-13 02:36:03,072] - obspy.clients.fdsn.mass_downloader - WARNING: Station information could not be downloaded for NZ.MWZ.10.HHZ. MiniSEED files outside of the station information period will be deleted!\n",
      "[2022-06-13 02:36:03,073] - obspy.clients.fdsn.mass_downloader - WARNING: Station information could not be downloaded for NZ.RPZ.10.HHZ. MiniSEED files outside of the station information period will be deleted!\n",
      "[2022-06-13 02:36:05,562] - obspy.clients.fdsn.mass_downloader - WARNING: Station information could not be downloaded for NZ.DCZ.10.HHZ. MiniSEED files outside of the station information period will be deleted!\n",
      "[2022-06-13 02:36:13,886] - obspy.clients.fdsn.mass_downloader - WARNING: Station information could not be downloaded for NZ.OPRZ.10.HHZ. MiniSEED files outside of the station information period will be deleted!\n",
      "[2022-06-13 02:36:22,921] - obspy.clients.fdsn.mass_downloader - WARNING: Station information could not be downloaded for NZ.OPRZ.10.HHZ. MiniSEED files outside of the station information period will be deleted!\n"
     ]
    },
    {
     "name": "stdout",
     "output_type": "stream",
     "text": [
      "100 threads took 34.3 seconds\n"
     ]
    },
    {
     "name": "stderr",
     "output_type": "stream",
     "text": [
      "[2022-06-13 02:36:35,626] - obspy.clients.fdsn.mass_downloader - WARNING: Station information could not be downloaded for NZ.RPZ.10.HHZ. MiniSEED files outside of the station information period will be deleted!\n",
      "[2022-06-13 02:36:37,948] - obspy.clients.fdsn.mass_downloader - WARNING: Station information could not be downloaded for NZ.MWZ.10.HHZ. MiniSEED files outside of the station information period will be deleted!\n",
      "[2022-06-13 02:36:39,464] - obspy.clients.fdsn.mass_downloader - WARNING: Station information could not be downloaded for NZ.DCZ.10.HHZ. MiniSEED files outside of the station information period will be deleted!\n",
      "[2022-06-13 02:36:43,634] - obspy.clients.fdsn.mass_downloader - WARNING: Station information could not be downloaded for NZ.DCZ.10.HHZ. MiniSEED files outside of the station information period will be deleted!\n",
      "[2022-06-13 02:36:47,699] - obspy.clients.fdsn.mass_downloader - WARNING: Station information could not be downloaded for NZ.VRZ.10.HHZ. MiniSEED files outside of the station information period will be deleted!\n"
     ]
    },
    {
     "name": "stdout",
     "output_type": "stream",
     "text": [
      "100 threads took 43.7 seconds\n"
     ]
    },
    {
     "name": "stderr",
     "output_type": "stream",
     "text": [
      "[2022-06-13 02:37:18,097] - obspy.clients.fdsn.mass_downloader - WARNING: Station information could not be downloaded for NZ.DCZ.10.HHZ. MiniSEED files outside of the station information period will be deleted!\n",
      "[2022-06-13 02:37:18,099] - obspy.clients.fdsn.mass_downloader - WARNING: Station information could not be downloaded for NZ.MWZ.10.HHZ. MiniSEED files outside of the station information period will be deleted!\n",
      "[2022-06-13 02:37:18,100] - obspy.clients.fdsn.mass_downloader - WARNING: Station information could not be downloaded for NZ.OPRZ.10.HHZ. MiniSEED files outside of the station information period will be deleted!\n",
      "[2022-06-13 02:37:18,527] - obspy.clients.fdsn.mass_downloader - WARNING: Station information could not be downloaded for NZ.MWZ.10.HHZ. MiniSEED files outside of the station information period will be deleted!\n",
      "[2022-06-13 02:37:18,532] - obspy.clients.fdsn.mass_downloader - WARNING: Station information could not be downloaded for NZ.OPRZ.10.HHZ. MiniSEED files outside of the station information period will be deleted!\n",
      "[2022-06-13 02:37:20,392] - obspy.clients.fdsn.mass_downloader - WARNING: Station information could not be downloaded for NZ.MWZ.10.HHZ. MiniSEED files outside of the station information period will be deleted!\n",
      "[2022-06-13 02:37:20,393] - obspy.clients.fdsn.mass_downloader - WARNING: Station information could not be downloaded for NZ.OPRZ.10.HHZ. MiniSEED files outside of the station information period will be deleted!\n",
      "[2022-06-13 02:37:23,195] - obspy.clients.fdsn.mass_downloader - WARNING: Station information could not be downloaded for NZ.DCZ.10.HHZ. MiniSEED files outside of the station information period will be deleted!\n",
      "[2022-06-13 02:37:23,196] - obspy.clients.fdsn.mass_downloader - WARNING: Station information could not be downloaded for NZ.OPRZ.10.HHZ. MiniSEED files outside of the station information period will be deleted!\n",
      "[2022-06-13 02:37:24,749] - obspy.clients.fdsn.mass_downloader - WARNING: Station information could not be downloaded for NZ.DCZ.10.HHZ. MiniSEED files outside of the station information period will be deleted!\n",
      "[2022-06-13 02:37:28,884] - obspy.clients.fdsn.mass_downloader - WARNING: Station information could not be downloaded for NZ.VRZ.10.HHZ. MiniSEED files outside of the station information period will be deleted!\n",
      "[2022-06-13 02:37:34,079] - obspy.clients.fdsn.mass_downloader - WARNING: Station information could not be downloaded for NZ.VRZ.10.HHZ. MiniSEED files outside of the station information period will be deleted!\n",
      "[2022-06-13 02:37:36,041] - obspy.clients.fdsn.mass_downloader - WARNING: Station information could not be downloaded for NZ.DCZ.10.HHZ. MiniSEED files outside of the station information period will be deleted!\n",
      "[2022-06-13 02:37:36,042] - obspy.clients.fdsn.mass_downloader - WARNING: Station information could not be downloaded for NZ.MWZ.10.HHZ. MiniSEED files outside of the station information period will be deleted!\n",
      "[2022-06-13 02:37:36,043] - obspy.clients.fdsn.mass_downloader - WARNING: Station information could not be downloaded for NZ.RPZ.10.HHZ. MiniSEED files outside of the station information period will be deleted!\n",
      "[2022-06-13 02:37:42,107] - obspy.clients.fdsn.mass_downloader - WARNING: Station information could not be downloaded for NZ.DCZ.10.HHZ. MiniSEED files outside of the station information period will be deleted!\n",
      "[2022-06-13 02:37:42,109] - obspy.clients.fdsn.mass_downloader - WARNING: Station information could not be downloaded for NZ.OPRZ.10.HHZ. MiniSEED files outside of the station information period will be deleted!\n",
      "[2022-06-13 02:37:42,248] - obspy.clients.fdsn.mass_downloader - WARNING: Station information could not be downloaded for NZ.DCZ.10.HHZ. MiniSEED files outside of the station information period will be deleted!\n",
      "[2022-06-13 02:37:45,958] - obspy.clients.fdsn.mass_downloader - WARNING: Station information could not be downloaded for NZ.MWZ.10.HHZ. MiniSEED files outside of the station information period will be deleted!\n",
      "[2022-06-13 02:37:45,974] - obspy.clients.fdsn.mass_downloader - WARNING: Station information could not be downloaded for NZ.OPRZ.10.HHZ. MiniSEED files outside of the station information period will be deleted!\n",
      "[2022-06-13 02:37:49,468] - obspy.clients.fdsn.mass_downloader - WARNING: Station information could not be downloaded for NZ.RPZ.10.HHZ. MiniSEED files outside of the station information period will be deleted!\n",
      "[2022-06-13 02:37:49,469] - obspy.clients.fdsn.mass_downloader - WARNING: Station information could not be downloaded for NZ.URZ.10.HHZ. MiniSEED files outside of the station information period will be deleted!\n",
      "[2022-06-13 02:37:49,470] - obspy.clients.fdsn.mass_downloader - WARNING: Station information could not be downloaded for NZ.VRZ.10.HHZ. MiniSEED files outside of the station information period will be deleted!\n"
     ]
    },
    {
     "name": "stdout",
     "output_type": "stream",
     "text": [
      "100 threads took 42.9 seconds\n"
     ]
    },
    {
     "name": "stderr",
     "output_type": "stream",
     "text": [
      "[2022-06-13 02:37:59,438] - obspy.clients.fdsn.mass_downloader - WARNING: Station information could not be downloaded for NZ.MWZ.10.HHZ. MiniSEED files outside of the station information period will be deleted!\n",
      "[2022-06-13 02:37:59,439] - obspy.clients.fdsn.mass_downloader - WARNING: Station information could not be downloaded for NZ.OPRZ.10.HHZ. MiniSEED files outside of the station information period will be deleted!\n",
      "[2022-06-13 02:37:59,633] - obspy.clients.fdsn.mass_downloader - WARNING: Station information could not be downloaded for NZ.MWZ.10.HHZ. MiniSEED files outside of the station information period will be deleted!\n",
      "[2022-06-13 02:37:59,634] - obspy.clients.fdsn.mass_downloader - WARNING: Station information could not be downloaded for NZ.OPRZ.10.HHZ. MiniSEED files outside of the station information period will be deleted!\n",
      "[2022-06-13 02:38:01,850] - obspy.clients.fdsn.mass_downloader - WARNING: Station information could not be downloaded for NZ.MWZ.10.HHZ. MiniSEED files outside of the station information period will be deleted!\n",
      "[2022-06-13 02:38:01,851] - obspy.clients.fdsn.mass_downloader - WARNING: Station information could not be downloaded for NZ.OPRZ.10.HHZ. MiniSEED files outside of the station information period will be deleted!\n",
      "[2022-06-13 02:38:01,852] - obspy.clients.fdsn.mass_downloader - WARNING: Station information could not be downloaded for NZ.VRZ.10.HHZ. MiniSEED files outside of the station information period will be deleted!\n",
      "[2022-06-13 02:38:05,655] - obspy.clients.fdsn.mass_downloader - WARNING: Station information could not be downloaded for NZ.RPZ.10.HHZ. MiniSEED files outside of the station information period will be deleted!\n",
      "[2022-06-13 02:38:05,781] - obspy.clients.fdsn.mass_downloader - WARNING: Station information could not be downloaded for NZ.VRZ.10.HHZ. MiniSEED files outside of the station information period will be deleted!\n",
      "[2022-06-13 02:38:16,997] - obspy.clients.fdsn.mass_downloader - WARNING: Station information could not be downloaded for NZ.OPRZ.10.HHZ. MiniSEED files outside of the station information period will be deleted!\n",
      "[2022-06-13 02:38:16,998] - obspy.clients.fdsn.mass_downloader - WARNING: Station information could not be downloaded for NZ.RPZ.10.HHZ. MiniSEED files outside of the station information period will be deleted!\n"
     ]
    },
    {
     "name": "stdout",
     "output_type": "stream",
     "text": [
      "100 threads took 32.3 seconds\n"
     ]
    },
    {
     "name": "stderr",
     "output_type": "stream",
     "text": [
      "[2022-06-13 02:38:35,026] - obspy.clients.fdsn.mass_downloader - WARNING: Station information could not be downloaded for NZ.RPZ.10.HHZ. MiniSEED files outside of the station information period will be deleted!\n",
      "[2022-06-13 02:38:35,027] - obspy.clients.fdsn.mass_downloader - WARNING: Station information could not be downloaded for NZ.VRZ.10.HHZ. MiniSEED files outside of the station information period will be deleted!\n",
      "[2022-06-13 02:38:35,775] - obspy.clients.fdsn.mass_downloader - WARNING: Station information could not be downloaded for NZ.MWZ.10.HHZ. MiniSEED files outside of the station information period will be deleted!\n",
      "[2022-06-13 02:38:35,776] - obspy.clients.fdsn.mass_downloader - WARNING: Station information could not be downloaded for NZ.RPZ.10.HHZ. MiniSEED files outside of the station information period will be deleted!\n",
      "[2022-06-13 02:38:46,821] - obspy.clients.fdsn.mass_downloader - WARNING: Station information could not be downloaded for NZ.MWZ.10.HHZ. MiniSEED files outside of the station information period will be deleted!\n",
      "[2022-06-13 02:38:46,822] - obspy.clients.fdsn.mass_downloader - WARNING: Station information could not be downloaded for NZ.RPZ.10.HHZ. MiniSEED files outside of the station information period will be deleted!\n",
      "[2022-06-13 02:38:47,293] - obspy.clients.fdsn.mass_downloader - WARNING: Station information could not be downloaded for NZ.VRZ.10.HHZ. MiniSEED files outside of the station information period will be deleted!\n"
     ]
    },
    {
     "name": "stdout",
     "output_type": "stream",
     "text": [
      "100 threads took 38.7 seconds\n"
     ]
    },
    {
     "name": "stderr",
     "output_type": "stream",
     "text": [
      "[2022-06-13 02:39:09,997] - obspy.clients.fdsn.mass_downloader - WARNING: Station information could not be downloaded for NZ.MWZ.10.HHZ. MiniSEED files outside of the station information period will be deleted!\n",
      "[2022-06-13 02:39:09,998] - obspy.clients.fdsn.mass_downloader - WARNING: Station information could not be downloaded for NZ.VRZ.10.HHZ. MiniSEED files outside of the station information period will be deleted!\n",
      "[2022-06-13 02:39:16,965] - obspy.clients.fdsn.mass_downloader - WARNING: Station information could not be downloaded for NZ.DCZ.10.HHZ. MiniSEED files outside of the station information period will be deleted!\n",
      "[2022-06-13 02:39:16,971] - obspy.clients.fdsn.mass_downloader - WARNING: Station information could not be downloaded for NZ.RPZ.10.HHZ. MiniSEED files outside of the station information period will be deleted!\n"
     ]
    },
    {
     "name": "stdout",
     "output_type": "stream",
     "text": [
      "100 threads took 27.3 seconds\n"
     ]
    },
    {
     "name": "stderr",
     "output_type": "stream",
     "text": [
      "[2022-06-13 02:39:38,757] - obspy.clients.fdsn.mass_downloader - WARNING: Station information could not be downloaded for NZ.RPZ.10.HHZ. MiniSEED files outside of the station information period will be deleted!\n",
      "[2022-06-13 02:39:38,757] - obspy.clients.fdsn.mass_downloader - WARNING: Station information could not be downloaded for NZ.VRZ.10.HHZ. MiniSEED files outside of the station information period will be deleted!\n",
      "[2022-06-13 02:39:40,257] - obspy.clients.fdsn.mass_downloader - WARNING: Station information could not be downloaded for NZ.RPZ.10.HHZ. MiniSEED files outside of the station information period will be deleted!\n",
      "[2022-06-13 02:39:43,560] - obspy.clients.fdsn.mass_downloader - WARNING: Station information could not be downloaded for NZ.MWZ.10.HHZ. MiniSEED files outside of the station information period will be deleted!\n",
      "[2022-06-13 02:39:43,753] - obspy.clients.fdsn.mass_downloader - WARNING: Station information could not be downloaded for NZ.VRZ.10.HHZ. MiniSEED files outside of the station information period will be deleted!\n",
      "[2022-06-13 02:39:44,546] - obspy.clients.fdsn.mass_downloader - WARNING: Station information could not be downloaded for NZ.DCZ.10.HHZ. MiniSEED files outside of the station information period will be deleted!\n",
      "[2022-06-13 02:39:44,547] - obspy.clients.fdsn.mass_downloader - WARNING: Station information could not be downloaded for NZ.MWZ.10.HHZ. MiniSEED files outside of the station information period will be deleted!\n",
      "[2022-06-13 02:39:44,548] - obspy.clients.fdsn.mass_downloader - WARNING: Station information could not be downloaded for NZ.OPRZ.10.HHZ. MiniSEED files outside of the station information period will be deleted!\n",
      "[2022-06-13 02:39:44,548] - obspy.clients.fdsn.mass_downloader - WARNING: Station information could not be downloaded for NZ.RPZ.10.HHZ. MiniSEED files outside of the station information period will be deleted!\n",
      "[2022-06-13 02:39:44,585] - obspy.clients.fdsn.mass_downloader - WARNING: Station information could not be downloaded for NZ.VRZ.10.HHZ. MiniSEED files outside of the station information period will be deleted!\n",
      "[2022-06-13 02:39:50,939] - obspy.clients.fdsn.mass_downloader - WARNING: Station information could not be downloaded for NZ.VRZ.10.HHZ. MiniSEED files outside of the station information period will be deleted!\n",
      "[2022-06-13 02:39:50,941] - obspy.clients.fdsn.mass_downloader - WARNING: Station information could not be downloaded for NZ.WVZ.10.HHZ. MiniSEED files outside of the station information period will be deleted!\n",
      "[2022-06-13 02:39:55,063] - obspy.clients.fdsn.mass_downloader - WARNING: Station information could not be downloaded for NZ.MWZ.10.HHZ. MiniSEED files outside of the station information period will be deleted!\n",
      "[2022-06-13 02:39:55,064] - obspy.clients.fdsn.mass_downloader - WARNING: Station information could not be downloaded for NZ.VRZ.10.HHZ. MiniSEED files outside of the station information period will be deleted!\n",
      "[2022-06-13 02:39:58,157] - obspy.clients.fdsn.mass_downloader - WARNING: Station information could not be downloaded for NZ.MWZ.10.HHZ. MiniSEED files outside of the station information period will be deleted!\n",
      "[2022-06-13 02:39:58,158] - obspy.clients.fdsn.mass_downloader - WARNING: Station information could not be downloaded for NZ.OPRZ.10.HHZ. MiniSEED files outside of the station information period will be deleted!\n",
      "[2022-06-13 02:39:58,158] - obspy.clients.fdsn.mass_downloader - WARNING: Station information could not be downloaded for NZ.VRZ.10.HHZ. MiniSEED files outside of the station information period will be deleted!\n"
     ]
    },
    {
     "name": "stdout",
     "output_type": "stream",
     "text": [
      "100 threads took 31.6 seconds\n"
     ]
    },
    {
     "name": "stderr",
     "output_type": "stream",
     "text": [
      "[2022-06-13 02:40:09,865] - obspy.clients.fdsn.mass_downloader - WARNING: Station information could not be downloaded for NZ.MWZ.10.HHZ. MiniSEED files outside of the station information period will be deleted!\n",
      "[2022-06-13 02:40:09,866] - obspy.clients.fdsn.mass_downloader - WARNING: Station information could not be downloaded for NZ.VRZ.10.HHZ. MiniSEED files outside of the station information period will be deleted!\n",
      "[2022-06-13 02:40:12,701] - obspy.clients.fdsn.mass_downloader - WARNING: Station information could not be downloaded for NZ.VRZ.10.HHZ. MiniSEED files outside of the station information period will be deleted!\n",
      "[2022-06-13 02:40:13,423] - obspy.clients.fdsn.mass_downloader - WARNING: Station information could not be downloaded for NZ.OPRZ.10.HHZ. MiniSEED files outside of the station information period will be deleted!\n",
      "[2022-06-13 02:40:14,339] - obspy.clients.fdsn.mass_downloader - WARNING: Station information could not be downloaded for NZ.DCZ.10.HHZ. MiniSEED files outside of the station information period will be deleted!\n",
      "[2022-06-13 02:40:21,161] - obspy.clients.fdsn.mass_downloader - WARNING: Station information could not be downloaded for NZ.MWZ.10.HHZ. MiniSEED files outside of the station information period will be deleted!\n",
      "[2022-06-13 02:40:21,162] - obspy.clients.fdsn.mass_downloader - WARNING: Station information could not be downloaded for NZ.OPRZ.10.HHZ. MiniSEED files outside of the station information period will be deleted!\n",
      "[2022-06-13 02:40:21,163] - obspy.clients.fdsn.mass_downloader - WARNING: Station information could not be downloaded for NZ.VRZ.10.HHZ. MiniSEED files outside of the station information period will be deleted!\n",
      "[2022-06-13 02:40:23,036] - obspy.clients.fdsn.mass_downloader - WARNING: Station information could not be downloaded for NZ.OPRZ.10.HHZ. MiniSEED files outside of the station information period will be deleted!\n",
      "[2022-06-13 02:40:23,585] - obspy.clients.fdsn.mass_downloader - WARNING: Station information could not be downloaded for NZ.RPZ.10.HHZ. MiniSEED files outside of the station information period will be deleted!\n",
      "[2022-06-13 02:40:24,226] - obspy.clients.fdsn.mass_downloader - WARNING: Station information could not be downloaded for NZ.MWZ.10.HHZ. MiniSEED files outside of the station information period will be deleted!\n",
      "[2022-06-13 02:40:37,116] - obspy.clients.fdsn.mass_downloader - WARNING: Station information could not be downloaded for NZ.DCZ.10.HHZ. MiniSEED files outside of the station information period will be deleted!\n",
      "[2022-06-13 02:40:37,117] - obspy.clients.fdsn.mass_downloader - WARNING: Station information could not be downloaded for NZ.MWZ.10.HHZ. MiniSEED files outside of the station information period will be deleted!\n",
      "[2022-06-13 02:40:37,177] - obspy.clients.fdsn.mass_downloader - WARNING: Station information could not be downloaded for NZ.DCZ.10.HHZ. MiniSEED files outside of the station information period will be deleted!\n",
      "[2022-06-13 02:40:37,178] - obspy.clients.fdsn.mass_downloader - WARNING: Station information could not be downloaded for NZ.MWZ.10.HHZ. MiniSEED files outside of the station information period will be deleted!\n",
      "[2022-06-13 02:40:37,339] - obspy.clients.fdsn.mass_downloader - WARNING: Station information could not be downloaded for NZ.OPRZ.10.HHZ. MiniSEED files outside of the station information period will be deleted!\n"
     ]
    },
    {
     "name": "stdout",
     "output_type": "stream",
     "text": [
      "100 threads took 39.0 seconds\n"
     ]
    },
    {
     "name": "stderr",
     "output_type": "stream",
     "text": [
      "[2022-06-13 02:40:49,943] - obspy.clients.fdsn.mass_downloader - WARNING: Station information could not be downloaded for NZ.VRZ.10.HHZ. MiniSEED files outside of the station information period will be deleted!\n",
      "[2022-06-13 02:40:51,289] - obspy.clients.fdsn.mass_downloader - WARNING: Station information could not be downloaded for NZ.OPRZ.10.HHZ. MiniSEED files outside of the station information period will be deleted!\n",
      "[2022-06-13 02:40:52,047] - obspy.clients.fdsn.mass_downloader - WARNING: Station information could not be downloaded for NZ.VRZ.10.HHZ. MiniSEED files outside of the station information period will be deleted!\n",
      "[2022-06-13 02:40:54,652] - obspy.clients.fdsn.mass_downloader - WARNING: Station information could not be downloaded for NZ.DCZ.10.HHZ. MiniSEED files outside of the station information period will be deleted!\n"
     ]
    },
    {
     "name": "stdout",
     "output_type": "stream",
     "text": [
      "100 threads took 27.2 seconds\n"
     ]
    },
    {
     "name": "stderr",
     "output_type": "stream",
     "text": [
      "[2022-06-13 02:41:19,753] - obspy.clients.fdsn.mass_downloader - WARNING: Station information could not be downloaded for NZ.RPZ.10.HHZ. MiniSEED files outside of the station information period will be deleted!\n",
      "[2022-06-13 02:41:20,204] - obspy.clients.fdsn.mass_downloader - WARNING: Station information could not be downloaded for NZ.DCZ.10.HHZ. MiniSEED files outside of the station information period will be deleted!\n",
      "[2022-06-13 02:41:20,205] - obspy.clients.fdsn.mass_downloader - WARNING: Station information could not be downloaded for NZ.RPZ.10.HHZ. MiniSEED files outside of the station information period will be deleted!\n",
      "[2022-06-13 02:41:28,928] - obspy.clients.fdsn.mass_downloader - WARNING: Station information could not be downloaded for NZ.MWZ.10.HHZ. MiniSEED files outside of the station information period will be deleted!\n",
      "[2022-06-13 02:41:31,447] - obspy.clients.fdsn.mass_downloader - WARNING: Station information could not be downloaded for NZ.VRZ.10.HHZ. MiniSEED files outside of the station information period will be deleted!\n",
      "[2022-06-13 02:41:32,201] - obspy.clients.fdsn.mass_downloader - WARNING: Station information could not be downloaded for NZ.DCZ.10.HHZ. MiniSEED files outside of the station information period will be deleted!\n"
     ]
    },
    {
     "name": "stdout",
     "output_type": "stream",
     "text": [
      "100 threads took 39.4 seconds\n"
     ]
    },
    {
     "name": "stderr",
     "output_type": "stream",
     "text": [
      "[2022-06-13 02:41:56,196] - obspy.clients.fdsn.mass_downloader - WARNING: Station information could not be downloaded for NZ.OPRZ.10.HHZ. MiniSEED files outside of the station information period will be deleted!\n",
      "[2022-06-13 02:42:06,522] - obspy.clients.fdsn.mass_downloader - WARNING: Station information could not be downloaded for NZ.WVZ.10.HHZ. MiniSEED files outside of the station information period will be deleted!\n",
      "[2022-06-13 02:42:08,451] - obspy.clients.fdsn.mass_downloader - WARNING: Station information could not be downloaded for NZ.MWZ.10.HHZ. MiniSEED files outside of the station information period will be deleted!\n",
      "[2022-06-13 02:42:10,392] - obspy.clients.fdsn.mass_downloader - WARNING: Station information could not be downloaded for NZ.OPRZ.10.HHZ. MiniSEED files outside of the station information period will be deleted!\n",
      "[2022-06-13 02:42:14,985] - obspy.clients.fdsn.mass_downloader - WARNING: Station information could not be downloaded for NZ.MWZ.10.HHZ. MiniSEED files outside of the station information period will be deleted!\n",
      "[2022-06-13 02:42:20,926] - obspy.clients.fdsn.mass_downloader - WARNING: Station information could not be downloaded for NZ.MWZ.10.HHZ. MiniSEED files outside of the station information period will be deleted!\n"
     ]
    },
    {
     "name": "stdout",
     "output_type": "stream",
     "text": [
      "100 threads took 40.6 seconds\n"
     ]
    },
    {
     "name": "stderr",
     "output_type": "stream",
     "text": [
      "[2022-06-13 02:42:35,784] - obspy.clients.fdsn.mass_downloader - WARNING: Station information could not be downloaded for NZ.OPRZ.10.HHZ. MiniSEED files outside of the station information period will be deleted!\n",
      "[2022-06-13 02:42:35,986] - obspy.clients.fdsn.mass_downloader - WARNING: Station information could not be downloaded for NZ.DCZ.10.HHZ. MiniSEED files outside of the station information period will be deleted!\n",
      "[2022-06-13 02:42:35,987] - obspy.clients.fdsn.mass_downloader - WARNING: Station information could not be downloaded for NZ.MWZ.10.HHZ. MiniSEED files outside of the station information period will be deleted!\n",
      "[2022-06-13 02:42:35,988] - obspy.clients.fdsn.mass_downloader - WARNING: Station information could not be downloaded for NZ.OPRZ.10.HHZ. MiniSEED files outside of the station information period will be deleted!\n",
      "[2022-06-13 02:42:35,988] - obspy.clients.fdsn.mass_downloader - WARNING: Station information could not be downloaded for NZ.VRZ.10.HHZ. MiniSEED files outside of the station information period will be deleted!\n",
      "[2022-06-13 02:42:38,496] - obspy.clients.fdsn.mass_downloader - WARNING: Station information could not be downloaded for NZ.MWZ.10.HHZ. MiniSEED files outside of the station information period will be deleted!\n",
      "[2022-06-13 02:42:38,497] - obspy.clients.fdsn.mass_downloader - WARNING: Station information could not be downloaded for NZ.OPRZ.10.HHZ. MiniSEED files outside of the station information period will be deleted!\n",
      "[2022-06-13 02:42:38,497] - obspy.clients.fdsn.mass_downloader - WARNING: Station information could not be downloaded for NZ.VRZ.10.HHZ. MiniSEED files outside of the station information period will be deleted!\n",
      "[2022-06-13 02:42:38,763] - obspy.clients.fdsn.mass_downloader - WARNING: Station information could not be downloaded for NZ.MWZ.10.HHZ. MiniSEED files outside of the station information period will be deleted!\n",
      "[2022-06-13 02:42:38,764] - obspy.clients.fdsn.mass_downloader - WARNING: Station information could not be downloaded for NZ.VRZ.10.HHZ. MiniSEED files outside of the station information period will be deleted!\n",
      "[2022-06-13 02:42:46,593] - obspy.clients.fdsn.mass_downloader - WARNING: Station information could not be downloaded for NZ.MWZ.10.HHZ. MiniSEED files outside of the station information period will be deleted!\n",
      "[2022-06-13 02:42:46,594] - obspy.clients.fdsn.mass_downloader - WARNING: Station information could not be downloaded for NZ.OPRZ.10.HHZ. MiniSEED files outside of the station information period will be deleted!\n",
      "[2022-06-13 02:42:46,594] - obspy.clients.fdsn.mass_downloader - WARNING: Station information could not be downloaded for NZ.VRZ.10.HHZ. MiniSEED files outside of the station information period will be deleted!\n",
      "[2022-06-13 02:42:47,258] - obspy.clients.fdsn.mass_downloader - WARNING: Station information could not be downloaded for NZ.MWZ.10.HHZ. MiniSEED files outside of the station information period will be deleted!\n",
      "[2022-06-13 02:42:47,278] - obspy.clients.fdsn.mass_downloader - WARNING: Station information could not be downloaded for NZ.VRZ.10.HHZ. MiniSEED files outside of the station information period will be deleted!\n",
      "[2022-06-13 02:42:47,313] - obspy.clients.fdsn.mass_downloader - WARNING: Station information could not be downloaded for NZ.WVZ.10.HHZ. MiniSEED files outside of the station information period will be deleted!\n"
     ]
    },
    {
     "name": "stdout",
     "output_type": "stream",
     "text": [
      "100 threads took 25.2 seconds\n"
     ]
    },
    {
     "name": "stderr",
     "output_type": "stream",
     "text": [
      "[2022-06-13 02:42:59,756] - obspy.clients.fdsn.mass_downloader - WARNING: Station information could not be downloaded for NZ.MWZ.10.HHZ. MiniSEED files outside of the station information period will be deleted!\n",
      "[2022-06-13 02:42:59,757] - obspy.clients.fdsn.mass_downloader - WARNING: Station information could not be downloaded for NZ.OPRZ.10.HHZ. MiniSEED files outside of the station information period will be deleted!\n",
      "[2022-06-13 02:42:59,758] - obspy.clients.fdsn.mass_downloader - WARNING: Station information could not be downloaded for NZ.RPZ.10.HHZ. MiniSEED files outside of the station information period will be deleted!\n",
      "[2022-06-13 02:42:59,758] - obspy.clients.fdsn.mass_downloader - WARNING: Station information could not be downloaded for NZ.VRZ.10.HHZ. MiniSEED files outside of the station information period will be deleted!\n",
      "[2022-06-13 02:43:00,900] - obspy.clients.fdsn.mass_downloader - WARNING: Station information could not be downloaded for NZ.MWZ.10.HHZ. MiniSEED files outside of the station information period will be deleted!\n",
      "[2022-06-13 02:43:00,901] - obspy.clients.fdsn.mass_downloader - WARNING: Station information could not be downloaded for NZ.RPZ.10.HHZ. MiniSEED files outside of the station information period will be deleted!\n",
      "[2022-06-13 02:43:01,576] - obspy.clients.fdsn.mass_downloader - WARNING: Station information could not be downloaded for NZ.MWZ.10.HHZ. MiniSEED files outside of the station information period will be deleted!\n",
      "[2022-06-13 02:43:01,577] - obspy.clients.fdsn.mass_downloader - WARNING: Station information could not be downloaded for NZ.RPZ.10.HHZ. MiniSEED files outside of the station information period will be deleted!\n",
      "[2022-06-13 02:43:03,401] - obspy.clients.fdsn.mass_downloader - WARNING: Station information could not be downloaded for NZ.RPZ.10.HHZ. MiniSEED files outside of the station information period will be deleted!\n",
      "[2022-06-13 02:43:03,724] - obspy.clients.fdsn.mass_downloader - WARNING: Station information could not be downloaded for NZ.MWZ.10.HHZ. MiniSEED files outside of the station information period will be deleted!\n",
      "[2022-06-13 02:43:03,725] - obspy.clients.fdsn.mass_downloader - WARNING: Station information could not be downloaded for NZ.RPZ.10.HHZ. MiniSEED files outside of the station information period will be deleted!\n",
      "[2022-06-13 02:43:07,113] - obspy.clients.fdsn.mass_downloader - WARNING: Station information could not be downloaded for NZ.MWZ.10.HHZ. MiniSEED files outside of the station information period will be deleted!\n",
      "[2022-06-13 02:43:07,114] - obspy.clients.fdsn.mass_downloader - WARNING: Station information could not be downloaded for NZ.VRZ.10.HHZ. MiniSEED files outside of the station information period will be deleted!\n",
      "[2022-06-13 02:43:11,448] - obspy.clients.fdsn.mass_downloader - WARNING: Station information could not be downloaded for NZ.DCZ.10.HHZ. MiniSEED files outside of the station information period will be deleted!\n",
      "[2022-06-13 02:43:11,449] - obspy.clients.fdsn.mass_downloader - WARNING: Station information could not be downloaded for NZ.MWZ.10.HHZ. MiniSEED files outside of the station information period will be deleted!\n",
      "[2022-06-13 02:43:11,450] - obspy.clients.fdsn.mass_downloader - WARNING: Station information could not be downloaded for NZ.RPZ.10.HHZ. MiniSEED files outside of the station information period will be deleted!\n",
      "[2022-06-13 02:43:12,104] - obspy.clients.fdsn.mass_downloader - WARNING: Station information could not be downloaded for NZ.DCZ.10.HHZ. MiniSEED files outside of the station information period will be deleted!\n",
      "[2022-06-13 02:43:12,105] - obspy.clients.fdsn.mass_downloader - WARNING: Station information could not be downloaded for NZ.MWZ.10.HHZ. MiniSEED files outside of the station information period will be deleted!\n",
      "[2022-06-13 02:43:12,105] - obspy.clients.fdsn.mass_downloader - WARNING: Station information could not be downloaded for NZ.RPZ.10.HHZ. MiniSEED files outside of the station information period will be deleted!\n"
     ]
    },
    {
     "name": "stdout",
     "output_type": "stream",
     "text": [
      "100 threads took 36.6 seconds\n"
     ]
    },
    {
     "name": "stderr",
     "output_type": "stream",
     "text": [
      "[2022-06-13 02:43:54,719] - obspy.clients.fdsn.mass_downloader - WARNING: Station information could not be downloaded for NZ.VRZ.10.HHZ. MiniSEED files outside of the station information period will be deleted!\n",
      "[2022-06-13 02:43:54,751] - obspy.clients.fdsn.mass_downloader - WARNING: Station information could not be downloaded for NZ.MWZ.10.HHZ. MiniSEED files outside of the station information period will be deleted!\n",
      "[2022-06-13 02:43:54,752] - obspy.clients.fdsn.mass_downloader - WARNING: Station information could not be downloaded for NZ.OPRZ.10.HHZ. MiniSEED files outside of the station information period will be deleted!\n"
     ]
    },
    {
     "name": "stdout",
     "output_type": "stream",
     "text": [
      "100 threads took 29.4 seconds\n"
     ]
    },
    {
     "name": "stderr",
     "output_type": "stream",
     "text": [
      "[2022-06-13 02:44:06,570] - obspy.clients.fdsn.mass_downloader - WARNING: Station information could not be downloaded for NZ.MWZ.10.HHZ. MiniSEED files outside of the station information period will be deleted!\n",
      "[2022-06-13 02:44:08,224] - obspy.clients.fdsn.mass_downloader - WARNING: Station information could not be downloaded for NZ.RPZ.10.HHZ. MiniSEED files outside of the station information period will be deleted!\n",
      "[2022-06-13 02:44:09,557] - obspy.clients.fdsn.mass_downloader - WARNING: Station information could not be downloaded for NZ.VRZ.10.HHZ. MiniSEED files outside of the station information period will be deleted!\n",
      "[2022-06-13 02:44:21,573] - obspy.clients.fdsn.mass_downloader - WARNING: Station information could not be downloaded for NZ.OPRZ.10.HHZ. MiniSEED files outside of the station information period will be deleted!\n",
      "[2022-06-13 02:44:21,574] - obspy.clients.fdsn.mass_downloader - WARNING: Station information could not be downloaded for NZ.RPZ.10.HHZ. MiniSEED files outside of the station information period will be deleted!\n",
      "[2022-06-13 02:44:33,453] - obspy.clients.fdsn.mass_downloader - WARNING: Station information could not be downloaded for NZ.OPRZ.10.HHZ. MiniSEED files outside of the station information period will be deleted!\n",
      "[2022-06-13 02:44:33,592] - obspy.clients.fdsn.mass_downloader - WARNING: Station information could not be downloaded for NZ.RPZ.10.HHZ. MiniSEED files outside of the station information period will be deleted!\n"
     ]
    },
    {
     "name": "stdout",
     "output_type": "stream",
     "text": [
      "100 threads took 37.2 seconds\n"
     ]
    },
    {
     "name": "stderr",
     "output_type": "stream",
     "text": [
      "[2022-06-13 02:44:44,609] - obspy.clients.fdsn.mass_downloader - WARNING: Station information could not be downloaded for NZ.WVZ.10.HHZ. MiniSEED files outside of the station information period will be deleted!\n",
      "[2022-06-13 02:44:45,832] - obspy.clients.fdsn.mass_downloader - WARNING: Station information could not be downloaded for NZ.DCZ.10.HHZ. MiniSEED files outside of the station information period will be deleted!\n",
      "[2022-06-13 02:44:48,242] - obspy.clients.fdsn.mass_downloader - WARNING: Station information could not be downloaded for NZ.RPZ.10.HHZ. MiniSEED files outside of the station information period will be deleted!\n",
      "[2022-06-13 02:44:48,656] - obspy.clients.fdsn.mass_downloader - WARNING: Station information could not be downloaded for NZ.RPZ.10.HHZ. MiniSEED files outside of the station information period will be deleted!\n",
      "[2022-06-13 02:44:48,747] - obspy.clients.fdsn.mass_downloader - WARNING: Station information could not be downloaded for NZ.RPZ.10.HHZ. MiniSEED files outside of the station information period will be deleted!\n",
      "[2022-06-13 02:44:49,361] - obspy.clients.fdsn.mass_downloader - WARNING: Station information could not be downloaded for NZ.MWZ.10.HHZ. MiniSEED files outside of the station information period will be deleted!\n",
      "[2022-06-13 02:44:49,615] - obspy.clients.fdsn.mass_downloader - WARNING: Station information could not be downloaded for NZ.MWZ.10.HHZ. MiniSEED files outside of the station information period will be deleted!\n",
      "[2022-06-13 02:45:09,313] - obspy.clients.fdsn.mass_downloader - WARNING: Station information could not be downloaded for NZ.WVZ.10.HHZ. MiniSEED files outside of the station information period will be deleted!\n"
     ]
    },
    {
     "name": "stdout",
     "output_type": "stream",
     "text": [
      "100 threads took 41.7 seconds\n"
     ]
    },
    {
     "name": "stderr",
     "output_type": "stream",
     "text": [
      "[2022-06-13 02:45:30,294] - obspy.clients.fdsn.mass_downloader - WARNING: Station information could not be downloaded for NZ.DCZ.10.HHZ. MiniSEED files outside of the station information period will be deleted!\n",
      "[2022-06-13 02:45:30,296] - obspy.clients.fdsn.mass_downloader - WARNING: Station information could not be downloaded for NZ.MWZ.10.HHZ. MiniSEED files outside of the station information period will be deleted!\n",
      "[2022-06-13 02:45:30,297] - obspy.clients.fdsn.mass_downloader - WARNING: Station information could not be downloaded for NZ.OPRZ.10.HHZ. MiniSEED files outside of the station information period will be deleted!\n",
      "[2022-06-13 02:45:41,003] - obspy.clients.fdsn.mass_downloader - WARNING: Station information could not be downloaded for NZ.RPZ.10.HHZ. MiniSEED files outside of the station information period will be deleted!\n",
      "[2022-06-13 02:45:44,126] - obspy.clients.fdsn.mass_downloader - WARNING: Station information could not be downloaded for NZ.DCZ.10.HHZ. MiniSEED files outside of the station information period will be deleted!\n",
      "[2022-06-13 02:45:44,149] - obspy.clients.fdsn.mass_downloader - WARNING: Station information could not be downloaded for NZ.DCZ.10.HHZ. MiniSEED files outside of the station information period will be deleted!\n"
     ]
    },
    {
     "name": "stdout",
     "output_type": "stream",
     "text": [
      "100 threads took 38.3 seconds\n"
     ]
    },
    {
     "name": "stderr",
     "output_type": "stream",
     "text": [
      "[2022-06-13 02:46:04,590] - obspy.clients.fdsn.mass_downloader - WARNING: Station information could not be downloaded for NZ.DCZ.10.HHZ. MiniSEED files outside of the station information period will be deleted!\n",
      "[2022-06-13 02:46:04,591] - obspy.clients.fdsn.mass_downloader - WARNING: Station information could not be downloaded for NZ.RPZ.10.HHZ. MiniSEED files outside of the station information period will be deleted!\n",
      "[2022-06-13 02:46:07,207] - obspy.clients.fdsn.mass_downloader - WARNING: Station information could not be downloaded for NZ.VRZ.10.HHZ. MiniSEED files outside of the station information period will be deleted!\n",
      "[2022-06-13 02:46:07,554] - obspy.clients.fdsn.mass_downloader - WARNING: Station information could not be downloaded for NZ.RPZ.10.HHZ. MiniSEED files outside of the station information period will be deleted!\n",
      "[2022-06-13 02:46:07,555] - obspy.clients.fdsn.mass_downloader - WARNING: Station information could not be downloaded for NZ.VRZ.10.HHZ. MiniSEED files outside of the station information period will be deleted!\n",
      "[2022-06-13 02:46:07,566] - obspy.clients.fdsn.mass_downloader - WARNING: Station information could not be downloaded for NZ.OPRZ.10.HHZ. MiniSEED files outside of the station information period will be deleted!\n",
      "[2022-06-13 02:46:17,224] - obspy.clients.fdsn.mass_downloader - WARNING: Station information could not be downloaded for NZ.MWZ.10.HHZ. MiniSEED files outside of the station information period will be deleted!\n",
      "[2022-06-13 02:46:17,225] - obspy.clients.fdsn.mass_downloader - WARNING: Station information could not be downloaded for NZ.RPZ.10.HHZ. MiniSEED files outside of the station information period will be deleted!\n",
      "[2022-06-13 02:46:17,873] - obspy.clients.fdsn.mass_downloader - WARNING: Station information could not be downloaded for NZ.RPZ.10.HHZ. MiniSEED files outside of the station information period will be deleted!\n",
      "[2022-06-13 02:46:20,281] - obspy.clients.fdsn.mass_downloader - WARNING: Station information could not be downloaded for NZ.RPZ.10.HHZ. MiniSEED files outside of the station information period will be deleted!\n",
      "[2022-06-13 02:46:20,282] - obspy.clients.fdsn.mass_downloader - WARNING: Station information could not be downloaded for NZ.WVZ.10.HHZ. MiniSEED files outside of the station information period will be deleted!\n"
     ]
    },
    {
     "name": "stdout",
     "output_type": "stream",
     "text": [
      "100 threads took 38.5 seconds\n"
     ]
    },
    {
     "name": "stderr",
     "output_type": "stream",
     "text": [
      "[2022-06-13 02:46:42,620] - obspy.clients.fdsn.mass_downloader - WARNING: Station information could not be downloaded for NZ.MWZ.10.HHZ. MiniSEED files outside of the station information period will be deleted!\n",
      "[2022-06-13 02:46:42,621] - obspy.clients.fdsn.mass_downloader - WARNING: Station information could not be downloaded for NZ.OPRZ.10.HHZ. MiniSEED files outside of the station information period will be deleted!\n",
      "[2022-06-13 02:46:42,622] - obspy.clients.fdsn.mass_downloader - WARNING: Station information could not be downloaded for NZ.VRZ.10.HHZ. MiniSEED files outside of the station information period will be deleted!\n",
      "[2022-06-13 02:46:44,972] - obspy.clients.fdsn.mass_downloader - WARNING: Station information could not be downloaded for NZ.RPZ.10.HHZ. MiniSEED files outside of the station information period will be deleted!\n",
      "[2022-06-13 02:46:45,455] - obspy.clients.fdsn.mass_downloader - WARNING: Station information could not be downloaded for NZ.DCZ.10.HHZ. MiniSEED files outside of the station information period will be deleted!\n",
      "[2022-06-13 02:46:45,457] - obspy.clients.fdsn.mass_downloader - WARNING: Station information could not be downloaded for NZ.RPZ.10.HHZ. MiniSEED files outside of the station information period will be deleted!\n",
      "[2022-06-13 02:46:45,457] - obspy.clients.fdsn.mass_downloader - WARNING: Station information could not be downloaded for NZ.MWZ.10.HHZ. MiniSEED files outside of the station information period will be deleted!\n",
      "[2022-06-13 02:46:45,458] - obspy.clients.fdsn.mass_downloader - WARNING: Station information could not be downloaded for NZ.OPRZ.10.HHZ. MiniSEED files outside of the station information period will be deleted!\n",
      "[2022-06-13 02:46:45,464] - obspy.clients.fdsn.mass_downloader - WARNING: Station information could not be downloaded for NZ.RPZ.10.HHZ. MiniSEED files outside of the station information period will be deleted!\n",
      "[2022-06-13 02:46:45,464] - obspy.clients.fdsn.mass_downloader - WARNING: Station information could not be downloaded for NZ.URZ.10.HHZ. MiniSEED files outside of the station information period will be deleted!\n",
      "[2022-06-13 02:46:46,235] - obspy.clients.fdsn.mass_downloader - WARNING: Station information could not be downloaded for NZ.RPZ.10.HHZ. MiniSEED files outside of the station information period will be deleted!\n",
      "[2022-06-13 02:46:52,596] - obspy.clients.fdsn.mass_downloader - WARNING: Station information could not be downloaded for NZ.RPZ.10.HHZ. MiniSEED files outside of the station information period will be deleted!\n",
      "[2022-06-13 02:46:52,940] - obspy.clients.fdsn.mass_downloader - WARNING: Station information could not be downloaded for NZ.RPZ.10.HHZ. MiniSEED files outside of the station information period will be deleted!\n",
      "[2022-06-13 02:46:57,653] - obspy.clients.fdsn.mass_downloader - WARNING: Station information could not be downloaded for NZ.MWZ.10.HHZ. MiniSEED files outside of the station information period will be deleted!\n",
      "[2022-06-13 02:46:58,854] - obspy.clients.fdsn.mass_downloader - WARNING: Station information could not be downloaded for NZ.DCZ.10.HHZ. MiniSEED files outside of the station information period will be deleted!\n"
     ]
    },
    {
     "name": "stdout",
     "output_type": "stream",
     "text": [
      "100 threads took 36.0 seconds\n"
     ]
    },
    {
     "name": "stderr",
     "output_type": "stream",
     "text": [
      "[2022-06-13 02:47:18,201] - obspy.clients.fdsn.mass_downloader - WARNING: Station information could not be downloaded for NZ.MWZ.10.HHZ. MiniSEED files outside of the station information period will be deleted!\n",
      "[2022-06-13 02:47:18,202] - obspy.clients.fdsn.mass_downloader - WARNING: Station information could not be downloaded for NZ.VRZ.10.HHZ. MiniSEED files outside of the station information period will be deleted!\n",
      "[2022-06-13 02:47:18,709] - obspy.clients.fdsn.mass_downloader - WARNING: Station information could not be downloaded for NZ.MWZ.10.HHZ. MiniSEED files outside of the station information period will be deleted!\n",
      "[2022-06-13 02:47:18,710] - obspy.clients.fdsn.mass_downloader - WARNING: Station information could not be downloaded for NZ.MWZ.10.HHZ. MiniSEED files outside of the station information period will be deleted!\n",
      "[2022-06-13 02:47:18,781] - obspy.clients.fdsn.mass_downloader - WARNING: Station information could not be downloaded for NZ.OPRZ.10.HHZ. MiniSEED files outside of the station information period will be deleted!\n",
      "[2022-06-13 02:47:19,885] - obspy.clients.fdsn.mass_downloader - WARNING: Station information could not be downloaded for NZ.RPZ.10.HHZ. MiniSEED files outside of the station information period will be deleted!\n",
      "[2022-06-13 02:47:19,892] - obspy.clients.fdsn.mass_downloader - WARNING: Station information could not be downloaded for NZ.RPZ.10.HHZ. MiniSEED files outside of the station information period will be deleted!\n",
      "[2022-06-13 02:47:20,110] - obspy.clients.fdsn.mass_downloader - WARNING: Station information could not be downloaded for NZ.MWZ.10.HHZ. MiniSEED files outside of the station information period will be deleted!\n",
      "[2022-06-13 02:47:20,455] - obspy.clients.fdsn.mass_downloader - WARNING: Station information could not be downloaded for NZ.MWZ.10.HHZ. MiniSEED files outside of the station information period will be deleted!\n",
      "[2022-06-13 02:47:20,456] - obspy.clients.fdsn.mass_downloader - WARNING: Station information could not be downloaded for NZ.RPZ.10.HHZ. MiniSEED files outside of the station information period will be deleted!\n",
      "[2022-06-13 02:47:23,558] - obspy.clients.fdsn.mass_downloader - WARNING: Station information could not be downloaded for NZ.MWZ.10.HHZ. MiniSEED files outside of the station information period will be deleted!\n",
      "[2022-06-13 02:47:30,856] - obspy.clients.fdsn.mass_downloader - WARNING: Station information could not be downloaded for NZ.RPZ.10.HHZ. MiniSEED files outside of the station information period will be deleted!\n",
      "[2022-06-13 02:47:30,856] - obspy.clients.fdsn.mass_downloader - WARNING: Station information could not be downloaded for NZ.RPZ.10.HHZ. MiniSEED files outside of the station information period will be deleted!\n",
      "[2022-06-13 02:47:31,654] - obspy.clients.fdsn.mass_downloader - WARNING: Station information could not be downloaded for NZ.RPZ.10.HHZ. MiniSEED files outside of the station information period will be deleted!\n",
      "[2022-06-13 02:47:32,564] - obspy.clients.fdsn.mass_downloader - WARNING: Station information could not be downloaded for NZ.RPZ.10.HHZ. MiniSEED files outside of the station information period will be deleted!\n",
      "[2022-06-13 02:47:33,037] - obspy.clients.fdsn.mass_downloader - WARNING: Station information could not be downloaded for NZ.RPZ.10.HHZ. MiniSEED files outside of the station information period will be deleted!\n",
      "[2022-06-13 02:47:34,413] - obspy.clients.fdsn.mass_downloader - WARNING: Station information could not be downloaded for NZ.OPRZ.10.HHZ. MiniSEED files outside of the station information period will be deleted!\n"
     ]
    },
    {
     "name": "stdout",
     "output_type": "stream",
     "text": [
      "100 threads took 36.3 seconds\n"
     ]
    },
    {
     "name": "stderr",
     "output_type": "stream",
     "text": [
      "[2022-06-13 02:47:54,774] - obspy.clients.fdsn.mass_downloader - WARNING: Station information could not be downloaded for NZ.MWZ.10.HHZ. MiniSEED files outside of the station information period will be deleted!\n",
      "[2022-06-13 02:47:55,016] - obspy.clients.fdsn.mass_downloader - WARNING: Station information could not be downloaded for NZ.MWZ.10.HHZ. MiniSEED files outside of the station information period will be deleted!\n",
      "[2022-06-13 02:47:55,116] - obspy.clients.fdsn.mass_downloader - WARNING: Station information could not be downloaded for NZ.MWZ.10.HHZ. MiniSEED files outside of the station information period will be deleted!\n",
      "[2022-06-13 02:47:56,671] - obspy.clients.fdsn.mass_downloader - WARNING: Station information could not be downloaded for NZ.MWZ.10.HHZ. MiniSEED files outside of the station information period will be deleted!\n",
      "[2022-06-13 02:47:56,672] - obspy.clients.fdsn.mass_downloader - WARNING: Station information could not be downloaded for NZ.OPRZ.10.HHZ. MiniSEED files outside of the station information period will be deleted!\n",
      "[2022-06-13 02:47:56,821] - obspy.clients.fdsn.mass_downloader - WARNING: Station information could not be downloaded for NZ.OPRZ.10.HHZ. MiniSEED files outside of the station information period will be deleted!\n",
      "[2022-06-13 02:47:56,821] - obspy.clients.fdsn.mass_downloader - WARNING: Station information could not be downloaded for NZ.VRZ.10.HHZ. MiniSEED files outside of the station information period will be deleted!\n",
      "[2022-06-13 02:47:57,399] - obspy.clients.fdsn.mass_downloader - WARNING: Station information could not be downloaded for NZ.RPZ.10.HHZ. MiniSEED files outside of the station information period will be deleted!\n",
      "[2022-06-13 02:47:57,400] - obspy.clients.fdsn.mass_downloader - WARNING: Station information could not be downloaded for NZ.VRZ.10.HHZ. MiniSEED files outside of the station information period will be deleted!\n",
      "[2022-06-13 02:48:07,282] - obspy.clients.fdsn.mass_downloader - WARNING: Station information could not be downloaded for NZ.MWZ.10.HHZ. MiniSEED files outside of the station information period will be deleted!\n",
      "[2022-06-13 02:48:07,283] - obspy.clients.fdsn.mass_downloader - WARNING: Station information could not be downloaded for NZ.OPRZ.10.HHZ. MiniSEED files outside of the station information period will be deleted!\n",
      "[2022-06-13 02:48:07,443] - obspy.clients.fdsn.mass_downloader - WARNING: Station information could not be downloaded for NZ.MWZ.10.HHZ. MiniSEED files outside of the station information period will be deleted!\n",
      "[2022-06-13 02:48:07,444] - obspy.clients.fdsn.mass_downloader - WARNING: Station information could not be downloaded for NZ.OPRZ.10.HHZ. MiniSEED files outside of the station information period will be deleted!\n",
      "[2022-06-13 02:48:07,445] - obspy.clients.fdsn.mass_downloader - WARNING: Station information could not be downloaded for NZ.WVZ.10.HHZ. MiniSEED files outside of the station information period will be deleted!\n",
      "[2022-06-13 02:48:09,052] - obspy.clients.fdsn.mass_downloader - WARNING: Station information could not be downloaded for NZ.OPRZ.10.HHZ. MiniSEED files outside of the station information period will be deleted!\n",
      "[2022-06-13 02:48:11,496] - obspy.clients.fdsn.mass_downloader - WARNING: Station information could not be downloaded for NZ.MWZ.10.HHZ. MiniSEED files outside of the station information period will be deleted!\n"
     ]
    },
    {
     "name": "stdout",
     "output_type": "stream",
     "text": [
      "100 threads took 34.8 seconds\n"
     ]
    },
    {
     "name": "stderr",
     "output_type": "stream",
     "text": [
      "[2022-06-13 02:48:28,992] - obspy.clients.fdsn.mass_downloader - WARNING: Station information could not be downloaded for NZ.RPZ.10.HHZ. MiniSEED files outside of the station information period will be deleted!\n",
      "[2022-06-13 02:48:31,448] - obspy.clients.fdsn.mass_downloader - WARNING: Station information could not be downloaded for NZ.MWZ.10.HHZ. MiniSEED files outside of the station information period will be deleted!\n",
      "[2022-06-13 02:48:31,449] - obspy.clients.fdsn.mass_downloader - WARNING: Station information could not be downloaded for NZ.RPZ.10.HHZ. MiniSEED files outside of the station information period will be deleted!\n",
      "[2022-06-13 02:48:43,291] - obspy.clients.fdsn.mass_downloader - WARNING: Station information could not be downloaded for NZ.OPRZ.10.HHZ. MiniSEED files outside of the station information period will be deleted!\n",
      "[2022-06-13 02:48:43,979] - obspy.clients.fdsn.mass_downloader - WARNING: Station information could not be downloaded for NZ.OPRZ.10.HHZ. MiniSEED files outside of the station information period will be deleted!\n",
      "[2022-06-13 02:48:43,980] - obspy.clients.fdsn.mass_downloader - WARNING: Station information could not be downloaded for NZ.RPZ.10.HHZ. MiniSEED files outside of the station information period will be deleted!\n",
      "[2022-06-13 02:48:43,981] - obspy.clients.fdsn.mass_downloader - WARNING: Station information could not be downloaded for NZ.VRZ.10.HHZ. MiniSEED files outside of the station information period will be deleted!\n",
      "[2022-06-13 02:48:44,509] - obspy.clients.fdsn.mass_downloader - WARNING: Station information could not be downloaded for NZ.DCZ.10.HHZ. MiniSEED files outside of the station information period will be deleted!\n",
      "[2022-06-13 02:48:45,517] - obspy.clients.fdsn.mass_downloader - WARNING: Station information could not be downloaded for NZ.MWZ.10.HHZ. MiniSEED files outside of the station information period will be deleted!\n",
      "[2022-06-13 02:48:45,518] - obspy.clients.fdsn.mass_downloader - WARNING: Station information could not be downloaded for NZ.OPRZ.10.HHZ. MiniSEED files outside of the station information period will be deleted!\n",
      "[2022-06-13 02:48:46,377] - obspy.clients.fdsn.mass_downloader - WARNING: Station information could not be downloaded for NZ.MWZ.10.HHZ. MiniSEED files outside of the station information period will be deleted!\n",
      "[2022-06-13 02:48:46,761] - obspy.clients.fdsn.mass_downloader - WARNING: Station information could not be downloaded for NZ.DCZ.10.HHZ. MiniSEED files outside of the station information period will be deleted!\n",
      "[2022-06-13 02:48:52,052] - obspy.clients.fdsn.mass_downloader - WARNING: Station information could not be downloaded for NZ.OPRZ.10.HHZ. MiniSEED files outside of the station information period will be deleted!\n"
     ]
    },
    {
     "name": "stdout",
     "output_type": "stream",
     "text": [
      "100 threads took 36.3 seconds\n"
     ]
    },
    {
     "name": "stderr",
     "output_type": "stream",
     "text": [
      "[2022-06-13 02:49:04,573] - obspy.clients.fdsn.mass_downloader - WARNING: Station information could not be downloaded for NZ.OPRZ.10.HHZ. MiniSEED files outside of the station information period will be deleted!\n",
      "[2022-06-13 02:49:08,143] - obspy.clients.fdsn.mass_downloader - WARNING: Station information could not be downloaded for NZ.RPZ.10.HHZ. MiniSEED files outside of the station information period will be deleted!\n",
      "[2022-06-13 02:49:08,404] - obspy.clients.fdsn.mass_downloader - WARNING: Station information could not be downloaded for NZ.MWZ.10.HHZ. MiniSEED files outside of the station information period will be deleted!\n",
      "[2022-06-13 02:49:08,530] - obspy.clients.fdsn.mass_downloader - WARNING: Station information could not be downloaded for NZ.OPRZ.10.HHZ. MiniSEED files outside of the station information period will be deleted!\n",
      "[2022-06-13 02:49:17,197] - obspy.clients.fdsn.mass_downloader - WARNING: Station information could not be downloaded for NZ.MWZ.10.HHZ. MiniSEED files outside of the station information period will be deleted!\n",
      "[2022-06-13 02:49:17,198] - obspy.clients.fdsn.mass_downloader - WARNING: Station information could not be downloaded for NZ.RPZ.10.HHZ. MiniSEED files outside of the station information period will be deleted!\n",
      "[2022-06-13 02:49:18,509] - obspy.clients.fdsn.mass_downloader - WARNING: Station information could not be downloaded for NZ.MWZ.10.HHZ. MiniSEED files outside of the station information period will be deleted!\n",
      "[2022-06-13 02:49:18,797] - obspy.clients.fdsn.mass_downloader - WARNING: Station information could not be downloaded for NZ.WVZ.10.HHZ. MiniSEED files outside of the station information period will be deleted!\n"
     ]
    },
    {
     "name": "stdout",
     "output_type": "stream",
     "text": [
      "100 threads took 27.9 seconds\n"
     ]
    },
    {
     "name": "stderr",
     "output_type": "stream",
     "text": [
      "[2022-06-13 02:49:33,668] - obspy.clients.fdsn.mass_downloader - WARNING: Station information could not be downloaded for NZ.OPRZ.10.HHZ. MiniSEED files outside of the station information period will be deleted!\n",
      "[2022-06-13 02:49:33,722] - obspy.clients.fdsn.mass_downloader - WARNING: Station information could not be downloaded for NZ.OPRZ.10.HHZ. MiniSEED files outside of the station information period will be deleted!\n",
      "[2022-06-13 02:49:37,127] - obspy.clients.fdsn.mass_downloader - WARNING: Station information could not be downloaded for NZ.MWZ.10.HHZ. MiniSEED files outside of the station information period will be deleted!\n",
      "[2022-06-13 02:49:37,662] - obspy.clients.fdsn.mass_downloader - WARNING: Station information could not be downloaded for NZ.MWZ.10.HHZ. MiniSEED files outside of the station information period will be deleted!\n",
      "[2022-06-13 02:49:46,743] - obspy.clients.fdsn.mass_downloader - WARNING: Station information could not be downloaded for NZ.DCZ.10.HHZ. MiniSEED files outside of the station information period will be deleted!\n",
      "[2022-06-13 02:49:46,744] - obspy.clients.fdsn.mass_downloader - WARNING: Station information could not be downloaded for NZ.MWZ.10.HHZ. MiniSEED files outside of the station information period will be deleted!\n",
      "[2022-06-13 02:49:46,745] - obspy.clients.fdsn.mass_downloader - WARNING: Station information could not be downloaded for NZ.OPRZ.10.HHZ. MiniSEED files outside of the station information period will be deleted!\n",
      "[2022-06-13 02:49:46,800] - obspy.clients.fdsn.mass_downloader - WARNING: Station information could not be downloaded for NZ.OPRZ.10.HHZ. MiniSEED files outside of the station information period will be deleted!\n",
      "[2022-06-13 02:49:47,705] - obspy.clients.fdsn.mass_downloader - WARNING: Station information could not be downloaded for NZ.MWZ.10.HHZ. MiniSEED files outside of the station information period will be deleted!\n",
      "[2022-06-13 02:49:47,706] - obspy.clients.fdsn.mass_downloader - WARNING: Station information could not be downloaded for NZ.OPRZ.10.HHZ. MiniSEED files outside of the station information period will be deleted!\n",
      "[2022-06-13 02:49:47,706] - obspy.clients.fdsn.mass_downloader - WARNING: Station information could not be downloaded for NZ.RPZ.10.HHZ. MiniSEED files outside of the station information period will be deleted!\n",
      "[2022-06-13 02:49:50,888] - obspy.clients.fdsn.mass_downloader - WARNING: Station information could not be downloaded for NZ.DCZ.10.HHZ. MiniSEED files outside of the station information period will be deleted!\n",
      "[2022-06-13 02:49:50,985] - obspy.clients.fdsn.mass_downloader - WARNING: Station information could not be downloaded for NZ.MWZ.10.HHZ. MiniSEED files outside of the station information period will be deleted!\n"
     ]
    },
    {
     "name": "stdout",
     "output_type": "stream",
     "text": [
      "100 threads took 35.4 seconds\n"
     ]
    },
    {
     "name": "stderr",
     "output_type": "stream",
     "text": [
      "[2022-06-13 02:50:11,849] - obspy.clients.fdsn.mass_downloader - WARNING: Station information could not be downloaded for NZ.DCZ.10.HHZ. MiniSEED files outside of the station information period will be deleted!\n",
      "[2022-06-13 02:50:11,850] - obspy.clients.fdsn.mass_downloader - WARNING: Station information could not be downloaded for NZ.MWZ.10.HHZ. MiniSEED files outside of the station information period will be deleted!\n",
      "[2022-06-13 02:50:11,851] - obspy.clients.fdsn.mass_downloader - WARNING: Station information could not be downloaded for NZ.OPRZ.10.HHZ. MiniSEED files outside of the station information period will be deleted!\n",
      "[2022-06-13 02:50:11,851] - obspy.clients.fdsn.mass_downloader - WARNING: Station information could not be downloaded for NZ.WVZ.10.HHZ. MiniSEED files outside of the station information period will be deleted!\n",
      "[2022-06-13 02:50:12,449] - obspy.clients.fdsn.mass_downloader - WARNING: Station information could not be downloaded for NZ.DCZ.10.HHZ. MiniSEED files outside of the station information period will be deleted!\n",
      "[2022-06-13 02:50:12,450] - obspy.clients.fdsn.mass_downloader - WARNING: Station information could not be downloaded for NZ.URZ.10.HHZ. MiniSEED files outside of the station information period will be deleted!\n",
      "[2022-06-13 02:50:13,018] - obspy.clients.fdsn.mass_downloader - WARNING: Station information could not be downloaded for NZ.DCZ.10.HHZ. MiniSEED files outside of the station information period will be deleted!\n",
      "[2022-06-13 02:50:15,081] - obspy.clients.fdsn.mass_downloader - WARNING: Station information could not be downloaded for NZ.DCZ.10.HHZ. MiniSEED files outside of the station information period will be deleted!\n",
      "[2022-06-13 02:50:15,081] - obspy.clients.fdsn.mass_downloader - WARNING: Station information could not be downloaded for NZ.MWZ.10.HHZ. MiniSEED files outside of the station information period will be deleted!\n",
      "[2022-06-13 02:50:15,082] - obspy.clients.fdsn.mass_downloader - WARNING: Station information could not be downloaded for NZ.OPRZ.10.HHZ. MiniSEED files outside of the station information period will be deleted!\n",
      "[2022-06-13 02:50:15,083] - obspy.clients.fdsn.mass_downloader - WARNING: Station information could not be downloaded for NZ.RPZ.10.HHZ. MiniSEED files outside of the station information period will be deleted!\n",
      "[2022-06-13 02:50:15,084] - obspy.clients.fdsn.mass_downloader - WARNING: Station information could not be downloaded for NZ.VRZ.10.HHZ. MiniSEED files outside of the station information period will be deleted!\n",
      "[2022-06-13 02:50:15,206] - obspy.clients.fdsn.mass_downloader - WARNING: Station information could not be downloaded for NZ.WVZ.10.HHZ. MiniSEED files outside of the station information period will be deleted!\n",
      "[2022-06-13 02:50:21,300] - obspy.clients.fdsn.mass_downloader - WARNING: Station information could not be downloaded for NZ.RPZ.10.HHZ. MiniSEED files outside of the station information period will be deleted!\n",
      "[2022-06-13 02:50:22,009] - obspy.clients.fdsn.mass_downloader - WARNING: Station information could not be downloaded for NZ.VRZ.10.HHZ. MiniSEED files outside of the station information period will be deleted!\n",
      "[2022-06-13 02:50:22,864] - obspy.clients.fdsn.mass_downloader - WARNING: Station information could not be downloaded for NZ.VRZ.10.HHZ. MiniSEED files outside of the station information period will be deleted!\n",
      "[2022-06-13 02:50:22,865] - obspy.clients.fdsn.mass_downloader - WARNING: Station information could not be downloaded for NZ.WVZ.10.HHZ. MiniSEED files outside of the station information period will be deleted!\n",
      "[2022-06-13 02:50:24,174] - obspy.clients.fdsn.mass_downloader - WARNING: Station information could not be downloaded for NZ.DCZ.10.HHZ. MiniSEED files outside of the station information period will be deleted!\n",
      "[2022-06-13 02:50:24,174] - obspy.clients.fdsn.mass_downloader - WARNING: Station information could not be downloaded for NZ.URZ.10.HHZ. MiniSEED files outside of the station information period will be deleted!\n",
      "[2022-06-13 02:50:38,811] - obspy.clients.fdsn.mass_downloader - WARNING: Station information could not be downloaded for NZ.OPRZ.10.HHZ. MiniSEED files outside of the station information period will be deleted!\n"
     ]
    },
    {
     "name": "stdout",
     "output_type": "stream",
     "text": [
      "100 threads took 41.0 seconds\n"
     ]
    },
    {
     "name": "stderr",
     "output_type": "stream",
     "text": [
      "[2022-06-13 02:51:00,032] - obspy.clients.fdsn.mass_downloader - WARNING: Station information could not be downloaded for NZ.RPZ.10.HHZ. MiniSEED files outside of the station information period will be deleted!\n",
      "[2022-06-13 02:51:00,118] - obspy.clients.fdsn.mass_downloader - WARNING: Station information could not be downloaded for NZ.MWZ.10.HHZ. MiniSEED files outside of the station information period will be deleted!\n",
      "[2022-06-13 02:51:00,119] - obspy.clients.fdsn.mass_downloader - WARNING: Station information could not be downloaded for NZ.OPRZ.10.HHZ. MiniSEED files outside of the station information period will be deleted!\n",
      "[2022-06-13 02:51:00,120] - obspy.clients.fdsn.mass_downloader - WARNING: Station information could not be downloaded for NZ.RPZ.10.HHZ. MiniSEED files outside of the station information period will be deleted!\n",
      "[2022-06-13 02:51:00,355] - obspy.clients.fdsn.mass_downloader - WARNING: Station information could not be downloaded for NZ.MWZ.10.HHZ. MiniSEED files outside of the station information period will be deleted!\n",
      "[2022-06-13 02:51:00,357] - obspy.clients.fdsn.mass_downloader - WARNING: Station information could not be downloaded for NZ.OPRZ.10.HHZ. MiniSEED files outside of the station information period will be deleted!\n",
      "[2022-06-13 02:51:00,358] - obspy.clients.fdsn.mass_downloader - WARNING: Station information could not be downloaded for NZ.RPZ.10.HHZ. MiniSEED files outside of the station information period will be deleted!\n",
      "[2022-06-13 02:51:04,322] - obspy.clients.fdsn.mass_downloader - WARNING: Station information could not be downloaded for NZ.RPZ.10.HHZ. MiniSEED files outside of the station information period will be deleted!\n",
      "[2022-06-13 02:51:04,474] - obspy.clients.fdsn.mass_downloader - WARNING: Station information could not be downloaded for NZ.RPZ.10.HHZ. MiniSEED files outside of the station information period will be deleted!\n",
      "[2022-06-13 02:51:05,162] - obspy.clients.fdsn.mass_downloader - WARNING: Station information could not be downloaded for NZ.MWZ.10.HHZ. MiniSEED files outside of the station information period will be deleted!\n",
      "[2022-06-13 02:51:10,054] - obspy.clients.fdsn.mass_downloader - WARNING: Station information could not be downloaded for NZ.DCZ.10.HHZ. MiniSEED files outside of the station information period will be deleted!\n",
      "[2022-06-13 02:51:10,055] - obspy.clients.fdsn.mass_downloader - WARNING: Station information could not be downloaded for NZ.RPZ.10.HHZ. MiniSEED files outside of the station information period will be deleted!\n"
     ]
    },
    {
     "name": "stdout",
     "output_type": "stream",
     "text": [
      "100 threads took 35.1 seconds\n"
     ]
    },
    {
     "name": "stderr",
     "output_type": "stream",
     "text": [
      "[2022-06-13 02:51:25,160] - obspy.clients.fdsn.mass_downloader - WARNING: Station information could not be downloaded for NZ.MWZ.10.HHZ. MiniSEED files outside of the station information period will be deleted!\n",
      "[2022-06-13 02:51:25,162] - obspy.clients.fdsn.mass_downloader - WARNING: Station information could not be downloaded for NZ.OPRZ.10.HHZ. MiniSEED files outside of the station information period will be deleted!\n",
      "[2022-06-13 02:51:25,163] - obspy.clients.fdsn.mass_downloader - WARNING: Station information could not be downloaded for NZ.VRZ.10.HHZ. MiniSEED files outside of the station information period will be deleted!\n",
      "[2022-06-13 02:51:25,383] - obspy.clients.fdsn.mass_downloader - WARNING: Station information could not be downloaded for NZ.RPZ.10.HHZ. MiniSEED files outside of the station information period will be deleted!\n",
      "[2022-06-13 02:51:25,384] - obspy.clients.fdsn.mass_downloader - WARNING: Station information could not be downloaded for NZ.VRZ.10.HHZ. MiniSEED files outside of the station information period will be deleted!\n",
      "[2022-06-13 02:51:25,998] - obspy.clients.fdsn.mass_downloader - WARNING: Station information could not be downloaded for NZ.VRZ.10.HHZ. MiniSEED files outside of the station information period will be deleted!\n",
      "[2022-06-13 02:51:29,394] - obspy.clients.fdsn.mass_downloader - WARNING: Station information could not be downloaded for NZ.MWZ.10.HHZ. MiniSEED files outside of the station information period will be deleted!\n",
      "[2022-06-13 02:51:39,857] - obspy.clients.fdsn.mass_downloader - WARNING: Station information could not be downloaded for NZ.MWZ.10.HHZ. MiniSEED files outside of the station information period will be deleted!\n",
      "[2022-06-13 02:51:39,859] - obspy.clients.fdsn.mass_downloader - WARNING: Station information could not be downloaded for NZ.RPZ.10.HHZ. MiniSEED files outside of the station information period will be deleted!\n",
      "[2022-06-13 02:51:42,324] - obspy.clients.fdsn.mass_downloader - WARNING: Station information could not be downloaded for NZ.WVZ.10.HHZ. MiniSEED files outside of the station information period will be deleted!\n",
      "[2022-06-13 02:51:42,417] - obspy.clients.fdsn.mass_downloader - WARNING: Station information could not be downloaded for NZ.MWZ.10.HHZ. MiniSEED files outside of the station information period will be deleted!\n"
     ]
    },
    {
     "name": "stdout",
     "output_type": "stream",
     "text": [
      "100 threads took 36.5 seconds\n"
     ]
    },
    {
     "name": "stderr",
     "output_type": "stream",
     "text": [
      "[2022-06-13 02:52:02,114] - obspy.clients.fdsn.mass_downloader - WARNING: Station information could not be downloaded for NZ.DCZ.10.HHZ. MiniSEED files outside of the station information period will be deleted!\n",
      "[2022-06-13 02:52:02,115] - obspy.clients.fdsn.mass_downloader - WARNING: Station information could not be downloaded for NZ.RPZ.10.HHZ. MiniSEED files outside of the station information period will be deleted!\n",
      "[2022-06-13 02:52:02,934] - obspy.clients.fdsn.mass_downloader - WARNING: Station information could not be downloaded for NZ.MWZ.10.HHZ. MiniSEED files outside of the station information period will be deleted!\n",
      "[2022-06-13 02:52:02,935] - obspy.clients.fdsn.mass_downloader - WARNING: Station information could not be downloaded for NZ.OPRZ.10.HHZ. MiniSEED files outside of the station information period will be deleted!\n",
      "[2022-06-13 02:52:05,241] - obspy.clients.fdsn.mass_downloader - WARNING: Station information could not be downloaded for NZ.OPRZ.10.HHZ. MiniSEED files outside of the station information period will be deleted!\n",
      "[2022-06-13 02:52:05,437] - obspy.clients.fdsn.mass_downloader - WARNING: Station information could not be downloaded for NZ.VRZ.10.HHZ. MiniSEED files outside of the station information period will be deleted!\n",
      "[2022-06-13 02:52:15,912] - obspy.clients.fdsn.mass_downloader - WARNING: Station information could not be downloaded for NZ.OPRZ.10.HHZ. MiniSEED files outside of the station information period will be deleted!\n",
      "[2022-06-13 02:52:16,313] - obspy.clients.fdsn.mass_downloader - WARNING: Station information could not be downloaded for NZ.OPRZ.10.HHZ. MiniSEED files outside of the station information period will be deleted!\n",
      "[2022-06-13 02:52:16,314] - obspy.clients.fdsn.mass_downloader - WARNING: Station information could not be downloaded for NZ.RPZ.10.HHZ. MiniSEED files outside of the station information period will be deleted!\n",
      "[2022-06-13 02:52:16,315] - obspy.clients.fdsn.mass_downloader - WARNING: Station information could not be downloaded for NZ.VRZ.10.HHZ. MiniSEED files outside of the station information period will be deleted!\n",
      "[2022-06-13 02:52:16,411] - obspy.clients.fdsn.mass_downloader - WARNING: Station information could not be downloaded for NZ.DCZ.10.HHZ. MiniSEED files outside of the station information period will be deleted!\n",
      "[2022-06-13 02:52:16,412] - obspy.clients.fdsn.mass_downloader - WARNING: Station information could not be downloaded for NZ.RPZ.10.HHZ. MiniSEED files outside of the station information period will be deleted!\n",
      "[2022-06-13 02:52:16,504] - obspy.clients.fdsn.mass_downloader - WARNING: Station information could not be downloaded for NZ.VRZ.10.HHZ. MiniSEED files outside of the station information period will be deleted!\n",
      "[2022-06-13 02:52:18,434] - obspy.clients.fdsn.mass_downloader - WARNING: Station information could not be downloaded for NZ.DCZ.10.HHZ. MiniSEED files outside of the station information period will be deleted!\n",
      "[2022-06-13 02:52:18,435] - obspy.clients.fdsn.mass_downloader - WARNING: Station information could not be downloaded for NZ.OPRZ.10.HHZ. MiniSEED files outside of the station information period will be deleted!\n"
     ]
    },
    {
     "name": "stdout",
     "output_type": "stream",
     "text": [
      "100 threads took 32.8 seconds\n",
      "Done!\n"
     ]
    }
   ],
   "source": [
    "async def final_download_threaded(events):\n",
    "    time1 = time.perf_counter()\n",
    "    tasks = []\n",
    "    #print(\"Initiating mass download request.\")\n",
    "    for i, event in events.iterrows():\n",
    "        event_id = event.event_id\n",
    "        if event_id.split(\"/\")[1] in existing_event_files:\n",
    "            continue\n",
    "            \n",
    "        event_time = event['time']\n",
    "        start=event_time - T_event - H_event\n",
    "        end=event_time - H_event\n",
    "        if single: \n",
    "            stations = event['closest_station']\n",
    "        else:\n",
    "            stations = all_station_string\n",
    "        \n",
    "        tasks.append(asyncio.to_thread(mass_data_downloader, start, end, event_id, stations, folder=folder))\n",
    "        \n",
    "    await asyncio.gather(*tasks)\n",
    "    time2 = time.perf_counter()\n",
    "    print(f\"{threads_at_once} threads took {time2-time1:0.1f} seconds\")\n",
    "    \n",
    "#VARIABLES FOR DOWNLOAD\n",
    "\n",
    "T_event = 30\n",
    "if folder == \"normal\": H_event = 1000\n",
    "else: H_event = 10 #10\n",
    "threads_at_once = 100\n",
    "print(folder, H_event)\n",
    "\n",
    "events_filtered = events\n",
    "if station_to_get is not None and single:\n",
    "    events_filtered[events_filtered['closest_station'] == station_to_get]\n",
    "events_filtered = events_filtered[0:] #30000 $23000\n",
    "\n",
    "for event_sublist in [events_filtered[x:x+threads_at_once] for x in range(0, len(events_filtered), threads_at_once)]:\n",
    "    await final_download_threaded(event_sublist)\n",
    "print(\"Done!\")"
   ]
  },
  {
   "cell_type": "code",
   "execution_count": null,
   "id": "e1d3d497",
   "metadata": {},
   "outputs": [],
   "source": [
    "for i in pd.interval_range(start=100, end=501, freq=30, closed='right').to_tuples():\n",
    "    print(i)"
   ]
  },
  {
   "cell_type": "code",
   "execution_count": 38,
   "id": "798ad8a5-c196-4527-a8d4-8fdae9132e39",
   "metadata": {},
   "outputs": [
    {
     "data": {
      "text/plain": [
       "210.958631"
      ]
     },
     "execution_count": 38,
     "metadata": {},
     "output_type": "execute_result"
    }
   ],
   "source": [
    "def pairwise(iterable):\n",
    "    \"s -> (s0,s1), (s1,s2), (s2, s3), ...\"\n",
    "    a, b = tee(iterable)\n",
    "    next(b, None)\n",
    "    return zip(a, b)\n",
    "min([abs(x-y) for x, y in pairwise(events['time'])])"
   ]
  },
  {
   "cell_type": "code",
   "execution_count": null,
   "id": "28febef4-ada6-41a5-8fa0-4a3cd85e5b06",
   "metadata": {},
   "outputs": [],
   "source": []
  }
 ],
 "metadata": {
  "kernelspec": {
   "display_name": "myenv",
   "language": "python",
   "name": "myenv"
  },
  "language_info": {
   "codemirror_mode": {
    "name": "ipython",
    "version": 3
   },
   "file_extension": ".py",
   "mimetype": "text/x-python",
   "name": "python",
   "nbconvert_exporter": "python",
   "pygments_lexer": "ipython3",
   "version": "3.9.5"
  }
 },
 "nbformat": 4,
 "nbformat_minor": 5
}
