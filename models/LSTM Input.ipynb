{
 "cells": [
  {
   "cell_type": "code",
   "execution_count": 39,
   "id": "788cf50a",
   "metadata": {},
   "outputs": [],
   "source": [
    "import matplotlib.pyplot as plt\n",
    "import pandas as pd\n",
    "import numpy as np\n",
    "import pickle\n",
    "import os\n",
    "import random\n",
    "\n",
    "from obspy import read"
   ]
  },
  {
   "cell_type": "code",
   "execution_count": 40,
   "id": "7d583e29",
   "metadata": {
    "tags": []
   },
   "outputs": [
    {
     "data": {
      "text/plain": [
       "(301,)"
      ]
     },
     "execution_count": 40,
     "metadata": {},
     "output_type": "execute_result"
    }
   ],
   "source": [
    "signal_samples = 301# 301\n",
    "station_count = 1#38\n",
    "time_arr = np.linspace(0.0, 30.0, signal_samples)\n",
    "time_arr.shape"
   ]
  },
  {
   "cell_type": "code",
   "execution_count": 41,
   "id": "a76e3e27",
   "metadata": {},
   "outputs": [],
   "source": [
    "# plot wave normal\n",
    "def plot_wave_processed(data):\n",
    "    fig = plt.figure(figsize=(15, 4))\n",
    "    ax = fig.add_subplot(1, 1, 1)\n",
    "    cmap = plt.get_cmap('gnuplot')\n",
    "    colors = [cmap(i) for i in np.linspace(0, 1, len(data))]\n",
    "    i = 0\n",
    "    for s in data:\n",
    "        ax.plot(time_arr, s, color=colors[i])\n",
    "        i+=1\n",
    "    ax.tick_params(axis='both', labelsize=15)\n",
    "    ax.tick_params(axis='both', labelsize=15)\n",
    "    plt.ylabel('HHZ Velocity', fontsize=20)\n",
    "    plt.xlabel('Timestep', fontsize=20);\n",
    "    plt.grid()\n",
    "    plt.show()\n",
    "    del fig\n",
    "    del ax"
   ]
  },
  {
   "cell_type": "code",
   "execution_count": null,
   "id": "c1225f52",
   "metadata": {},
   "outputs": [],
   "source": []
  },
  {
   "cell_type": "code",
   "execution_count": 42,
   "id": "970ed3e0",
   "metadata": {},
   "outputs": [
    {
     "data": {
      "text/plain": [
       "(12447, 1, 301)"
      ]
     },
     "execution_count": 42,
     "metadata": {},
     "output_type": "execute_result"
    }
   ],
   "source": [
    "# READING NORMAL BEHAVIOUR\n",
    "pkl_file = open('../datasets/normal/waveforms/100hz/normal_seismic_100hz.pkl', 'rb')\n",
    "normal_data = pickle.load(pkl_file)\n",
    "pkl_file.close()\n",
    "(len(normal_data), len(normal_data[0]), len(normal_data[0][0]))"
   ]
  },
  {
   "cell_type": "code",
   "execution_count": 43,
   "id": "eae9bcde",
   "metadata": {},
   "outputs": [
    {
     "data": {
      "text/plain": [
       "(1403, 1, 301)"
      ]
     },
     "execution_count": 43,
     "metadata": {},
     "output_type": "execute_result"
    }
   ],
   "source": [
    "# READING activbe BEHAVIOUR\n",
    "pkl_file = open('../datasets/active/waveforms/100hz/normal_seismic_100hz.pkl', 'rb')\n",
    "earthquakes_data = pickle.load(pkl_file)\n",
    "pkl_file.close()\n",
    "#earthquakes_data = earthquakes_data[0:3000]\n",
    "(len(earthquakes_data), len(earthquakes_data[0]), len(earthquakes_data[0][0]))"
   ]
  },
  {
   "cell_type": "code",
   "execution_count": 44,
   "id": "4f5473a7-3aea-4caf-b74a-2515a07c70fa",
   "metadata": {},
   "outputs": [
    {
     "ename": "IndexError",
     "evalue": "index 10 is out of bounds for axis 0 with size 1",
     "output_type": "error",
     "traceback": [
      "\u001b[1;31m---------------------------------------------------------------------------\u001b[0m",
      "\u001b[1;31mIndexError\u001b[0m                                Traceback (most recent call last)",
      "Input \u001b[1;32mIn [44]\u001b[0m, in \u001b[0;36m<cell line: 1>\u001b[1;34m()\u001b[0m\n\u001b[1;32m----> 1\u001b[0m plot_wave_processed([earthquakes_data[\u001b[38;5;241m0\u001b[39m][\u001b[38;5;241m0\u001b[39m], \u001b[43mnormal_data\u001b[49m\u001b[43m[\u001b[49m\u001b[38;5;241;43m0\u001b[39;49m\u001b[43m]\u001b[49m\u001b[43m[\u001b[49m\u001b[38;5;241;43m10\u001b[39;49m\u001b[43m]\u001b[49m, earthquakes_data[\u001b[38;5;241m13\u001b[39m][\u001b[38;5;241m0\u001b[39m]]) \u001b[38;5;66;03m#, normal_data[0][0]\u001b[39;00m\n\u001b[0;32m      2\u001b[0m plot_wave_processed(earthquakes_data[\u001b[38;5;241m15\u001b[39m])\n",
      "\u001b[1;31mIndexError\u001b[0m: index 10 is out of bounds for axis 0 with size 1"
     ]
    }
   ],
   "source": [
    "plot_wave_processed([earthquakes_data[0][0], normal_data[0][10], earthquakes_data[13][0]]) #, normal_data[0][0]\n",
    "plot_wave_processed(earthquakes_data[15])"
   ]
  },
  {
   "cell_type": "code",
   "execution_count": 45,
   "id": "a19b5c19",
   "metadata": {},
   "outputs": [],
   "source": [
    "#def filter_data(data):\n",
    "#    # check for possible nans and incomplete station data\n",
    "#    \n",
    "#    for i in range(0, len(data)):\n",
    "#        stations = data[i]\n",
    "#        if len(stations) != station_count:\n",
    "#            \n",
    "#        for d in range(0, data[i]):\n",
    "#            print()\n",
    "\n",
    "def check_nans_incomplete_stations(data):\n",
    "    \n",
    "    # check for possible nans and incomplete station data\n",
    "    nan_arr = []\n",
    "    not_58_stations = []\n",
    "    not_61_samples = []\n",
    "\n",
    "    for i in range(0, len(data)):\n",
    "        \n",
    "        try:\n",
    "            # stations != 58 per event\n",
    "            if len(data[i]) != station_count:\n",
    "                not_58_stations.append(i)\n",
    "                \n",
    "            for j in range(0, station_count):\n",
    "                \n",
    "                try:\n",
    "                    if len(data[i][j]) != signal_samples:\n",
    "                        not_61_samples.append(i)\n",
    "                # a station has nan value(s)\n",
    "                    \n",
    "                    is_nan_event = np.isnan(np.sum(data[i][j]))\n",
    "                    if is_nan_event:\n",
    "                        nan_arr.append(i)\n",
    "                    \n",
    "                except:\n",
    "                    print(len(data[i]))\n",
    "                    not_61_samples.append(i)\n",
    "                \n",
    "        except:\n",
    "            print(len(data[i]))\n",
    "            not_58_stations.append(i)\n",
    "            \n",
    "        \n",
    "                \n",
    "    return nan_arr, not_58_stations, not_61_samples\n",
    "\n",
    "# verify that we only have one shape for stations and samples\n",
    "def verify_unique_shapes(data):\n",
    "    stations_shape = [station_count]\n",
    "    samples_shape = [signal_samples]\n",
    "    \n",
    "    for i in data:\n",
    "        station_shape = len(i)\n",
    "    \n",
    "        if station_shape not in stations_shape:\n",
    "            stations_shape.append(station_shape)\n",
    "            \n",
    "        for j in i:\n",
    "            sample_shape = len(j)\n",
    "            if sample_shape not in samples_shape:\n",
    "                samples_shape.append(sample_shape)\n",
    "    \n",
    "    return stations_shape, samples_shape"
   ]
  },
  {
   "cell_type": "code",
   "execution_count": null,
   "id": "3f36bdc7",
   "metadata": {},
   "outputs": [],
   "source": []
  },
  {
   "cell_type": "code",
   "execution_count": null,
   "id": "7f8557e0",
   "metadata": {},
   "outputs": [],
   "source": []
  },
  {
   "cell_type": "code",
   "execution_count": 46,
   "id": "a73afda4",
   "metadata": {
    "tags": []
   },
   "outputs": [],
   "source": [
    "def remove_incomplete(data, processed):\n",
    "    nan_arr_e, not_58_stations_e, not_61_samples_e = check_nans_incomplete_stations(data)\n",
    "    print(len(nan_arr_e), len(not_58_stations_e), len(not_61_samples_e))\n",
    "    remove_indices = [y for x in [nan_arr_e, not_58_stations_e] for y in x]\n",
    "    remove_indices = [y for x in [remove_indices, not_61_samples_e] for y in x]\n",
    "    remove_indices = set(remove_indices)\n",
    "    remove_indices = list(remove_indices)\n",
    "    processed = [i for j, i in enumerate(processed) if j not in remove_indices]\n",
    "    return processed"
   ]
  },
  {
   "cell_type": "code",
   "execution_count": 47,
   "id": "ad709e87",
   "metadata": {},
   "outputs": [
    {
     "name": "stdout",
     "output_type": "stream",
     "text": [
      "0 0 0\n",
      "0 0 0\n"
     ]
    }
   ],
   "source": [
    "earthquakes_data_processed = earthquakes_data\n",
    "normal_data_processed = normal_data\n",
    "earthquakes_data_processed = remove_incomplete(earthquakes_data, earthquakes_data_processed)\n",
    "normal_data_processed = remove_incomplete(normal_data, normal_data_processed)\n",
    "#filter_data(earthquakes_data)"
   ]
  },
  {
   "cell_type": "code",
   "execution_count": 48,
   "id": "2254fa90",
   "metadata": {},
   "outputs": [
    {
     "data": {
      "text/plain": [
       "1403"
      ]
     },
     "execution_count": 48,
     "metadata": {},
     "output_type": "execute_result"
    }
   ],
   "source": [
    "len(earthquakes_data_processed)"
   ]
  },
  {
   "cell_type": "code",
   "execution_count": 49,
   "id": "13dec2d1",
   "metadata": {},
   "outputs": [],
   "source": [
    "nan_arr_e, not_58_stations_e, not_61_samples_e = check_nans_incomplete_stations(earthquakes_data_processed)"
   ]
  },
  {
   "cell_type": "code",
   "execution_count": 50,
   "id": "48c2b81e",
   "metadata": {},
   "outputs": [
    {
     "data": {
      "text/plain": [
       "(0, 0, 0)"
      ]
     },
     "execution_count": 50,
     "metadata": {},
     "output_type": "execute_result"
    }
   ],
   "source": [
    "len(nan_arr_e), len(not_58_stations_e), len(not_61_samples_e)"
   ]
  },
  {
   "cell_type": "code",
   "execution_count": 51,
   "id": "edef25aa",
   "metadata": {
    "tags": []
   },
   "outputs": [
    {
     "data": {
      "text/plain": [
       "([1], [301])"
      ]
     },
     "execution_count": 51,
     "metadata": {},
     "output_type": "execute_result"
    }
   ],
   "source": [
    "verify_unique_shapes(earthquakes_data_processed)\n",
    "#for event in earthquakes_data_processed:\n",
    "#    if event.shape != (station_count, signal_samples):\n",
    "#        print(event.shape)"
   ]
  },
  {
   "cell_type": "code",
   "execution_count": 52,
   "id": "e4beddca",
   "metadata": {},
   "outputs": [
    {
     "data": {
      "text/plain": [
       "(1403, 1, 301)"
      ]
     },
     "execution_count": 52,
     "metadata": {},
     "output_type": "execute_result"
    }
   ],
   "source": [
    "(len(earthquakes_data_processed), len(earthquakes_data_processed[0]), len(earthquakes_data_processed[0][0]))"
   ]
  },
  {
   "cell_type": "code",
   "execution_count": null,
   "id": "88075f0e",
   "metadata": {},
   "outputs": [],
   "source": []
  },
  {
   "cell_type": "code",
   "execution_count": 53,
   "id": "8da3ce47",
   "metadata": {},
   "outputs": [
    {
     "data": {
      "text/plain": [
       "1403"
      ]
     },
     "execution_count": 53,
     "metadata": {},
     "output_type": "execute_result"
    }
   ],
   "source": [
    "# same length as normal\n",
    "same = min(len(earthquakes_data_processed), len(normal_data_processed))\n",
    "earthquakes_data_processed = earthquakes_data_processed[0:same]\n",
    "normal_data_processed = normal_data_processed[0:same]\n",
    "same"
   ]
  },
  {
   "cell_type": "code",
   "execution_count": 54,
   "id": "b69c26a3",
   "metadata": {},
   "outputs": [],
   "source": [
    "# turns data to lstm input for training\n",
    "def to_lstm_input(read_file, label):\n",
    "    lstm_event_arr = []\n",
    "    for i, r in enumerate(read_file):\n",
    "        arr = read_file[i]\n",
    "        arr_t = np.transpose(arr)\n",
    "        try:\n",
    "            arr_t = arr_t.reshape(signal_samples, station_count)\n",
    "        except:\n",
    "            continue\n",
    "        lstm_event_arr.append({label: arr_t})\n",
    "    lstm_event_arr = np.array(lstm_event_arr)\n",
    "    return lstm_event_arr"
   ]
  },
  {
   "cell_type": "code",
   "execution_count": 55,
   "id": "a9b304b3",
   "metadata": {},
   "outputs": [],
   "source": [
    "earthquakes_data_processed = np.array(earthquakes_data_processed)\n",
    "normal_data_processed = np.array(normal_data_processed)"
   ]
  },
  {
   "cell_type": "code",
   "execution_count": 56,
   "id": "264b9321",
   "metadata": {},
   "outputs": [
    {
     "data": {
      "text/plain": [
       "(1403, 1, 301)"
      ]
     },
     "execution_count": 56,
     "metadata": {},
     "output_type": "execute_result"
    }
   ],
   "source": [
    "earthquakes_data_processed.shape"
   ]
  },
  {
   "cell_type": "code",
   "execution_count": 57,
   "id": "67ea5cbb",
   "metadata": {},
   "outputs": [],
   "source": [
    "# earthquakes == 1\n",
    "lstm_input_earthquakes = to_lstm_input(earthquakes_data_processed, '1')"
   ]
  },
  {
   "cell_type": "code",
   "execution_count": 58,
   "id": "80acd2a8",
   "metadata": {},
   "outputs": [],
   "source": [
    "# normal == 0\n",
    "lstm_input_normal = to_lstm_input(normal_data_processed,'0')"
   ]
  },
  {
   "cell_type": "code",
   "execution_count": 59,
   "id": "25235073",
   "metadata": {},
   "outputs": [
    {
     "data": {
      "text/plain": [
       "((1403,), (1403,))"
      ]
     },
     "execution_count": 59,
     "metadata": {},
     "output_type": "execute_result"
    }
   ],
   "source": [
    "lstm_input_earthquakes.shape, lstm_input_normal.shape"
   ]
  },
  {
   "cell_type": "code",
   "execution_count": 60,
   "id": "21b53fa7",
   "metadata": {},
   "outputs": [],
   "source": [
    "# shuffle the data set, while maintaining order\n",
    "\n",
    "def shuffle(test_list1, test_list2):\n",
    "    c1 = 0\n",
    "    c2 = 0\n",
    "    out = []\n",
    "    n = len(test_list1) + len(test_list2)\n",
    "    for i in range(n):\n",
    "        diff = 10 * (c1 - c2)/n\n",
    "        ledge = max(min(0.5 + diff, 1), 0)\n",
    "        if random.random() > ledge and c1 < len(test_list1):\n",
    "            out.append(test_list1[c1])\n",
    "            c1+=1\n",
    "        elif c2 < len(test_list2):\n",
    "            out.append(test_list2[c2])\n",
    "            c2+=1\n",
    "    print(c1/c2)\n",
    "    out = np.concatenate((out, test_list1[c1:]))\n",
    "    out = np.concatenate((out, test_list2[c2:]))\n",
    "    return np.array(out)\n",
    "        \n",
    "#lstm_input = shuffle(lstm_input_earthquakes, lstm_input_normal)\n",
    "\n",
    "#lstm_input = np.concatenate((lstm_input_earthquakes, lstm_input_normal))\n",
    "#np.random.shuffle(lstm_input)"
   ]
  },
  {
   "cell_type": "code",
   "execution_count": 61,
   "id": "7f9bc568-a1ce-45a2-baf7-401b4c858842",
   "metadata": {},
   "outputs": [
    {
     "ename": "NameError",
     "evalue": "name 'lstm_input' is not defined",
     "output_type": "error",
     "traceback": [
      "\u001b[1;31m---------------------------------------------------------------------------\u001b[0m",
      "\u001b[1;31mNameError\u001b[0m                                 Traceback (most recent call last)",
      "Input \u001b[1;32mIn [61]\u001b[0m, in \u001b[0;36m<cell line: 2>\u001b[1;34m()\u001b[0m\n\u001b[0;32m      1\u001b[0m \u001b[38;5;66;03m#lstm_input = lstm_input[0:4000]\u001b[39;00m\n\u001b[1;32m----> 2\u001b[0m \u001b[43mlstm_input\u001b[49m\u001b[38;5;241m.\u001b[39mshape\n",
      "\u001b[1;31mNameError\u001b[0m: name 'lstm_input' is not defined"
     ]
    }
   ],
   "source": [
    "#lstm_input = lstm_input[0:4000]\n",
    "lstm_input.shape"
   ]
  },
  {
   "cell_type": "code",
   "execution_count": 62,
   "id": "86aab5fa",
   "metadata": {},
   "outputs": [
    {
     "name": "stdout",
     "output_type": "stream",
     "text": [
      "281 197 225\n",
      "281 197 225\n",
      "281 197 225\n",
      "280 196 224\n",
      "280 196 224\n",
      "281 197 225\n",
      "281 197 225\n",
      "281 197 225\n",
      "280 196 224\n",
      "280 196 224\n"
     ]
    },
    {
     "data": {
      "text/plain": [
       "(1966, 280, 560)"
      ]
     },
     "execution_count": 62,
     "metadata": {},
     "output_type": "execute_result"
    }
   ],
   "source": [
    "train_ratio = 0.7\n",
    "valid_ratio = 0.1\n",
    "def regular_split(lstm_input):\n",
    "    #(70 training - 20 validation - 10 test split)\n",
    "    full_n = len(lstm_input)\n",
    "    train_n = round(full_n*train_ratio)\n",
    "    valid_n = train_n + round(full_n*valid_ratio)\n",
    "    \n",
    "    training_set = lstm_input[:train_n]\n",
    "    validation_set = lstm_input[train_n:valid_n]\n",
    "    test_set = lstm_input[valid_n:]\n",
    "    return training_set, validation_set, test_set\n",
    "def k_fold(lstm_input, k):\n",
    "    training_set = []\n",
    "    validation_set = []\n",
    "    test_set = []\n",
    "    splits = np.array_split(lstm_input, k)\n",
    "    for split in splits:\n",
    "        full_n = len(split)\n",
    "        train_n = round(full_n*train_ratio)\n",
    "        valid_n = train_n + round(full_n*valid_ratio)\n",
    "        print(full_n, train_n, valid_n)\n",
    "        training_set.append(split[:train_n])\n",
    "        validation_set.append(split[train_n:valid_n])\n",
    "        test_set.append(split[valid_n:])\n",
    "    return np.concatenate(training_set), np.concatenate(validation_set), np.concatenate(test_set)\n",
    "\n",
    "#from sktime.forecasting.model_selection import SlidingWindowSplitter\n",
    "#cv = SlidingWindowSplitter(window_length=50, fh=[1, 2, 3])\n",
    "#\n",
    "#n_splits = cv.get_n_splits(lstm_input)\n",
    "#print(n_splits)\n",
    "\n",
    "    \n",
    "earthquake_sets = k_fold(lstm_input_earthquakes, 5)\n",
    "normal_sets = k_fold(lstm_input_normal, 5)\n",
    "#earthquake_sets = regular_split(lstm_input_earthquakes)\n",
    "#normal_sets = regular_split(lstm_input_normal)\n",
    "training_set, validation_set, test_set = (np.concatenate((earthquake_sets[0], normal_sets[0])), np.concatenate((earthquake_sets[1], normal_sets[1])), np.concatenate((earthquake_sets[2], normal_sets[2])))\n",
    "np.random.shuffle(training_set)\n",
    "np.random.shuffle(validation_set)\n",
    "np.random.shuffle(test_set)\n",
    "len(training_set), len(validation_set), len(test_set)"
   ]
  },
  {
   "cell_type": "code",
   "execution_count": null,
   "id": "47cf8d3a",
   "metadata": {},
   "outputs": [],
   "source": []
  },
  {
   "cell_type": "code",
   "execution_count": 63,
   "id": "44f93c7f",
   "metadata": {
    "tags": []
   },
   "outputs": [],
   "source": [
    "x_train = []\n",
    "y_train = []\n",
    "for i, r in enumerate(training_set):\n",
    "    arr = training_set[i]\n",
    "    key = list(training_set[i].keys())[0]\n",
    "    if key == '1':\n",
    "        y_train.append(1)\n",
    "    else:\n",
    "        y_train.append(0)\n",
    "    x_train.append(arr[key])\n",
    "    \n",
    "x_train = np.array(x_train)\n",
    "y_train = np.array(y_train)"
   ]
  },
  {
   "cell_type": "code",
   "execution_count": 64,
   "id": "4d1c5e4e",
   "metadata": {},
   "outputs": [
    {
     "data": {
      "text/plain": [
       "((1966, 301, 1), (1966,))"
      ]
     },
     "execution_count": 64,
     "metadata": {},
     "output_type": "execute_result"
    }
   ],
   "source": [
    "x_train.shape, y_train.shape"
   ]
  },
  {
   "cell_type": "code",
   "execution_count": 65,
   "id": "f89365e2",
   "metadata": {},
   "outputs": [
    {
     "data": {
      "text/plain": [
       "'C:\\\\Programming\\\\Earthquake\\\\models'"
      ]
     },
     "execution_count": 65,
     "metadata": {},
     "output_type": "execute_result"
    }
   ],
   "source": [
    "#os.chdir('../100HZ')\n",
    "os.getcwd()"
   ]
  },
  {
   "cell_type": "code",
   "execution_count": 66,
   "id": "573b9542",
   "metadata": {},
   "outputs": [],
   "source": [
    "pickle.dump(x_train, open(\"../datasets/100hz/x_train.pkl\", \"wb\"))\n",
    "pickle.dump(y_train, open(\"../datasets/100hz/y_train.pkl\", \"wb\"))"
   ]
  },
  {
   "cell_type": "code",
   "execution_count": 67,
   "id": "47c339e0",
   "metadata": {},
   "outputs": [
    {
     "data": {
      "text/plain": [
       "(983, 983, 0.5, 0.5)"
      ]
     },
     "execution_count": 67,
     "metadata": {},
     "output_type": "execute_result"
    }
   ],
   "source": [
    "len(np.where(y_train == 0)[0]), len(np.where(y_train == 1)[0]), len(np.where(y_train == 0)[0]) / len(y_train), len(np.where(y_train == 1)[0]) / len(y_train)"
   ]
  },
  {
   "cell_type": "code",
   "execution_count": 68,
   "id": "2163d531",
   "metadata": {},
   "outputs": [],
   "source": [
    "x_validation = []\n",
    "y_validation = []\n",
    "for i, r in enumerate(validation_set):\n",
    "    arr = validation_set[i]\n",
    "    key = list(validation_set[i].keys())[0]\n",
    "    if key == '1':\n",
    "        y_validation.append(1)\n",
    "    else:\n",
    "        y_validation.append(0)\n",
    "    \n",
    "    x_validation.append(arr[key])\n",
    "    \n",
    "x_validation = np.array(x_validation)\n",
    "y_validation = np.array(y_validation)"
   ]
  },
  {
   "cell_type": "code",
   "execution_count": 69,
   "id": "eb5e55b4",
   "metadata": {},
   "outputs": [
    {
     "data": {
      "text/plain": [
       "((280, 301, 1), (280,))"
      ]
     },
     "execution_count": 69,
     "metadata": {},
     "output_type": "execute_result"
    }
   ],
   "source": [
    "x_validation.shape, y_validation.shape"
   ]
  },
  {
   "cell_type": "code",
   "execution_count": 70,
   "id": "2c75edc8",
   "metadata": {},
   "outputs": [
    {
     "data": {
      "text/plain": [
       "(140, 140, 0.5, 0.5)"
      ]
     },
     "execution_count": 70,
     "metadata": {},
     "output_type": "execute_result"
    }
   ],
   "source": [
    "len(np.where(y_validation == 0)[0]), len(np.where(y_validation == 1)[0]), len(np.where(y_validation == 0)[0]) / len(y_validation), len(np.where(y_validation == 1)[0]) / len(y_validation)\n"
   ]
  },
  {
   "cell_type": "code",
   "execution_count": 71,
   "id": "0d5e2d6e",
   "metadata": {},
   "outputs": [],
   "source": [
    "pickle.dump(x_validation, open(\"../datasets/100hz/x_validation.pkl\", \"wb\"))\n",
    "pickle.dump(y_validation, open(\"../datasets/100hz/y_validation.pkl\", \"wb\"))"
   ]
  },
  {
   "cell_type": "code",
   "execution_count": null,
   "id": "c72b2711",
   "metadata": {
    "tags": []
   },
   "outputs": [],
   "source": []
  },
  {
   "cell_type": "code",
   "execution_count": 72,
   "id": "661fff74",
   "metadata": {},
   "outputs": [],
   "source": [
    "x_test = []\n",
    "y_test = []\n",
    "for i, r in enumerate(test_set):\n",
    "    arr = test_set[i]\n",
    "    key = list(test_set[i].keys())[0]\n",
    "    if key == '1':\n",
    "        y_test.append(1)\n",
    "    else:\n",
    "        y_test.append(0)\n",
    "    \n",
    "    x_test.append(arr[key])\n",
    "    \n",
    "x_test = np.array(x_test)\n",
    "y_test = np.array(y_test)"
   ]
  },
  {
   "cell_type": "code",
   "execution_count": 73,
   "id": "c1c4c732",
   "metadata": {},
   "outputs": [
    {
     "data": {
      "text/plain": [
       "((560, 301, 1), (560,))"
      ]
     },
     "execution_count": 73,
     "metadata": {},
     "output_type": "execute_result"
    }
   ],
   "source": [
    "x_test.shape, y_test.shape"
   ]
  },
  {
   "cell_type": "code",
   "execution_count": 74,
   "id": "6fa666cc",
   "metadata": {},
   "outputs": [
    {
     "data": {
      "text/plain": [
       "(280, 280, 0.5, 0.5)"
      ]
     },
     "execution_count": 74,
     "metadata": {},
     "output_type": "execute_result"
    }
   ],
   "source": [
    "len(np.where(y_test == 0)[0]), len(np.where(y_test == 1)[0]), len(np.where(y_test == 0)[0]) / len(y_test) , len(np.where(y_test == 1)[0]) / len(y_test)"
   ]
  },
  {
   "cell_type": "code",
   "execution_count": 75,
   "id": "4940068b",
   "metadata": {},
   "outputs": [],
   "source": [
    "pickle.dump(x_test, open(\"../datasets/100hz/x_test.pkl\", \"wb\"))\n",
    "pickle.dump(y_test, open(\"../datasets/100hz/y_test.pkl\", \"wb\"))"
   ]
  },
  {
   "cell_type": "code",
   "execution_count": null,
   "id": "9fe8a564",
   "metadata": {},
   "outputs": [],
   "source": []
  },
  {
   "cell_type": "code",
   "execution_count": 76,
   "id": "88ce7535",
   "metadata": {},
   "outputs": [
    {
     "data": {
      "text/plain": [
       "([], [])"
      ]
     },
     "execution_count": 76,
     "metadata": {},
     "output_type": "execute_result"
    },
    {
     "data": {
      "image/png": "[encoded data removed]",
      "text/plain": [
       "<Figure size 720x360 with 1 Axes>"
      ]
     },
     "metadata": {
      "needs_background": "light"
     },
     "output_type": "display_data"
    }
   ],
   "source": [
    "data = [[len(np.where(y_train == 0)[0]) / len(y_train),\n",
    "        len(np.where(y_validation == 0)[0]) / len(y_validation),\n",
    "        len(np.where(y_test == 0)[0]) / len(y_test)],\n",
    "        \n",
    "       [len(np.where(y_train == 1)[0]) / len(y_train),\n",
    "        len(np.where(y_validation == 1)[0]) / len(y_validation),\n",
    "        len(np.where(y_test == 1)[0]) / len(y_test)]]\n",
    "\n",
    "X = np.arange(3)\n",
    "fig = plt.figure(figsize=(10, 5))\n",
    "ax = fig.add_axes([0,0,1,1])\n",
    "ax.bar(X + 0.00, data[0], color = 'g', width = 0.25)\n",
    "ax.bar(X + 0.25, data[1], color = 'r', width = 0.25)\n",
    "colors = {'normal behaviour':'green', 'earthquake':'red'}  \n",
    "labels = list(colors.keys())\n",
    "handles = [plt.Rectangle((0,0),1,1, color=colors[label]) for label in labels]\n",
    "plt.legend(handles, labels)\n",
    "plt.title(\"The Class Ratio Between Different Datasets\", fontsize=16)\n",
    "plt.ylabel('Percentage (%)', fontsize=16)\n",
    "ax.tick_params(axis='both', which='major', labelsize=12)\n",
    "ax.tick_params(axis='both', which='minor', labelsize=12)\n",
    "plt.xticks([])"
   ]
  },
  {
   "cell_type": "code",
   "execution_count": null,
   "id": "fb3e9c48",
   "metadata": {},
   "outputs": [],
   "source": []
  },
  {
   "cell_type": "code",
   "execution_count": null,
   "id": "1f832e28",
   "metadata": {},
   "outputs": [],
   "source": []
  },
  {
   "cell_type": "code",
   "execution_count": null,
   "id": "79fce20a",
   "metadata": {},
   "outputs": [],
   "source": []
  },
  {
   "cell_type": "code",
   "execution_count": 1178,
   "id": "655ea22d",
   "metadata": {},
   "outputs": [],
   "source": [
    "#x_train = pickle.load(open(\"../datasets/5hz/x_train.pkl\", \"rb\"))\n",
    "#y_train = pickle.load(open(\"../datasets/5hz/y_train.pkl\", \"rb\"))\n",
    "#\n",
    "#x_validation = pickle.load(open(\"../datasets/5hz/x_validation.pkl\", \"rb\"))\n",
    "#y_validation = pickle.load(open(\"../datasets/5hz/y_validation.pkl\", \"rb\"))\n",
    "#\n",
    "#x_test = pickle.load(open(\"../datasets/5hz/x_test.pkl\", \"rb\"))\n",
    "#y_test = pickle.load(open(\"../datasets/5hz/y_test.pkl\", \"rb\"))"
   ]
  },
  {
   "cell_type": "code",
   "execution_count": 1179,
   "id": "69bd5234",
   "metadata": {},
   "outputs": [],
   "source": [
    "#x_train.shape, y_train.shape"
   ]
  },
  {
   "cell_type": "code",
   "execution_count": 1180,
   "id": "c5db7bd0",
   "metadata": {},
   "outputs": [],
   "source": [
    "#x_validation.shape, y_validation.shape"
   ]
  },
  {
   "cell_type": "code",
   "execution_count": 1181,
   "id": "5d535de4",
   "metadata": {},
   "outputs": [],
   "source": [
    "#x_test.shape, y_test.shape"
   ]
  },
  {
   "cell_type": "code",
   "execution_count": 1182,
   "id": "9a2055b7",
   "metadata": {},
   "outputs": [],
   "source": [
    "#nan_arr_n, not_58_stations_n, not_61_samples_n = check_nans_incomplete_stations_preprocessed(x_train)\n",
    "#len(nan_arr_n), len(not_58_stations_n), len(not_61_samples_n)"
   ]
  },
  {
   "cell_type": "code",
   "execution_count": 1183,
   "id": "a178b55b",
   "metadata": {},
   "outputs": [],
   "source": [
    "#verify_unique_shapes_preprocessed(x_train)"
   ]
  },
  {
   "cell_type": "code",
   "execution_count": 1184,
   "id": "4fed8bc3",
   "metadata": {},
   "outputs": [],
   "source": [
    "#nan_arr_n, not_58_stations_n, not_61_samples_n = check_nans_incomplete_stations_preprocessed(x_validation)\n",
    "#len(nan_arr_n), len(not_58_stations_n), len(not_61_samples_n)"
   ]
  },
  {
   "cell_type": "code",
   "execution_count": 1185,
   "id": "02e34095",
   "metadata": {},
   "outputs": [],
   "source": [
    "#verify_unique_shapes_preprocessed(x_validation)"
   ]
  },
  {
   "cell_type": "code",
   "execution_count": 1186,
   "id": "ee44f6e0",
   "metadata": {},
   "outputs": [],
   "source": [
    "#nan_arr_n, not_58_stations_n, not_61_samples_n = check_nans_incomplete_stations_preprocessed(x_test)\n",
    "#len(nan_arr_n), len(not_58_stations_n), len(not_61_samples_n)"
   ]
  },
  {
   "cell_type": "code",
   "execution_count": 1187,
   "id": "f36254ee",
   "metadata": {},
   "outputs": [],
   "source": [
    "#verify_unique_shapes_preprocessed(x_test)"
   ]
  },
  {
   "cell_type": "code",
   "execution_count": null,
   "id": "487db73b",
   "metadata": {},
   "outputs": [],
   "source": []
  },
  {
   "cell_type": "code",
   "execution_count": null,
   "id": "660cc400",
   "metadata": {},
   "outputs": [],
   "source": []
  },
  {
   "cell_type": "code",
   "execution_count": 1188,
   "id": "81e622e4",
   "metadata": {},
   "outputs": [],
   "source": [
    "#os.getcwd()"
   ]
  },
  {
   "cell_type": "code",
   "execution_count": 1189,
   "id": "8a5f179f",
   "metadata": {},
   "outputs": [],
   "source": [
    "#os.chdir('../../../../../')"
   ]
  },
  {
   "cell_type": "code",
   "execution_count": 1190,
   "id": "e19df452",
   "metadata": {},
   "outputs": [],
   "source": [
    "#os.chdir('Volumes/My Passport')"
   ]
  },
  {
   "cell_type": "code",
   "execution_count": 1191,
   "id": "9607102a",
   "metadata": {},
   "outputs": [],
   "source": [
    "#e = pickle.load(open(\"normal_seismic_50hz.pkl\", \"rb\"))"
   ]
  },
  {
   "cell_type": "code",
   "execution_count": 1192,
   "id": "f28c20fa",
   "metadata": {},
   "outputs": [],
   "source": [
    "#e.shape"
   ]
  },
  {
   "cell_type": "code",
   "execution_count": 1193,
   "id": "e10e2d6a",
   "metadata": {},
   "outputs": [],
   "source": [
    "#en = e[:1000]"
   ]
  },
  {
   "cell_type": "code",
   "execution_count": 1194,
   "id": "f00840c8",
   "metadata": {},
   "outputs": [],
   "source": [
    "#en.shape"
   ]
  },
  {
   "cell_type": "code",
   "execution_count": 1195,
   "id": "434efdb2",
   "metadata": {},
   "outputs": [],
   "source": [
    "#pickle.dump(en, open(\"n_normal_sesimic_50hz.pkl\", \"wb\"))"
   ]
  },
  {
   "cell_type": "code",
   "execution_count": null,
   "id": "3268a7c0",
   "metadata": {},
   "outputs": [],
   "source": []
  },
  {
   "cell_type": "code",
   "execution_count": null,
   "id": "72927789",
   "metadata": {},
   "outputs": [],
   "source": []
  },
  {
   "cell_type": "code",
   "execution_count": null,
   "id": "f5100e9b-679a-4c66-bd55-f9f9124ded99",
   "metadata": {},
   "outputs": [],
   "source": []
  },
  {
   "cell_type": "code",
   "execution_count": null,
   "id": "9a583b74-9b67-4eb0-bb59-d5f695d4590a",
   "metadata": {},
   "outputs": [],
   "source": []
  },
  {
   "cell_type": "code",
   "execution_count": null,
   "id": "fa8edbc3-ff2f-4124-aa3c-898795c16826",
   "metadata": {},
   "outputs": [],
   "source": []
  },
  {
   "cell_type": "code",
   "execution_count": null,
   "id": "585da02f-04fa-4dd4-be27-c536549cd760",
   "metadata": {},
   "outputs": [],
   "source": []
  },
  {
   "cell_type": "code",
   "execution_count": null,
   "id": "c7282e6b-bbaf-416d-8d16-d72a792b8756",
   "metadata": {},
   "outputs": [],
   "source": []
  },
  {
   "cell_type": "code",
   "execution_count": null,
   "id": "76638ccd-3165-4d1b-8824-dce3d330a27b",
   "metadata": {},
   "outputs": [],
   "source": []
  },
  {
   "cell_type": "code",
   "execution_count": null,
   "id": "efbdb684-d33b-4b22-8ca6-902048d6899d",
   "metadata": {},
   "outputs": [],
   "source": []
  },
  {
   "cell_type": "code",
   "execution_count": null,
   "id": "abc816aa-26d7-4de9-898b-0812a8b511fc",
   "metadata": {},
   "outputs": [],
   "source": []
  },
  {
   "cell_type": "code",
   "execution_count": null,
   "id": "af5ffd5e-7742-4a81-828f-2839ba4845dd",
   "metadata": {},
   "outputs": [],
   "source": []
  },
  {
   "cell_type": "code",
   "execution_count": null,
   "id": "97af364e-fe6d-4de6-ae7b-aba17ee076e5",
   "metadata": {},
   "outputs": [],
   "source": []
  }
 ],
 "metadata": {
  "kernelspec": {
   "display_name": "myenv",
   "language": "python",
   "name": "myenv"
  },
  "language_info": {
   "codemirror_mode": {
    "name": "ipython",
    "version": 3
   },
   "file_extension": ".py",
   "mimetype": "text/x-python",
   "name": "python",
   "nbconvert_exporter": "python",
   "pygments_lexer": "ipython3",
   "version": "3.9.5"
  }
 },
 "nbformat": 4,
 "nbformat_minor": 5
}
