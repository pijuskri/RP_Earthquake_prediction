{
 "cells": [
  {
   "cell_type": "code",
   "execution_count": 1,
   "id": "788cf50a",
   "metadata": {},
   "outputs": [],
   "source": [
    "import matplotlib.pyplot as plt\n",
    "import pandas as pd\n",
    "import numpy as np\n",
    "import pickle\n",
    "import os\n",
    "\n",
    "from obspy import read"
   ]
  },
  {
   "cell_type": "code",
   "execution_count": 2,
   "id": "7d583e29",
   "metadata": {},
   "outputs": [
    {
     "data": {
      "text/plain": [
       "(3001,)"
      ]
     },
     "execution_count": 2,
     "metadata": {},
     "output_type": "execute_result"
    }
   ],
   "source": [
    "time_arr = np.linspace(0.0, 30.0, 3001)\n",
    "time_arr.shape"
   ]
  },
  {
   "cell_type": "code",
   "execution_count": 3,
   "id": "a76e3e27",
   "metadata": {},
   "outputs": [],
   "source": [
    "# plot wave normal\n",
    "def plot_wave_processed(data):\n",
    "    fig = plt.figure(figsize=(15, 4))\n",
    "    ax = fig.add_subplot(1, 1, 1)\n",
    "    cmap = plt.get_cmap('gnuplot')\n",
    "    colors = [cmap(i) for i in np.linspace(0, 1, len(data))]\n",
    "    i = 0\n",
    "    for s in data:\n",
    "        ax.plot(time_arr, s, color=colors[i])\n",
    "        i+=1\n",
    "    ax.tick_params(axis='both', labelsize=15)\n",
    "    ax.tick_params(axis='both', labelsize=15)\n",
    "    plt.ylabel('HHZ Velocity', fontsize=20)\n",
    "    plt.xlabel('Timestep', fontsize=20);\n",
    "    plt.grid()\n",
    "    plt.show()\n",
    "    del fig\n",
    "    del ax"
   ]
  },
  {
   "cell_type": "code",
   "execution_count": 10,
   "id": "c1225f52",
   "metadata": {},
   "outputs": [
    {
     "data": {
      "text/plain": [
       "'C:\\\\Programming\\\\Earthquake\\\\datasets'"
      ]
     },
     "execution_count": 10,
     "metadata": {},
     "output_type": "execute_result"
    }
   ],
   "source": [
    "os.getcwd()"
   ]
  },
  {
   "cell_type": "code",
   "execution_count": 11,
   "id": "bbc1df37",
   "metadata": {},
   "outputs": [
    {
     "data": {
      "text/plain": [
       "'C:\\\\Programming\\\\Earthquake'"
      ]
     },
     "execution_count": 11,
     "metadata": {},
     "output_type": "execute_result"
    }
   ],
   "source": [
    "os.chdir('../')\n",
    "os.getcwd()"
   ]
  },
  {
   "cell_type": "code",
   "execution_count": 12,
   "id": "9dca6e82",
   "metadata": {},
   "outputs": [],
   "source": [
    "os.chdir('datasets/')"
   ]
  },
  {
   "cell_type": "code",
   "execution_count": 7,
   "id": "72a53228",
   "metadata": {},
   "outputs": [
    {
     "ename": "FileNotFoundError",
     "evalue": "[Errno 2] No such file or directory: '../datasets/100hz/earthquakes_seismic_100hz.pkl'",
     "output_type": "error",
     "traceback": [
      "\u001b[1;31m---------------------------------------------------------------------------\u001b[0m",
      "\u001b[1;31mFileNotFoundError\u001b[0m                         Traceback (most recent call last)",
      "Input \u001b[1;32mIn [7]\u001b[0m, in \u001b[0;36m<cell line: 2>\u001b[1;34m()\u001b[0m\n\u001b[0;32m      1\u001b[0m \u001b[38;5;66;03m# READING EARTHQUAKE BEHAVIOUR\u001b[39;00m\n\u001b[1;32m----> 2\u001b[0m pkl_file \u001b[38;5;241m=\u001b[39m \u001b[38;5;28;43mopen\u001b[39;49m\u001b[43m(\u001b[49m\u001b[38;5;124;43m'\u001b[39;49m\u001b[38;5;124;43m../datasets/100hz/earthquakes_seismic_100hz.pkl\u001b[39;49m\u001b[38;5;124;43m'\u001b[39;49m\u001b[43m,\u001b[49m\u001b[43m \u001b[49m\u001b[38;5;124;43m'\u001b[39;49m\u001b[38;5;124;43mrb\u001b[39;49m\u001b[38;5;124;43m'\u001b[39;49m\u001b[43m)\u001b[49m\n\u001b[0;32m      3\u001b[0m earthquakes_data \u001b[38;5;241m=\u001b[39m pickle\u001b[38;5;241m.\u001b[39mload(pkl_file)\n\u001b[0;32m      4\u001b[0m pkl_file\u001b[38;5;241m.\u001b[39mclose()\n",
      "\u001b[1;31mFileNotFoundError\u001b[0m: [Errno 2] No such file or directory: '../datasets/100hz/earthquakes_seismic_100hz.pkl'"
     ]
    }
   ],
   "source": [
    "# READING EARTHQUAKE BEHAVIOUR\n",
    "pkl_file = open('../datasets/100hz/earthquakes_seismic_100hz.pkl', 'rb')\n",
    "earthquakes_data = pickle.load(pkl_file)\n",
    "pkl_file.close()"
   ]
  },
  {
   "cell_type": "code",
   "execution_count": 13,
   "id": "970ed3e0",
   "metadata": {},
   "outputs": [
    {
     "ename": "FileNotFoundError",
     "evalue": "[Errno 2] No such file or directory: '../datasets/100hz/normal_seismic_100hz.pkl'",
     "output_type": "error",
     "traceback": [
      "\u001b[1;31m---------------------------------------------------------------------------\u001b[0m",
      "\u001b[1;31mFileNotFoundError\u001b[0m                         Traceback (most recent call last)",
      "Input \u001b[1;32mIn [13]\u001b[0m, in \u001b[0;36m<cell line: 2>\u001b[1;34m()\u001b[0m\n\u001b[0;32m      1\u001b[0m \u001b[38;5;66;03m# READING NORMAL BEHAVIOUR\u001b[39;00m\n\u001b[1;32m----> 2\u001b[0m pkl_file \u001b[38;5;241m=\u001b[39m \u001b[38;5;28;43mopen\u001b[39;49m\u001b[43m(\u001b[49m\u001b[38;5;124;43m'\u001b[39;49m\u001b[38;5;124;43m../datasets/100hz/normal_seismic_100hz.pkl\u001b[39;49m\u001b[38;5;124;43m'\u001b[39;49m\u001b[43m,\u001b[49m\u001b[43m \u001b[49m\u001b[38;5;124;43m'\u001b[39;49m\u001b[38;5;124;43mrb\u001b[39;49m\u001b[38;5;124;43m'\u001b[39;49m\u001b[43m)\u001b[49m\n\u001b[0;32m      3\u001b[0m normal_data \u001b[38;5;241m=\u001b[39m pickle\u001b[38;5;241m.\u001b[39mload(pkl_file)\n\u001b[0;32m      4\u001b[0m pkl_file\u001b[38;5;241m.\u001b[39mclose()\n",
      "\u001b[1;31mFileNotFoundError\u001b[0m: [Errno 2] No such file or directory: '../datasets/100hz/normal_seismic_100hz.pkl'"
     ]
    }
   ],
   "source": [
    "# READING NORMAL BEHAVIOUR\n",
    "pkl_file = open('../datasets/100hz/normal_seismic_100hz.pkl', 'rb')\n",
    "normal_data = pickle.load(pkl_file)\n",
    "pkl_file.close()"
   ]
  },
  {
   "cell_type": "code",
   "execution_count": 7,
   "id": "eae9bcde",
   "metadata": {},
   "outputs": [
    {
     "data": {
      "text/plain": [
       "(1394, 58, 3001)"
      ]
     },
     "execution_count": 7,
     "metadata": {},
     "output_type": "execute_result"
    }
   ],
   "source": [
    "(len(earthquakes_data), len(earthquakes_data[0]), len(earthquakes_data[0][0]))"
   ]
  },
  {
   "cell_type": "code",
   "execution_count": 8,
   "id": "42983e96",
   "metadata": {},
   "outputs": [
    {
     "data": {
      "text/plain": [
       "(1074, 58, 3001)"
      ]
     },
     "execution_count": 8,
     "metadata": {},
     "output_type": "execute_result"
    }
   ],
   "source": [
    "(len(normal_data), len(normal_data[0]), len(normal_data[0][0]))"
   ]
  },
  {
   "cell_type": "code",
   "execution_count": 9,
   "id": "a19b5c19",
   "metadata": {},
   "outputs": [],
   "source": [
    "def check_nans_incomplete_stations(data):\n",
    "    \n",
    "    # check for possible nans and incomplete station data\n",
    "    nan_arr = []\n",
    "    not_58_stations = []\n",
    "    not_61_samples = []\n",
    "\n",
    "    for i in range(0, len(data)):\n",
    "        \n",
    "        try:\n",
    "            # stations != 58 per event\n",
    "            if len(data[i]) != 58:\n",
    "                not_58_stations.append(i)\n",
    "                \n",
    "            for j in range(0, 58):\n",
    "                \n",
    "                try:\n",
    "                    if len(data[i][j]) != 3001:\n",
    "                        not_61_samples.append(i)\n",
    "                # a station has nan value(s)\n",
    "                    \n",
    "                    is_nan_event = np.isnan(np.sum(data[i][j]))\n",
    "                    if is_nan_event:\n",
    "                        nan_arr.append(i)\n",
    "                    \n",
    "                except:\n",
    "                    not_61_samples.append(i)\n",
    "                \n",
    "        except:\n",
    "            not_58_stations.append(i)\n",
    "            \n",
    "        \n",
    "                \n",
    "    return nan_arr, not_58_stations, not_61_samples\n",
    "\n",
    "# verify that we only have one shape for stations and samples\n",
    "def verify_unique_shapes(data):\n",
    "    stations_shape = [58]\n",
    "    samples_shape = [3001]\n",
    "    \n",
    "    for i in data:\n",
    "        station_shape = len(i)\n",
    "    \n",
    "        if station_shape not in stations_shape:\n",
    "            stations_shape.append(station_shape)\n",
    "            \n",
    "        for j in i:\n",
    "            sample_shape = len(j)\n",
    "            if sample_shape not in samples_shape:\n",
    "                samples_shape.append(sample_shape)\n",
    "    \n",
    "    return stations_shape, samples_shape\n",
    "\n",
    "\n",
    "def check_nans_incomplete_stations_preprocessed(data):\n",
    "    # check for possible nans and incomplete station data for lstm processed input\n",
    "    nan_arr = []\n",
    "    not_58_stations = []\n",
    "    not_61_samples = []\n",
    "\n",
    "    for i in range(0, len(data)):\n",
    "        \n",
    "        try:\n",
    "            # samples != 61 per station\n",
    "            if len(data[i]) != 151:\n",
    "                not_61_samples.append(i)\n",
    "                \n",
    "            for j in range(0, 3001):\n",
    "                \n",
    "                try:\n",
    "                    if len(data[i][j]) != 58:\n",
    "                        not_58_stations.append(i)\n",
    "                # a station has nan value(s)\n",
    "                    \n",
    "                    is_nan_event = np.isnan(np.sum(data[i][j]))\n",
    "                    if is_nan_event:\n",
    "                        nan_arr.append(i)\n",
    "                    \n",
    "                except:\n",
    "                    not_58_stations.append(i)\n",
    "                \n",
    "        except:\n",
    "            not_61_samples.append(i)\n",
    "            \n",
    "        \n",
    "                \n",
    "    return nan_arr, not_58_stations, not_61_samples\n",
    "\n",
    "# verify that we only have one shape for stations and samples for lstm processed input\n",
    "def verify_unique_shapes_preprocessed(data):\n",
    "    stations_shape = [58]\n",
    "    samples_shape = [3001]\n",
    "    \n",
    "    for i in data:\n",
    "     \n",
    "        sample_shape = len(i)\n",
    "        if sample_shape not in samples_shape:\n",
    "            samples_shape.append(sample_shape)\n",
    "        \n",
    "        for j in i:\n",
    "            station_shape = len(j)\n",
    "            if station_shape not in stations_shape:\n",
    "                stations_shape.append(station_shape)\n",
    "\n",
    "\n",
    "    \n",
    "    return stations_shape, samples_shape"
   ]
  },
  {
   "cell_type": "code",
   "execution_count": 10,
   "id": "3f36bdc7",
   "metadata": {},
   "outputs": [],
   "source": [
    "nan_arr_e, not_58_stations_e, not_61_samples_e = check_nans_incomplete_stations(earthquakes_data)"
   ]
  },
  {
   "cell_type": "code",
   "execution_count": 11,
   "id": "7f8557e0",
   "metadata": {},
   "outputs": [
    {
     "data": {
      "text/plain": [
       "(0, 0, 16)"
      ]
     },
     "execution_count": 11,
     "metadata": {},
     "output_type": "execute_result"
    }
   ],
   "source": [
    "len(nan_arr_e), len(not_58_stations_e), len(not_61_samples_e)"
   ]
  },
  {
   "cell_type": "code",
   "execution_count": 12,
   "id": "a73afda4",
   "metadata": {},
   "outputs": [
    {
     "data": {
      "text/plain": [
       "[481,\n",
       " 965,\n",
       " 1197,\n",
       " 110,\n",
       " 463,\n",
       " 878,\n",
       " 1233,\n",
       " 18,\n",
       " 914,\n",
       " 54,\n",
       " 1174,\n",
       " 56,\n",
       " 505,\n",
       " 186,\n",
       " 1339,\n",
       " 414]"
      ]
     },
     "execution_count": 12,
     "metadata": {},
     "output_type": "execute_result"
    }
   ],
   "source": [
    "remove_indices = [y for x in [nan_arr_e, not_58_stations_e] for y in x]\n",
    "remove_indices = [y for x in [remove_indices, not_61_samples_e] for y in x]\n",
    "remove_indices = set(remove_indices)\n",
    "remove_indices = list(remove_indices)\n",
    "remove_indices"
   ]
  },
  {
   "cell_type": "code",
   "execution_count": 13,
   "id": "ad709e87",
   "metadata": {},
   "outputs": [],
   "source": [
    "earthquakes_data_processed = earthquakes_data\n",
    "earthquakes_data_processed = [i for j, i in enumerate(earthquakes_data_processed) if j not in remove_indices]"
   ]
  },
  {
   "cell_type": "code",
   "execution_count": 14,
   "id": "2254fa90",
   "metadata": {},
   "outputs": [
    {
     "data": {
      "text/plain": [
       "1378"
      ]
     },
     "execution_count": 14,
     "metadata": {},
     "output_type": "execute_result"
    }
   ],
   "source": [
    "len(earthquakes_data_processed)"
   ]
  },
  {
   "cell_type": "code",
   "execution_count": 15,
   "id": "13dec2d1",
   "metadata": {},
   "outputs": [],
   "source": [
    "nan_arr_e, not_58_stations_e, not_61_samples_e = check_nans_incomplete_stations(earthquakes_data_processed)"
   ]
  },
  {
   "cell_type": "code",
   "execution_count": 16,
   "id": "48c2b81e",
   "metadata": {},
   "outputs": [
    {
     "data": {
      "text/plain": [
       "(0, 0, 0)"
      ]
     },
     "execution_count": 16,
     "metadata": {},
     "output_type": "execute_result"
    }
   ],
   "source": [
    "len(nan_arr_e), len(not_58_stations_e), len(not_61_samples_e)"
   ]
  },
  {
   "cell_type": "code",
   "execution_count": 17,
   "id": "edef25aa",
   "metadata": {},
   "outputs": [
    {
     "data": {
      "text/plain": [
       "([58], [3001])"
      ]
     },
     "execution_count": 17,
     "metadata": {},
     "output_type": "execute_result"
    }
   ],
   "source": [
    "verify_unique_shapes(earthquakes_data_processed)"
   ]
  },
  {
   "cell_type": "code",
   "execution_count": 18,
   "id": "e4beddca",
   "metadata": {},
   "outputs": [
    {
     "data": {
      "text/plain": [
       "(1378, 58, 3001)"
      ]
     },
     "execution_count": 18,
     "metadata": {},
     "output_type": "execute_result"
    }
   ],
   "source": [
    "(len(earthquakes_data_processed), len(earthquakes_data_processed[0]), len(earthquakes_data_processed[0][0]))"
   ]
  },
  {
   "cell_type": "code",
   "execution_count": null,
   "id": "fc084528",
   "metadata": {},
   "outputs": [],
   "source": []
  },
  {
   "cell_type": "code",
   "execution_count": null,
   "id": "448223bd",
   "metadata": {},
   "outputs": [],
   "source": []
  },
  {
   "cell_type": "code",
   "execution_count": null,
   "id": "9263b6c8",
   "metadata": {},
   "outputs": [],
   "source": []
  },
  {
   "cell_type": "code",
   "execution_count": 19,
   "id": "44f4d7d3",
   "metadata": {},
   "outputs": [],
   "source": [
    "nan_arr_n, not_58_stations_n, not_61_samples_n = check_nans_incomplete_stations(normal_data)"
   ]
  },
  {
   "cell_type": "code",
   "execution_count": 20,
   "id": "b6980cc7",
   "metadata": {},
   "outputs": [
    {
     "data": {
      "text/plain": [
       "(0, 0, 11)"
      ]
     },
     "execution_count": 20,
     "metadata": {},
     "output_type": "execute_result"
    }
   ],
   "source": [
    "len(nan_arr_n), len(not_58_stations_n), len(not_61_samples_n)"
   ]
  },
  {
   "cell_type": "code",
   "execution_count": 21,
   "id": "2bbe7d36",
   "metadata": {},
   "outputs": [
    {
     "data": {
      "text/plain": [
       "[451, 967, 107, 363, 75, 238, 684, 304, 924, 510, 671]"
      ]
     },
     "execution_count": 21,
     "metadata": {},
     "output_type": "execute_result"
    }
   ],
   "source": [
    "remove_indices = [y for x in [nan_arr_n, not_58_stations_n] for y in x]\n",
    "remove_indices = [y for x in [remove_indices, not_61_samples_n] for y in x]\n",
    "remove_indices = set(remove_indices)\n",
    "remove_indices = list(remove_indices)\n",
    "remove_indices"
   ]
  },
  {
   "cell_type": "code",
   "execution_count": 22,
   "id": "6836fc52",
   "metadata": {},
   "outputs": [],
   "source": [
    "normal_data_processed = normal_data\n",
    "normal_data_processed = [i for j, i in enumerate(normal_data_processed) if j not in remove_indices]"
   ]
  },
  {
   "cell_type": "code",
   "execution_count": 23,
   "id": "6a305cc4",
   "metadata": {},
   "outputs": [],
   "source": [
    "nan_arr_n, not_58_stations_n, not_61_samples_n = check_nans_incomplete_stations(normal_data_processed)"
   ]
  },
  {
   "cell_type": "code",
   "execution_count": 24,
   "id": "7af8bd3e",
   "metadata": {},
   "outputs": [
    {
     "data": {
      "text/plain": [
       "(0, 0, 0)"
      ]
     },
     "execution_count": 24,
     "metadata": {},
     "output_type": "execute_result"
    }
   ],
   "source": [
    "len(nan_arr_n), len(not_58_stations_n), len(not_61_samples_n)"
   ]
  },
  {
   "cell_type": "code",
   "execution_count": 25,
   "id": "5e31d860",
   "metadata": {},
   "outputs": [
    {
     "data": {
      "text/plain": [
       "([58], [3001])"
      ]
     },
     "execution_count": 25,
     "metadata": {},
     "output_type": "execute_result"
    }
   ],
   "source": [
    "verify_unique_shapes(normal_data_processed)"
   ]
  },
  {
   "cell_type": "code",
   "execution_count": 26,
   "id": "92467503",
   "metadata": {},
   "outputs": [
    {
     "data": {
      "text/plain": [
       "1063"
      ]
     },
     "execution_count": 26,
     "metadata": {},
     "output_type": "execute_result"
    }
   ],
   "source": [
    "len(normal_data_processed)"
   ]
  },
  {
   "cell_type": "code",
   "execution_count": null,
   "id": "67b6a2e9",
   "metadata": {},
   "outputs": [],
   "source": []
  },
  {
   "cell_type": "code",
   "execution_count": null,
   "id": "88075f0e",
   "metadata": {},
   "outputs": [],
   "source": []
  },
  {
   "cell_type": "code",
   "execution_count": 27,
   "id": "8da3ce47",
   "metadata": {},
   "outputs": [],
   "source": [
    "# same length as normal\n",
    "earthquakes_data_processed = earthquakes_data_processed[0:500]\n",
    "normal_data_processed = normal_data_processed[0:500]"
   ]
  },
  {
   "cell_type": "code",
   "execution_count": 28,
   "id": "4e0467d0",
   "metadata": {},
   "outputs": [
    {
     "data": {
      "text/plain": [
       "(500, 500)"
      ]
     },
     "execution_count": 28,
     "metadata": {},
     "output_type": "execute_result"
    }
   ],
   "source": [
    "len(earthquakes_data_processed), len(normal_data_processed)"
   ]
  },
  {
   "cell_type": "code",
   "execution_count": null,
   "id": "6b19b8a7",
   "metadata": {},
   "outputs": [],
   "source": []
  },
  {
   "cell_type": "code",
   "execution_count": null,
   "id": "f9c7daaf",
   "metadata": {},
   "outputs": [],
   "source": []
  },
  {
   "cell_type": "code",
   "execution_count": 29,
   "id": "b69c26a3",
   "metadata": {},
   "outputs": [],
   "source": [
    "# turns data to lstm input for training\n",
    "def to_lstm_input(read_file, label):\n",
    "    lstm_event_arr = []\n",
    "    for i, r in enumerate(read_file):\n",
    "        arr = read_file[i]\n",
    "        arr_t = np.transpose(arr)\n",
    "        try:\n",
    "            arr_t = arr_t.reshape(3001, 58)\n",
    "        except:\n",
    "            continue\n",
    "        lstm_event_arr.append({label: arr_t})\n",
    "    lstm_event_arr = np.array(lstm_event_arr)\n",
    "    return lstm_event_arr"
   ]
  },
  {
   "cell_type": "code",
   "execution_count": 30,
   "id": "a9b304b3",
   "metadata": {},
   "outputs": [],
   "source": [
    "earthquakes_data_processed = np.array(earthquakes_data_processed)"
   ]
  },
  {
   "cell_type": "code",
   "execution_count": 31,
   "id": "8a4a6581",
   "metadata": {},
   "outputs": [],
   "source": [
    "normal_data_processed = np.array(normal_data_processed)"
   ]
  },
  {
   "cell_type": "code",
   "execution_count": null,
   "id": "7ca03de9",
   "metadata": {},
   "outputs": [],
   "source": []
  },
  {
   "cell_type": "code",
   "execution_count": 32,
   "id": "264b9321",
   "metadata": {},
   "outputs": [
    {
     "data": {
      "text/plain": [
       "((500, 58, 3001), (500, 58, 3001))"
      ]
     },
     "execution_count": 32,
     "metadata": {},
     "output_type": "execute_result"
    }
   ],
   "source": [
    "earthquakes_data_processed.shape, normal_data_processed.shape"
   ]
  },
  {
   "cell_type": "code",
   "execution_count": 33,
   "id": "67ea5cbb",
   "metadata": {},
   "outputs": [],
   "source": [
    "# earthquakes == 1\n",
    "lstm_input_earthquakes = to_lstm_input(earthquakes_data_processed, '1')"
   ]
  },
  {
   "cell_type": "code",
   "execution_count": 34,
   "id": "80acd2a8",
   "metadata": {},
   "outputs": [],
   "source": [
    "# normal == 0\n",
    "lstm_input_normal = to_lstm_input(normal_data_processed,'0')"
   ]
  },
  {
   "cell_type": "code",
   "execution_count": 35,
   "id": "25235073",
   "metadata": {},
   "outputs": [
    {
     "data": {
      "text/plain": [
       "((500,), (500,))"
      ]
     },
     "execution_count": 35,
     "metadata": {},
     "output_type": "execute_result"
    }
   ],
   "source": [
    "lstm_input_earthquakes.shape, lstm_input_normal.shape"
   ]
  },
  {
   "cell_type": "code",
   "execution_count": 36,
   "id": "04e44a50",
   "metadata": {},
   "outputs": [
    {
     "data": {
      "text/plain": [
       "{'1': array([[-0.03062985, -0.0405771 ,  0.5747331 , ...,  0.10832102,\n",
       "         -0.01657085, -0.06644579],\n",
       "        [-0.03537532, -0.03877367,  0.57058126, ...,  0.12161497,\n",
       "         -0.02874535, -0.12019142],\n",
       "        [-0.04314064, -0.06221821,  0.56109134, ...,  0.13392418,\n",
       "         -0.03922895, -0.17909074],\n",
       "        ..., \n",
       "        [ 0.58196721,  0.00811542, -0.39857651, ...,  0.06597735,\n",
       "         -0.31078796,  0.16841524],\n",
       "        [ 0.57377049,  0.04147881, -0.39976275, ...,  0.06105367,\n",
       "         -0.31518431,  0.10583471],\n",
       "        [ 0.56988783,  0.0748422 , -0.39679715, ...,  0.05563762,\n",
       "         -0.32600609,  0.19344745]])}"
      ]
     },
     "execution_count": 36,
     "metadata": {},
     "output_type": "execute_result"
    }
   ],
   "source": [
    "lstm_input_earthquakes[0]"
   ]
  },
  {
   "cell_type": "code",
   "execution_count": 37,
   "id": "dde72e9a",
   "metadata": {},
   "outputs": [
    {
     "data": {
      "text/plain": [
       "(1000,)"
      ]
     },
     "execution_count": 37,
     "metadata": {},
     "output_type": "execute_result"
    }
   ],
   "source": [
    "lstm_input = np.concatenate((lstm_input_earthquakes, lstm_input_normal))\n",
    "lstm_input.shape"
   ]
  },
  {
   "cell_type": "code",
   "execution_count": 38,
   "id": "21b53fa7",
   "metadata": {},
   "outputs": [],
   "source": [
    "# shuffle the data set\n",
    "np.random.shuffle(lstm_input)"
   ]
  },
  {
   "cell_type": "code",
   "execution_count": null,
   "id": "4084471c",
   "metadata": {},
   "outputs": [],
   "source": [
    " "
   ]
  },
  {
   "cell_type": "code",
   "execution_count": 39,
   "id": "86aab5fa",
   "metadata": {},
   "outputs": [],
   "source": [
    "#(70 training - 20 validation - 10 training split)\n",
    "training_set = lstm_input[0:700]\n",
    "validation_set = lstm_input[700:900]\n",
    "test_set = lstm_input[900:1000]"
   ]
  },
  {
   "cell_type": "code",
   "execution_count": null,
   "id": "47cf8d3a",
   "metadata": {},
   "outputs": [],
   "source": []
  },
  {
   "cell_type": "code",
   "execution_count": 40,
   "id": "44f93c7f",
   "metadata": {},
   "outputs": [],
   "source": [
    "x_train = []\n",
    "y_train = []\n",
    "for i, r in enumerate(training_set):\n",
    "    arr = training_set[i]\n",
    "    key = list(training_set[i].keys())[0]\n",
    "    if key == '1':\n",
    "        y_train.append(1)\n",
    "    else:\n",
    "        y_train.append(0)\n",
    "    \n",
    "    x_train.append(arr[key])\n",
    "    \n",
    "x_train = np.array(x_train)\n",
    "y_train = np.array(y_train)"
   ]
  },
  {
   "cell_type": "code",
   "execution_count": 41,
   "id": "4d1c5e4e",
   "metadata": {},
   "outputs": [
    {
     "data": {
      "text/plain": [
       "((700, 3001, 58), (700,))"
      ]
     },
     "execution_count": 41,
     "metadata": {},
     "output_type": "execute_result"
    }
   ],
   "source": [
    "x_train.shape, y_train.shape"
   ]
  },
  {
   "cell_type": "code",
   "execution_count": 42,
   "id": "f89365e2",
   "metadata": {},
   "outputs": [
    {
     "ename": "FileNotFoundError",
     "evalue": "[Errno 2] No such file or directory: '../100HZ'",
     "output_type": "error",
     "traceback": [
      "\u001b[0;31m---------------------------------------------------------------------------\u001b[0m",
      "\u001b[0;31mFileNotFoundError\u001b[0m                         Traceback (most recent call last)",
      "\u001b[0;32m<ipython-input-42-af8a219d6733>\u001b[0m in \u001b[0;36m<module>\u001b[0;34m\u001b[0m\n\u001b[0;32m----> 1\u001b[0;31m \u001b[0mos\u001b[0m\u001b[0;34m.\u001b[0m\u001b[0mchdir\u001b[0m\u001b[0;34m(\u001b[0m\u001b[0;34m'../100HZ'\u001b[0m\u001b[0;34m)\u001b[0m\u001b[0;34m\u001b[0m\u001b[0;34m\u001b[0m\u001b[0m\n\u001b[0m\u001b[1;32m      2\u001b[0m \u001b[0mos\u001b[0m\u001b[0;34m.\u001b[0m\u001b[0mgetcwd\u001b[0m\u001b[0;34m(\u001b[0m\u001b[0;34m)\u001b[0m\u001b[0;34m\u001b[0m\u001b[0;34m\u001b[0m\u001b[0m\n",
      "\u001b[0;31mFileNotFoundError\u001b[0m: [Errno 2] No such file or directory: '../100HZ'"
     ]
    }
   ],
   "source": [
    "os.chdir('../100HZ')\n",
    "os.getcwd()"
   ]
  },
  {
   "cell_type": "code",
   "execution_count": 119,
   "id": "573b9542",
   "metadata": {},
   "outputs": [],
   "source": [
    "pickle.dump(x_train, open(\"x_train.pkl\", \"wb\"))\n",
    "pickle.dump(y_train, open(\"y_train.pkl\", \"wb\"))"
   ]
  },
  {
   "cell_type": "code",
   "execution_count": 120,
   "id": "47c339e0",
   "metadata": {},
   "outputs": [
    {
     "data": {
      "text/plain": [
       "(725, 763, 0.48723118279569894, 0.5127688172043011)"
      ]
     },
     "execution_count": 120,
     "metadata": {},
     "output_type": "execute_result"
    }
   ],
   "source": [
    "len(np.where(y_train == 0)[0]), len(np.where(y_train == 1)[0]), len(np.where(y_train == 0)[0]) / len(y_train), len(np.where(y_train == 1)[0]) / len(y_train)"
   ]
  },
  {
   "cell_type": "code",
   "execution_count": 121,
   "id": "2163d531",
   "metadata": {},
   "outputs": [],
   "source": [
    "x_validation = []\n",
    "y_validation = []\n",
    "for i, r in enumerate(validation_set):\n",
    "    arr = validation_set[i]\n",
    "    key = list(validation_set[i].keys())[0]\n",
    "    if key == '1':\n",
    "        y_validation.append(1)\n",
    "    else:\n",
    "        y_validation.append(0)\n",
    "    \n",
    "    x_validation.append(arr[key])\n",
    "    \n",
    "x_validation = np.array(x_validation)\n",
    "y_validation = np.array(y_validation)"
   ]
  },
  {
   "cell_type": "code",
   "execution_count": 122,
   "id": "eb5e55b4",
   "metadata": {},
   "outputs": [
    {
     "data": {
      "text/plain": [
       "((425, 3001, 58), (425,))"
      ]
     },
     "execution_count": 122,
     "metadata": {},
     "output_type": "execute_result"
    }
   ],
   "source": [
    "x_validation.shape, y_validation.shape"
   ]
  },
  {
   "cell_type": "code",
   "execution_count": 123,
   "id": "2c75edc8",
   "metadata": {},
   "outputs": [
    {
     "data": {
      "text/plain": [
       "(239, 186, 0.5623529411764706, 0.4376470588235294)"
      ]
     },
     "execution_count": 123,
     "metadata": {},
     "output_type": "execute_result"
    }
   ],
   "source": [
    "len(np.where(y_validation == 0)[0]), len(np.where(y_validation == 1)[0]), len(np.where(y_validation == 0)[0]) / len(y_validation), len(np.where(y_validation == 1)[0]) / len(y_validation)\n"
   ]
  },
  {
   "cell_type": "code",
   "execution_count": 124,
   "id": "0d5e2d6e",
   "metadata": {},
   "outputs": [],
   "source": [
    "pickle.dump(x_validation, open(\"x_validation.pkl\", \"wb\"))\n",
    "pickle.dump(y_validation, open(\"y_validation.pkl\", \"wb\"))"
   ]
  },
  {
   "cell_type": "code",
   "execution_count": null,
   "id": "c72b2711",
   "metadata": {},
   "outputs": [],
   "source": []
  },
  {
   "cell_type": "code",
   "execution_count": 125,
   "id": "661fff74",
   "metadata": {},
   "outputs": [],
   "source": [
    "x_test = []\n",
    "y_test = []\n",
    "for i, r in enumerate(test_set):\n",
    "    arr = test_set[i]\n",
    "    key = list(test_set[i].keys())[0]\n",
    "    if key == '1':\n",
    "        y_test.append(1)\n",
    "    else:\n",
    "        y_test.append(0)\n",
    "    \n",
    "    x_test.append(arr[key])\n",
    "    \n",
    "x_test = np.array(x_test)\n",
    "y_test = np.array(y_test)"
   ]
  },
  {
   "cell_type": "code",
   "execution_count": 126,
   "id": "c1c4c732",
   "metadata": {},
   "outputs": [
    {
     "data": {
      "text/plain": [
       "((213, 3001, 58), (213,))"
      ]
     },
     "execution_count": 126,
     "metadata": {},
     "output_type": "execute_result"
    }
   ],
   "source": [
    "x_test.shape, y_test.shape"
   ]
  },
  {
   "cell_type": "code",
   "execution_count": 127,
   "id": "6fa666cc",
   "metadata": {},
   "outputs": [
    {
     "data": {
      "text/plain": [
       "(99, 114, 0.4647887323943662, 0.5352112676056338)"
      ]
     },
     "execution_count": 127,
     "metadata": {},
     "output_type": "execute_result"
    }
   ],
   "source": [
    "len(np.where(y_test == 0)[0]), len(np.where(y_test == 1)[0]), len(np.where(y_test == 0)[0]) / len(y_test) , len(np.where(y_test == 1)[0]) / len(y_test)"
   ]
  },
  {
   "cell_type": "code",
   "execution_count": 128,
   "id": "4940068b",
   "metadata": {},
   "outputs": [],
   "source": [
    "pickle.dump(x_test, open(\"x_test.pkl\", \"wb\"))\n",
    "pickle.dump(y_test, open(\"y_test.pkl\", \"wb\"))"
   ]
  },
  {
   "cell_type": "code",
   "execution_count": null,
   "id": "9fe8a564",
   "metadata": {},
   "outputs": [],
   "source": []
  },
  {
   "cell_type": "code",
   "execution_count": null,
   "id": "88ce7535",
   "metadata": {},
   "outputs": [],
   "source": [
    "data = [[len(np.where(y_train == 0)[0]) / len(y_train),\n",
    "        len(np.where(y_validation == 0)[0]) / len(y_validation),\n",
    "        len(np.where(y_test == 0)[0]) / len(y_test)],\n",
    "        \n",
    "       [len(np.where(y_train == 1)[0]) / len(y_train),\n",
    "        len(np.where(y_validation == 1)[0]) / len(y_validation),\n",
    "        len(np.where(y_test == 1)[0]) / len(y_test)]]\n",
    "\n",
    "X = np.arange(3)\n",
    "fig = plt.figure(figsize=(10, 5))\n",
    "ax = fig.add_axes([0,0,1,1])\n",
    "ax.bar(X + 0.00, data[0], color = 'g', width = 0.25)\n",
    "ax.bar(X + 0.25, data[1], color = 'r', width = 0.25)\n",
    "colors = {'normal behaviour':'green', 'earthquake':'red'}  \n",
    "labels = list(colors.keys())\n",
    "handles = [plt.Rectangle((0,0),1,1, color=colors[label]) for label in labels]\n",
    "plt.legend(handles, labels)\n",
    "plt.title(\"The Class Ratio Between Different Datasets\", fontsize=16)\n",
    "plt.ylabel('Percentage (%)', fontsize=16)\n",
    "ax.tick_params(axis='both', which='major', labelsize=12)\n",
    "ax.tick_params(axis='both', which='minor', labelsize=12)\n",
    "plt.xticks([])"
   ]
  },
  {
   "cell_type": "code",
   "execution_count": null,
   "id": "fb3e9c48",
   "metadata": {},
   "outputs": [],
   "source": []
  },
  {
   "cell_type": "code",
   "execution_count": null,
   "id": "1f832e28",
   "metadata": {},
   "outputs": [],
   "source": []
  },
  {
   "cell_type": "code",
   "execution_count": null,
   "id": "79fce20a",
   "metadata": {},
   "outputs": [],
   "source": []
  },
  {
   "cell_type": "code",
   "execution_count": null,
   "id": "655ea22d",
   "metadata": {},
   "outputs": [],
   "source": [
    "x_train = pickle.load(open(\"../datasets/5hz/x_train.pkl\", \"rb\"))\n",
    "y_train = pickle.load(open(\"../datasets/5hz/y_train.pkl\", \"rb\"))\n",
    "\n",
    "x_validation = pickle.load(open(\"../datasets/5hz/x_validation.pkl\", \"rb\"))\n",
    "y_validation = pickle.load(open(\"../datasets/5hz/y_validation.pkl\", \"rb\"))\n",
    "\n",
    "x_test = pickle.load(open(\"../datasets/5hz/x_test.pkl\", \"rb\"))\n",
    "y_test = pickle.load(open(\"../datasets/5hz/y_test.pkl\", \"rb\"))"
   ]
  },
  {
   "cell_type": "code",
   "execution_count": null,
   "id": "69bd5234",
   "metadata": {},
   "outputs": [],
   "source": [
    "x_train.shape, y_train.shape"
   ]
  },
  {
   "cell_type": "code",
   "execution_count": null,
   "id": "c5db7bd0",
   "metadata": {},
   "outputs": [],
   "source": [
    "x_validation.shape, y_validation.shape"
   ]
  },
  {
   "cell_type": "code",
   "execution_count": null,
   "id": "5d535de4",
   "metadata": {},
   "outputs": [],
   "source": [
    "x_test.shape, y_test.shape"
   ]
  },
  {
   "cell_type": "code",
   "execution_count": null,
   "id": "9a2055b7",
   "metadata": {},
   "outputs": [],
   "source": [
    "nan_arr_n, not_58_stations_n, not_61_samples_n = check_nans_incomplete_stations_preprocessed(x_train)\n",
    "len(nan_arr_n), len(not_58_stations_n), len(not_61_samples_n)"
   ]
  },
  {
   "cell_type": "code",
   "execution_count": null,
   "id": "a178b55b",
   "metadata": {},
   "outputs": [],
   "source": [
    "verify_unique_shapes_preprocessed(x_train)"
   ]
  },
  {
   "cell_type": "code",
   "execution_count": null,
   "id": "4fed8bc3",
   "metadata": {},
   "outputs": [],
   "source": [
    "nan_arr_n, not_58_stations_n, not_61_samples_n = check_nans_incomplete_stations_preprocessed(x_validation)\n",
    "len(nan_arr_n), len(not_58_stations_n), len(not_61_samples_n)"
   ]
  },
  {
   "cell_type": "code",
   "execution_count": null,
   "id": "02e34095",
   "metadata": {},
   "outputs": [],
   "source": [
    "verify_unique_shapes_preprocessed(x_validation)"
   ]
  },
  {
   "cell_type": "code",
   "execution_count": null,
   "id": "ee44f6e0",
   "metadata": {},
   "outputs": [],
   "source": [
    "nan_arr_n, not_58_stations_n, not_61_samples_n = check_nans_incomplete_stations_preprocessed(x_test)\n",
    "len(nan_arr_n), len(not_58_stations_n), len(not_61_samples_n)"
   ]
  },
  {
   "cell_type": "code",
   "execution_count": null,
   "id": "f36254ee",
   "metadata": {},
   "outputs": [],
   "source": [
    "verify_unique_shapes_preprocessed(x_test)"
   ]
  },
  {
   "cell_type": "code",
   "execution_count": null,
   "id": "487db73b",
   "metadata": {},
   "outputs": [],
   "source": []
  },
  {
   "cell_type": "code",
   "execution_count": null,
   "id": "660cc400",
   "metadata": {},
   "outputs": [],
   "source": []
  },
  {
   "cell_type": "code",
   "execution_count": 7,
   "id": "81e622e4",
   "metadata": {},
   "outputs": [
    {
     "data": {
      "text/plain": [
       "'/Volumes/My Passport'"
      ]
     },
     "execution_count": 7,
     "metadata": {},
     "output_type": "execute_result"
    }
   ],
   "source": [
    "os.getcwd()"
   ]
  },
  {
   "cell_type": "code",
   "execution_count": 4,
   "id": "8a5f179f",
   "metadata": {},
   "outputs": [],
   "source": [
    "os.chdir('../../../../../')"
   ]
  },
  {
   "cell_type": "code",
   "execution_count": 6,
   "id": "e19df452",
   "metadata": {},
   "outputs": [],
   "source": [
    "os.chdir('Volumes/My Passport')"
   ]
  },
  {
   "cell_type": "code",
   "execution_count": 17,
   "id": "9607102a",
   "metadata": {},
   "outputs": [],
   "source": [
    "e = pickle.load(open(\"normal_seismic_50hz.pkl\", \"rb\"))"
   ]
  },
  {
   "cell_type": "code",
   "execution_count": 18,
   "id": "f28c20fa",
   "metadata": {},
   "outputs": [
    {
     "data": {
      "text/plain": [
       "(20756, 58, 1501)"
      ]
     },
     "execution_count": 18,
     "metadata": {},
     "output_type": "execute_result"
    }
   ],
   "source": [
    "e.shape"
   ]
  },
  {
   "cell_type": "code",
   "execution_count": 19,
   "id": "e10e2d6a",
   "metadata": {},
   "outputs": [],
   "source": [
    "en = e[:1000]"
   ]
  },
  {
   "cell_type": "code",
   "execution_count": 20,
   "id": "f00840c8",
   "metadata": {},
   "outputs": [
    {
     "data": {
      "text/plain": [
       "(1000, 58, 1501)"
      ]
     },
     "execution_count": 20,
     "metadata": {},
     "output_type": "execute_result"
    }
   ],
   "source": [
    "en.shape"
   ]
  },
  {
   "cell_type": "code",
   "execution_count": 21,
   "id": "434efdb2",
   "metadata": {},
   "outputs": [],
   "source": [
    "pickle.dump(en, open(\"n_normal_sesimic_50hz.pkl\", \"wb\"))"
   ]
  },
  {
   "cell_type": "code",
   "execution_count": null,
   "id": "3268a7c0",
   "metadata": {},
   "outputs": [],
   "source": []
  },
  {
   "cell_type": "code",
   "execution_count": null,
   "id": "72927789",
   "metadata": {},
   "outputs": [],
   "source": []
  }
 ],
 "metadata": {
  "kernelspec": {
   "display_name": "myenv",
   "language": "python",
   "name": "myenv"
  },
  "language_info": {
   "codemirror_mode": {
    "name": "ipython",
    "version": 3
   },
   "file_extension": ".py",
   "mimetype": "text/x-python",
   "name": "python",
   "nbconvert_exporter": "python",
   "pygments_lexer": "ipython3",
   "version": "3.9.5"
  }
 },
 "nbformat": 4,
 "nbformat_minor": 5
}
